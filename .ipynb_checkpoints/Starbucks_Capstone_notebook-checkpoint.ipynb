{
 "cells": [
  {
   "cell_type": "markdown",
   "metadata": {},
   "source": [
    "# Starbucks Capstone Challenge\n",
    "\n",
    "### Introduction\n",
    "\n",
    "This data set contains simulated data that mimics customer behavior on the Starbucks rewards mobile app. Once every few days, Starbucks sends out an offer to users of the mobile app. An offer can be merely an advertisement for a drink or an actual offer such as a discount or BOGO (buy one get one free). Some users might not receive any offer during certain weeks. \n",
    "\n",
    "Not all users receive the same offer, and that is the challenge to solve with this data set.\n",
    "\n",
    "Your task is to combine transaction, demographic and offer data to determine which demographic groups respond best to which offer type. This data set is a simplified version of the real Starbucks app because the underlying simulator only has one product whereas Starbucks actually sells dozens of products.\n",
    "\n",
    "Every offer has a validity period before the offer expires. As an example, a BOGO offer might be valid for only 5 days. You'll see in the data set that informational offers have a validity period even though these ads are merely providing information about a product; for example, if an informational offer has 7 days of validity, you can assume the customer is feeling the influence of the offer for 7 days after receiving the advertisement.\n",
    "\n",
    "You'll be given transactional data showing user purchases made on the app including the timestamp of purchase and the amount of money spent on a purchase. This transactional data also has a record for each offer that a user receives as well as a record for when a user actually views the offer. There are also records for when a user completes an offer. \n",
    "\n",
    "Keep in mind as well that someone using the app might make a purchase through the app without having received an offer or seen an offer.\n",
    "\n",
    "### Example\n",
    "\n",
    "To give an example, a user could receive a discount offer buy 10 dollars get 2 off on Monday. The offer is valid for 10 days from receipt. If the customer accumulates at least 10 dollars in purchases during the validity period, the customer completes the offer.\n",
    "\n",
    "However, there are a few things to watch out for in this data set. Customers do not opt into the offers that they receive; in other words, a user can receive an offer, never actually view the offer, and still complete the offer. For example, a user might receive the \"buy 10 dollars get 2 dollars off offer\", but the user never opens the offer during the 10 day validity period. The customer spends 15 dollars during those ten days. There will be an offer completion record in the data set; however, the customer was not influenced by the offer because the customer never viewed the offer.\n",
    "\n",
    "### Cleaning\n",
    "\n",
    "This makes data cleaning especially important and tricky.\n",
    "\n",
    "You'll also want to take into account that some demographic groups will make purchases even if they don't receive an offer. From a business perspective, if a customer is going to make a 10 dollar purchase without an offer anyway, you wouldn't want to send a buy 10 dollars get 2 dollars off offer. You'll want to try to assess what a certain demographic group will buy when not receiving any offers.\n",
    "\n",
    "### Final Advice\n",
    "\n",
    "Because this is a capstone project, you are free to analyze the data any way you see fit. For example, you could build a machine learning model that predicts how much someone will spend based on demographics and offer type. Or you could build a model that predicts whether or not someone will respond to an offer. Or, you don't need to build a machine learning model at all. You could develop a set of heuristics that determine what offer you should send to each customer (i.e., 75 percent of women customers who were 35 years old responded to offer A vs 40 percent from the same demographic to offer B, so send offer A)."
   ]
  },
  {
   "cell_type": "markdown",
   "metadata": {},
   "source": [
    "# Data Sets\n",
    "\n",
    "The data is contained in three files:\n",
    "\n",
    "* portfolio.json - containing offer ids and meta data about each offer (duration, type, etc.)\n",
    "* profile.json - demographic data for each customer\n",
    "* transcript.json - records for transactions, offers received, offers viewed, and offers completed\n",
    "\n",
    "Here is the schema and explanation of each variable in the files:\n",
    "\n",
    "**portfolio.json**\n",
    "* id (string) - offer id\n",
    "* offer_type (string) - type of offer ie BOGO, discount, informational\n",
    "* difficulty (int) - minimum required spend to complete an offer\n",
    "* reward (int) - reward given for completing an offer\n",
    "* duration (int) - time for offer to be open, in days\n",
    "* channels (list of strings)\n",
    "\n",
    "**profile.json**\n",
    "* age (int) - age of the customer \n",
    "* became_member_on (int) - date when customer created an app account\n",
    "* gender (str) - gender of the customer (note some entries contain 'O' for other rather than M or F)\n",
    "* id (str) - customer id\n",
    "* income (float) - customer's income\n",
    "\n",
    "**transcript.json**\n",
    "* event (str) - record description (ie transaction, offer received, offer viewed, etc.)\n",
    "* person (str) - customer id\n",
    "* time (int) - time in hours since start of test. The data begins at time t=0\n",
    "* value - (dict of strings) - either an offer id or transaction amount depending on the record\n"
   ]
  },
  {
   "cell_type": "code",
   "execution_count": 1,
   "metadata": {},
   "outputs": [],
   "source": [
    "import pandas as pd\n",
    "import numpy as np\n",
    "import math\n",
    "import json\n",
    "from matplotlib import pyplot as plt\n",
    "import seaborn as sns\n",
    "import datetime\n",
    "\n",
    "import sqlalchemy as db\n",
    "from sqlalchemy import create_engine\n",
    "\n",
    "from sklearn.preprocessing import KBinsDiscretizer\n",
    "from sklearn.ensemble import RandomForestClassifier\n",
    "from sklearn.ensemble import RandomForestRegressor\n",
    "from sklearn.model_selection import train_test_split\n",
    "from sklearn.tree import DecisionTreeRegressor\n",
    "from sklearn.metrics import classification_report\n",
    "from sklearn.pipeline import Pipeline, FeatureUnion\n",
    "from sklearn.base import BaseEstimator, TransformerMixin\n",
    "from sklearn.model_selection import GridSearchCV\n",
    "from sklearn.metrics import r2_score\n",
    "from sklearn import tree\n",
    "\n",
    "from helper_functions.helper import merge_trans_portfolio, k_bin_discretizer, get_dummy, create_channel_dummy, clean_data_per_offer, transform_by_person, transform_by_person_offer, store_data, load_data, get_final_training_df, get_clean_data, merge_trans_profile\n",
    "from helper_functions.ml_functions import evaluate_model, build_model_Classification, build_model_Regression\n",
    "%matplotlib inline\n",
    "\n",
    "# read in the json files\n",
    "portfolio = pd.read_json('data/portfolio.json', orient='records', lines=True)\n",
    "profile = pd.read_json('data/profile.json', orient='records', lines=True)\n",
    "transcript = pd.read_json('data/transcript.json', orient='records', lines=True)"
   ]
  },
  {
   "cell_type": "markdown",
   "metadata": {},
   "source": [
    "# Data preparation basic\n",
    "## portfolio"
   ]
  },
  {
   "cell_type": "code",
   "execution_count": 3,
   "metadata": {},
   "outputs": [
    {
     "data": {
      "text/html": [
       "<div>\n",
       "<style scoped>\n",
       "    .dataframe tbody tr th:only-of-type {\n",
       "        vertical-align: middle;\n",
       "    }\n",
       "\n",
       "    .dataframe tbody tr th {\n",
       "        vertical-align: top;\n",
       "    }\n",
       "\n",
       "    .dataframe thead th {\n",
       "        text-align: right;\n",
       "    }\n",
       "</style>\n",
       "<table border=\"1\" class=\"dataframe\">\n",
       "  <thead>\n",
       "    <tr style=\"text-align: right;\">\n",
       "      <th></th>\n",
       "      <th>reward</th>\n",
       "      <th>channels</th>\n",
       "      <th>difficulty</th>\n",
       "      <th>duration</th>\n",
       "      <th>offer_type</th>\n",
       "      <th>id</th>\n",
       "    </tr>\n",
       "  </thead>\n",
       "  <tbody>\n",
       "    <tr>\n",
       "      <th>0</th>\n",
       "      <td>10</td>\n",
       "      <td>[email, mobile, social]</td>\n",
       "      <td>10</td>\n",
       "      <td>7</td>\n",
       "      <td>bogo</td>\n",
       "      <td>ae264e3637204a6fb9bb56bc8210ddfd</td>\n",
       "    </tr>\n",
       "    <tr>\n",
       "      <th>1</th>\n",
       "      <td>10</td>\n",
       "      <td>[web, email, mobile, social]</td>\n",
       "      <td>10</td>\n",
       "      <td>5</td>\n",
       "      <td>bogo</td>\n",
       "      <td>4d5c57ea9a6940dd891ad53e9dbe8da0</td>\n",
       "    </tr>\n",
       "    <tr>\n",
       "      <th>2</th>\n",
       "      <td>0</td>\n",
       "      <td>[web, email, mobile]</td>\n",
       "      <td>0</td>\n",
       "      <td>4</td>\n",
       "      <td>informational</td>\n",
       "      <td>3f207df678b143eea3cee63160fa8bed</td>\n",
       "    </tr>\n",
       "    <tr>\n",
       "      <th>3</th>\n",
       "      <td>5</td>\n",
       "      <td>[web, email, mobile]</td>\n",
       "      <td>5</td>\n",
       "      <td>7</td>\n",
       "      <td>bogo</td>\n",
       "      <td>9b98b8c7a33c4b65b9aebfe6a799e6d9</td>\n",
       "    </tr>\n",
       "    <tr>\n",
       "      <th>4</th>\n",
       "      <td>5</td>\n",
       "      <td>[web, email]</td>\n",
       "      <td>20</td>\n",
       "      <td>10</td>\n",
       "      <td>discount</td>\n",
       "      <td>0b1e1539f2cc45b7b9fa7c272da2e1d7</td>\n",
       "    </tr>\n",
       "  </tbody>\n",
       "</table>\n",
       "</div>"
      ],
      "text/plain": [
       "   reward                      channels  difficulty  duration     offer_type  \\\n",
       "0      10       [email, mobile, social]          10         7           bogo   \n",
       "1      10  [web, email, mobile, social]          10         5           bogo   \n",
       "2       0          [web, email, mobile]           0         4  informational   \n",
       "3       5          [web, email, mobile]           5         7           bogo   \n",
       "4       5                  [web, email]          20        10       discount   \n",
       "\n",
       "                                 id  \n",
       "0  ae264e3637204a6fb9bb56bc8210ddfd  \n",
       "1  4d5c57ea9a6940dd891ad53e9dbe8da0  \n",
       "2  3f207df678b143eea3cee63160fa8bed  \n",
       "3  9b98b8c7a33c4b65b9aebfe6a799e6d9  \n",
       "4  0b1e1539f2cc45b7b9fa7c272da2e1d7  "
      ]
     },
     "execution_count": 3,
     "metadata": {},
     "output_type": "execute_result"
    }
   ],
   "source": [
    "portfolio.head()"
   ]
  },
  {
   "cell_type": "code",
   "execution_count": 11,
   "metadata": {},
   "outputs": [
    {
     "name": "stdout",
     "output_type": "stream",
     "text": [
      "<class 'pandas.core.frame.DataFrame'>\n",
      "RangeIndex: 10 entries, 0 to 9\n",
      "Data columns (total 6 columns):\n",
      " #   Column      Non-Null Count  Dtype \n",
      "---  ------      --------------  ----- \n",
      " 0   reward      10 non-null     int64 \n",
      " 1   channels    10 non-null     object\n",
      " 2   difficulty  10 non-null     int64 \n",
      " 3   duration    10 non-null     int64 \n",
      " 4   offer_type  10 non-null     object\n",
      " 5   id          10 non-null     object\n",
      "dtypes: int64(3), object(3)\n",
      "memory usage: 608.0+ bytes\n"
     ]
    }
   ],
   "source": [
    "#Check, if there are any NULL values in Portfolio\n",
    "portfolio.info()"
   ]
  },
  {
   "cell_type": "code",
   "execution_count": 12,
   "metadata": {},
   "outputs": [
    {
     "data": {
      "text/html": [
       "<div>\n",
       "<style scoped>\n",
       "    .dataframe tbody tr th:only-of-type {\n",
       "        vertical-align: middle;\n",
       "    }\n",
       "\n",
       "    .dataframe tbody tr th {\n",
       "        vertical-align: top;\n",
       "    }\n",
       "\n",
       "    .dataframe thead th {\n",
       "        text-align: right;\n",
       "    }\n",
       "</style>\n",
       "<table border=\"1\" class=\"dataframe\">\n",
       "  <thead>\n",
       "    <tr style=\"text-align: right;\">\n",
       "      <th></th>\n",
       "      <th>id</th>\n",
       "      <th>offer_type</th>\n",
       "      <th>reward</th>\n",
       "      <th>duration</th>\n",
       "      <th>difficulty</th>\n",
       "      <th>channels</th>\n",
       "    </tr>\n",
       "  </thead>\n",
       "  <tbody>\n",
       "    <tr>\n",
       "      <th>0</th>\n",
       "      <td>ae264e3637204a6fb9bb56bc8210ddfd</td>\n",
       "      <td>bogo</td>\n",
       "      <td>10</td>\n",
       "      <td>7</td>\n",
       "      <td>10</td>\n",
       "      <td>[email, mobile, social]</td>\n",
       "    </tr>\n",
       "    <tr>\n",
       "      <th>1</th>\n",
       "      <td>4d5c57ea9a6940dd891ad53e9dbe8da0</td>\n",
       "      <td>bogo</td>\n",
       "      <td>10</td>\n",
       "      <td>5</td>\n",
       "      <td>10</td>\n",
       "      <td>[web, email, mobile, social]</td>\n",
       "    </tr>\n",
       "    <tr>\n",
       "      <th>2</th>\n",
       "      <td>3f207df678b143eea3cee63160fa8bed</td>\n",
       "      <td>informational</td>\n",
       "      <td>0</td>\n",
       "      <td>4</td>\n",
       "      <td>0</td>\n",
       "      <td>[web, email, mobile]</td>\n",
       "    </tr>\n",
       "    <tr>\n",
       "      <th>3</th>\n",
       "      <td>9b98b8c7a33c4b65b9aebfe6a799e6d9</td>\n",
       "      <td>bogo</td>\n",
       "      <td>5</td>\n",
       "      <td>7</td>\n",
       "      <td>5</td>\n",
       "      <td>[web, email, mobile]</td>\n",
       "    </tr>\n",
       "    <tr>\n",
       "      <th>4</th>\n",
       "      <td>0b1e1539f2cc45b7b9fa7c272da2e1d7</td>\n",
       "      <td>discount</td>\n",
       "      <td>5</td>\n",
       "      <td>10</td>\n",
       "      <td>20</td>\n",
       "      <td>[web, email]</td>\n",
       "    </tr>\n",
       "    <tr>\n",
       "      <th>5</th>\n",
       "      <td>2298d6c36e964ae4a3e7e9706d1fb8c2</td>\n",
       "      <td>discount</td>\n",
       "      <td>3</td>\n",
       "      <td>7</td>\n",
       "      <td>7</td>\n",
       "      <td>[web, email, mobile, social]</td>\n",
       "    </tr>\n",
       "    <tr>\n",
       "      <th>6</th>\n",
       "      <td>fafdcd668e3743c1bb461111dcafc2a4</td>\n",
       "      <td>discount</td>\n",
       "      <td>2</td>\n",
       "      <td>10</td>\n",
       "      <td>10</td>\n",
       "      <td>[web, email, mobile, social]</td>\n",
       "    </tr>\n",
       "    <tr>\n",
       "      <th>7</th>\n",
       "      <td>5a8bc65990b245e5a138643cd4eb9837</td>\n",
       "      <td>informational</td>\n",
       "      <td>0</td>\n",
       "      <td>3</td>\n",
       "      <td>0</td>\n",
       "      <td>[email, mobile, social]</td>\n",
       "    </tr>\n",
       "    <tr>\n",
       "      <th>8</th>\n",
       "      <td>f19421c1d4aa40978ebb69ca19b0e20d</td>\n",
       "      <td>bogo</td>\n",
       "      <td>5</td>\n",
       "      <td>5</td>\n",
       "      <td>5</td>\n",
       "      <td>[web, email, mobile, social]</td>\n",
       "    </tr>\n",
       "    <tr>\n",
       "      <th>9</th>\n",
       "      <td>2906b810c7d4411798c6938adc9daaa5</td>\n",
       "      <td>discount</td>\n",
       "      <td>2</td>\n",
       "      <td>7</td>\n",
       "      <td>10</td>\n",
       "      <td>[web, email, mobile]</td>\n",
       "    </tr>\n",
       "  </tbody>\n",
       "</table>\n",
       "</div>"
      ],
      "text/plain": [
       "                                 id     offer_type  reward  duration  \\\n",
       "0  ae264e3637204a6fb9bb56bc8210ddfd           bogo      10         7   \n",
       "1  4d5c57ea9a6940dd891ad53e9dbe8da0           bogo      10         5   \n",
       "2  3f207df678b143eea3cee63160fa8bed  informational       0         4   \n",
       "3  9b98b8c7a33c4b65b9aebfe6a799e6d9           bogo       5         7   \n",
       "4  0b1e1539f2cc45b7b9fa7c272da2e1d7       discount       5        10   \n",
       "5  2298d6c36e964ae4a3e7e9706d1fb8c2       discount       3         7   \n",
       "6  fafdcd668e3743c1bb461111dcafc2a4       discount       2        10   \n",
       "7  5a8bc65990b245e5a138643cd4eb9837  informational       0         3   \n",
       "8  f19421c1d4aa40978ebb69ca19b0e20d           bogo       5         5   \n",
       "9  2906b810c7d4411798c6938adc9daaa5       discount       2         7   \n",
       "\n",
       "   difficulty                      channels  \n",
       "0          10       [email, mobile, social]  \n",
       "1          10  [web, email, mobile, social]  \n",
       "2           0          [web, email, mobile]  \n",
       "3           5          [web, email, mobile]  \n",
       "4          20                  [web, email]  \n",
       "5           7  [web, email, mobile, social]  \n",
       "6          10  [web, email, mobile, social]  \n",
       "7           0       [email, mobile, social]  \n",
       "8           5  [web, email, mobile, social]  \n",
       "9          10          [web, email, mobile]  "
      ]
     },
     "execution_count": 12,
     "metadata": {},
     "output_type": "execute_result"
    }
   ],
   "source": [
    "portfolio[['id', 'offer_type', 'reward', 'duration', 'difficulty', 'channels']]"
   ]
  },
  {
   "cell_type": "code",
   "execution_count": 13,
   "metadata": {},
   "outputs": [],
   "source": [
    "# create dummy columns from channels\n",
    "\n",
    "portfolio = create_channel_dummy(portfolio)"
   ]
  },
  {
   "cell_type": "code",
   "execution_count": 14,
   "metadata": {},
   "outputs": [
    {
     "data": {
      "text/plain": [
       "{'bogo', 'discount', 'informational'}"
      ]
     },
     "execution_count": 14,
     "metadata": {},
     "output_type": "execute_result"
    }
   ],
   "source": [
    "set(portfolio.offer_type)"
   ]
  },
  {
   "cell_type": "code",
   "execution_count": 15,
   "metadata": {},
   "outputs": [],
   "source": [
    "# create dummy columns from channels\n",
    "\n",
    "portfolio = get_dummy(portfolio, 'offer_type')\n",
    "portfolio = get_dummy(portfolio, 'reward', drop_col = False)\n",
    "portfolio = get_dummy(portfolio, 'difficulty', drop_col = False)"
   ]
  },
  {
   "cell_type": "code",
   "execution_count": 16,
   "metadata": {},
   "outputs": [
    {
     "data": {
      "text/html": [
       "<div>\n",
       "<style scoped>\n",
       "    .dataframe tbody tr th:only-of-type {\n",
       "        vertical-align: middle;\n",
       "    }\n",
       "\n",
       "    .dataframe tbody tr th {\n",
       "        vertical-align: top;\n",
       "    }\n",
       "\n",
       "    .dataframe thead th {\n",
       "        text-align: right;\n",
       "    }\n",
       "</style>\n",
       "<table border=\"1\" class=\"dataframe\">\n",
       "  <thead>\n",
       "    <tr style=\"text-align: right;\">\n",
       "      <th></th>\n",
       "      <th>reward</th>\n",
       "      <th>channels</th>\n",
       "      <th>difficulty</th>\n",
       "      <th>duration</th>\n",
       "      <th>id</th>\n",
       "      <th>web</th>\n",
       "      <th>mobile</th>\n",
       "      <th>social</th>\n",
       "      <th>email</th>\n",
       "      <th>offer_type_bogo</th>\n",
       "      <th>...</th>\n",
       "      <th>reward_0</th>\n",
       "      <th>reward_2</th>\n",
       "      <th>reward_3</th>\n",
       "      <th>reward_5</th>\n",
       "      <th>reward_10</th>\n",
       "      <th>difficulty_0</th>\n",
       "      <th>difficulty_5</th>\n",
       "      <th>difficulty_7</th>\n",
       "      <th>difficulty_10</th>\n",
       "      <th>difficulty_20</th>\n",
       "    </tr>\n",
       "  </thead>\n",
       "  <tbody>\n",
       "    <tr>\n",
       "      <th>0</th>\n",
       "      <td>10</td>\n",
       "      <td>[email, mobile, social]</td>\n",
       "      <td>10</td>\n",
       "      <td>7</td>\n",
       "      <td>ae264e3637204a6fb9bb56bc8210ddfd</td>\n",
       "      <td>0</td>\n",
       "      <td>1</td>\n",
       "      <td>1</td>\n",
       "      <td>1</td>\n",
       "      <td>1</td>\n",
       "      <td>...</td>\n",
       "      <td>0</td>\n",
       "      <td>0</td>\n",
       "      <td>0</td>\n",
       "      <td>0</td>\n",
       "      <td>1</td>\n",
       "      <td>0</td>\n",
       "      <td>0</td>\n",
       "      <td>0</td>\n",
       "      <td>1</td>\n",
       "      <td>0</td>\n",
       "    </tr>\n",
       "    <tr>\n",
       "      <th>1</th>\n",
       "      <td>10</td>\n",
       "      <td>[web, email, mobile, social]</td>\n",
       "      <td>10</td>\n",
       "      <td>5</td>\n",
       "      <td>4d5c57ea9a6940dd891ad53e9dbe8da0</td>\n",
       "      <td>1</td>\n",
       "      <td>1</td>\n",
       "      <td>1</td>\n",
       "      <td>1</td>\n",
       "      <td>1</td>\n",
       "      <td>...</td>\n",
       "      <td>0</td>\n",
       "      <td>0</td>\n",
       "      <td>0</td>\n",
       "      <td>0</td>\n",
       "      <td>1</td>\n",
       "      <td>0</td>\n",
       "      <td>0</td>\n",
       "      <td>0</td>\n",
       "      <td>1</td>\n",
       "      <td>0</td>\n",
       "    </tr>\n",
       "    <tr>\n",
       "      <th>2</th>\n",
       "      <td>0</td>\n",
       "      <td>[web, email, mobile]</td>\n",
       "      <td>0</td>\n",
       "      <td>4</td>\n",
       "      <td>3f207df678b143eea3cee63160fa8bed</td>\n",
       "      <td>1</td>\n",
       "      <td>1</td>\n",
       "      <td>0</td>\n",
       "      <td>1</td>\n",
       "      <td>0</td>\n",
       "      <td>...</td>\n",
       "      <td>1</td>\n",
       "      <td>0</td>\n",
       "      <td>0</td>\n",
       "      <td>0</td>\n",
       "      <td>0</td>\n",
       "      <td>1</td>\n",
       "      <td>0</td>\n",
       "      <td>0</td>\n",
       "      <td>0</td>\n",
       "      <td>0</td>\n",
       "    </tr>\n",
       "    <tr>\n",
       "      <th>3</th>\n",
       "      <td>5</td>\n",
       "      <td>[web, email, mobile]</td>\n",
       "      <td>5</td>\n",
       "      <td>7</td>\n",
       "      <td>9b98b8c7a33c4b65b9aebfe6a799e6d9</td>\n",
       "      <td>1</td>\n",
       "      <td>1</td>\n",
       "      <td>0</td>\n",
       "      <td>1</td>\n",
       "      <td>1</td>\n",
       "      <td>...</td>\n",
       "      <td>0</td>\n",
       "      <td>0</td>\n",
       "      <td>0</td>\n",
       "      <td>1</td>\n",
       "      <td>0</td>\n",
       "      <td>0</td>\n",
       "      <td>1</td>\n",
       "      <td>0</td>\n",
       "      <td>0</td>\n",
       "      <td>0</td>\n",
       "    </tr>\n",
       "    <tr>\n",
       "      <th>4</th>\n",
       "      <td>5</td>\n",
       "      <td>[web, email]</td>\n",
       "      <td>20</td>\n",
       "      <td>10</td>\n",
       "      <td>0b1e1539f2cc45b7b9fa7c272da2e1d7</td>\n",
       "      <td>1</td>\n",
       "      <td>0</td>\n",
       "      <td>0</td>\n",
       "      <td>1</td>\n",
       "      <td>0</td>\n",
       "      <td>...</td>\n",
       "      <td>0</td>\n",
       "      <td>0</td>\n",
       "      <td>0</td>\n",
       "      <td>1</td>\n",
       "      <td>0</td>\n",
       "      <td>0</td>\n",
       "      <td>0</td>\n",
       "      <td>0</td>\n",
       "      <td>0</td>\n",
       "      <td>1</td>\n",
       "    </tr>\n",
       "  </tbody>\n",
       "</table>\n",
       "<p>5 rows × 22 columns</p>\n",
       "</div>"
      ],
      "text/plain": [
       "   reward                      channels  difficulty  duration  \\\n",
       "0      10       [email, mobile, social]          10         7   \n",
       "1      10  [web, email, mobile, social]          10         5   \n",
       "2       0          [web, email, mobile]           0         4   \n",
       "3       5          [web, email, mobile]           5         7   \n",
       "4       5                  [web, email]          20        10   \n",
       "\n",
       "                                 id  web  mobile  social  email  \\\n",
       "0  ae264e3637204a6fb9bb56bc8210ddfd    0       1       1      1   \n",
       "1  4d5c57ea9a6940dd891ad53e9dbe8da0    1       1       1      1   \n",
       "2  3f207df678b143eea3cee63160fa8bed    1       1       0      1   \n",
       "3  9b98b8c7a33c4b65b9aebfe6a799e6d9    1       1       0      1   \n",
       "4  0b1e1539f2cc45b7b9fa7c272da2e1d7    1       0       0      1   \n",
       "\n",
       "   offer_type_bogo  ...  reward_0  reward_2  reward_3  reward_5  reward_10  \\\n",
       "0                1  ...         0         0         0         0          1   \n",
       "1                1  ...         0         0         0         0          1   \n",
       "2                0  ...         1         0         0         0          0   \n",
       "3                1  ...         0         0         0         1          0   \n",
       "4                0  ...         0         0         0         1          0   \n",
       "\n",
       "   difficulty_0  difficulty_5  difficulty_7  difficulty_10  difficulty_20  \n",
       "0             0             0             0              1              0  \n",
       "1             0             0             0              1              0  \n",
       "2             1             0             0              0              0  \n",
       "3             0             1             0              0              0  \n",
       "4             0             0             0              0              1  \n",
       "\n",
       "[5 rows x 22 columns]"
      ]
     },
     "execution_count": 16,
     "metadata": {},
     "output_type": "execute_result"
    }
   ],
   "source": [
    "portfolio.head()"
   ]
  },
  {
   "cell_type": "markdown",
   "metadata": {},
   "source": [
    "## profile"
   ]
  },
  {
   "cell_type": "code",
   "execution_count": 17,
   "metadata": {},
   "outputs": [
    {
     "data": {
      "text/html": [
       "<div>\n",
       "<style scoped>\n",
       "    .dataframe tbody tr th:only-of-type {\n",
       "        vertical-align: middle;\n",
       "    }\n",
       "\n",
       "    .dataframe tbody tr th {\n",
       "        vertical-align: top;\n",
       "    }\n",
       "\n",
       "    .dataframe thead th {\n",
       "        text-align: right;\n",
       "    }\n",
       "</style>\n",
       "<table border=\"1\" class=\"dataframe\">\n",
       "  <thead>\n",
       "    <tr style=\"text-align: right;\">\n",
       "      <th></th>\n",
       "      <th>gender</th>\n",
       "      <th>age</th>\n",
       "      <th>id</th>\n",
       "      <th>became_member_on</th>\n",
       "      <th>income</th>\n",
       "    </tr>\n",
       "  </thead>\n",
       "  <tbody>\n",
       "    <tr>\n",
       "      <th>0</th>\n",
       "      <td>None</td>\n",
       "      <td>118</td>\n",
       "      <td>68be06ca386d4c31939f3a4f0e3dd783</td>\n",
       "      <td>20170212</td>\n",
       "      <td>NaN</td>\n",
       "    </tr>\n",
       "    <tr>\n",
       "      <th>1</th>\n",
       "      <td>F</td>\n",
       "      <td>55</td>\n",
       "      <td>0610b486422d4921ae7d2bf64640c50b</td>\n",
       "      <td>20170715</td>\n",
       "      <td>112000.0</td>\n",
       "    </tr>\n",
       "    <tr>\n",
       "      <th>2</th>\n",
       "      <td>None</td>\n",
       "      <td>118</td>\n",
       "      <td>38fe809add3b4fcf9315a9694bb96ff5</td>\n",
       "      <td>20180712</td>\n",
       "      <td>NaN</td>\n",
       "    </tr>\n",
       "    <tr>\n",
       "      <th>3</th>\n",
       "      <td>F</td>\n",
       "      <td>75</td>\n",
       "      <td>78afa995795e4d85b5d9ceeca43f5fef</td>\n",
       "      <td>20170509</td>\n",
       "      <td>100000.0</td>\n",
       "    </tr>\n",
       "    <tr>\n",
       "      <th>4</th>\n",
       "      <td>None</td>\n",
       "      <td>118</td>\n",
       "      <td>a03223e636434f42ac4c3df47e8bac43</td>\n",
       "      <td>20170804</td>\n",
       "      <td>NaN</td>\n",
       "    </tr>\n",
       "  </tbody>\n",
       "</table>\n",
       "</div>"
      ],
      "text/plain": [
       "  gender  age                                id  became_member_on    income\n",
       "0   None  118  68be06ca386d4c31939f3a4f0e3dd783          20170212       NaN\n",
       "1      F   55  0610b486422d4921ae7d2bf64640c50b          20170715  112000.0\n",
       "2   None  118  38fe809add3b4fcf9315a9694bb96ff5          20180712       NaN\n",
       "3      F   75  78afa995795e4d85b5d9ceeca43f5fef          20170509  100000.0\n",
       "4   None  118  a03223e636434f42ac4c3df47e8bac43          20170804       NaN"
      ]
     },
     "execution_count": 17,
     "metadata": {},
     "output_type": "execute_result"
    }
   ],
   "source": [
    "profile.head()"
   ]
  },
  {
   "cell_type": "code",
   "execution_count": 18,
   "metadata": {},
   "outputs": [
    {
     "name": "stdout",
     "output_type": "stream",
     "text": [
      "<class 'pandas.core.frame.DataFrame'>\n",
      "RangeIndex: 17000 entries, 0 to 16999\n",
      "Data columns (total 5 columns):\n",
      " #   Column            Non-Null Count  Dtype  \n",
      "---  ------            --------------  -----  \n",
      " 0   gender            14825 non-null  object \n",
      " 1   age               17000 non-null  int64  \n",
      " 2   id                17000 non-null  object \n",
      " 3   became_member_on  17000 non-null  int64  \n",
      " 4   income            14825 non-null  float64\n",
      "dtypes: float64(1), int64(2), object(2)\n",
      "memory usage: 664.2+ KB\n"
     ]
    }
   ],
   "source": [
    "profile.info()"
   ]
  },
  {
   "cell_type": "code",
   "execution_count": 19,
   "metadata": {},
   "outputs": [
    {
     "data": {
      "text/html": [
       "<div>\n",
       "<style scoped>\n",
       "    .dataframe tbody tr th:only-of-type {\n",
       "        vertical-align: middle;\n",
       "    }\n",
       "\n",
       "    .dataframe tbody tr th {\n",
       "        vertical-align: top;\n",
       "    }\n",
       "\n",
       "    .dataframe thead th {\n",
       "        text-align: right;\n",
       "    }\n",
       "</style>\n",
       "<table border=\"1\" class=\"dataframe\">\n",
       "  <thead>\n",
       "    <tr style=\"text-align: right;\">\n",
       "      <th></th>\n",
       "      <th>age</th>\n",
       "      <th>id</th>\n",
       "    </tr>\n",
       "  </thead>\n",
       "  <tbody>\n",
       "    <tr>\n",
       "      <th>84</th>\n",
       "      <td>118</td>\n",
       "      <td>2175</td>\n",
       "    </tr>\n",
       "    <tr>\n",
       "      <th>83</th>\n",
       "      <td>101</td>\n",
       "      <td>5</td>\n",
       "    </tr>\n",
       "    <tr>\n",
       "      <th>82</th>\n",
       "      <td>100</td>\n",
       "      <td>12</td>\n",
       "    </tr>\n",
       "    <tr>\n",
       "      <th>81</th>\n",
       "      <td>99</td>\n",
       "      <td>5</td>\n",
       "    </tr>\n",
       "    <tr>\n",
       "      <th>80</th>\n",
       "      <td>98</td>\n",
       "      <td>5</td>\n",
       "    </tr>\n",
       "  </tbody>\n",
       "</table>\n",
       "</div>"
      ],
      "text/plain": [
       "    age    id\n",
       "84  118  2175\n",
       "83  101     5\n",
       "82  100    12\n",
       "81   99     5\n",
       "80   98     5"
      ]
     },
     "execution_count": 19,
     "metadata": {},
     "output_type": "execute_result"
    }
   ],
   "source": [
    "#Look at max age and the amount of customers in those groups\n",
    "profile.groupby('age', as_index = False)['id'].count().sort_values(by='age', ascending = False).head()"
   ]
  },
  {
   "cell_type": "code",
   "execution_count": 20,
   "metadata": {},
   "outputs": [
    {
     "data": {
      "text/html": [
       "<div>\n",
       "<style scoped>\n",
       "    .dataframe tbody tr th:only-of-type {\n",
       "        vertical-align: middle;\n",
       "    }\n",
       "\n",
       "    .dataframe tbody tr th {\n",
       "        vertical-align: top;\n",
       "    }\n",
       "\n",
       "    .dataframe thead th {\n",
       "        text-align: right;\n",
       "    }\n",
       "</style>\n",
       "<table border=\"1\" class=\"dataframe\">\n",
       "  <thead>\n",
       "    <tr style=\"text-align: right;\">\n",
       "      <th></th>\n",
       "      <th>age</th>\n",
       "      <th>id</th>\n",
       "    </tr>\n",
       "  </thead>\n",
       "  <tbody>\n",
       "    <tr>\n",
       "      <th>4</th>\n",
       "      <td>22</td>\n",
       "      <td>131</td>\n",
       "    </tr>\n",
       "    <tr>\n",
       "      <th>3</th>\n",
       "      <td>21</td>\n",
       "      <td>140</td>\n",
       "    </tr>\n",
       "    <tr>\n",
       "      <th>2</th>\n",
       "      <td>20</td>\n",
       "      <td>135</td>\n",
       "    </tr>\n",
       "    <tr>\n",
       "      <th>1</th>\n",
       "      <td>19</td>\n",
       "      <td>135</td>\n",
       "    </tr>\n",
       "    <tr>\n",
       "      <th>0</th>\n",
       "      <td>18</td>\n",
       "      <td>70</td>\n",
       "    </tr>\n",
       "  </tbody>\n",
       "</table>\n",
       "</div>"
      ],
      "text/plain": [
       "   age   id\n",
       "4   22  131\n",
       "3   21  140\n",
       "2   20  135\n",
       "1   19  135\n",
       "0   18   70"
      ]
     },
     "execution_count": 20,
     "metadata": {},
     "output_type": "execute_result"
    }
   ],
   "source": [
    "profile.groupby('age', as_index = False)['id'].count().sort_values(by='age', ascending = False).tail()"
   ]
  },
  {
   "cell_type": "code",
   "execution_count": 21,
   "metadata": {},
   "outputs": [
    {
     "data": {
      "text/plain": [
       "0.12794117647058822"
      ]
     },
     "execution_count": 21,
     "metadata": {},
     "output_type": "execute_result"
    }
   ],
   "source": [
    "profile[profile.age == 118].shape[0]/profile.shape[0]"
   ]
  },
  {
   "cell_type": "code",
   "execution_count": 22,
   "metadata": {},
   "outputs": [
    {
     "data": {
      "image/png": "[encoded data removed]",
      "text/plain": [
       "<Figure size 576x360 with 1 Axes>"
      ]
     },
     "metadata": {
      "needs_background": "light"
     },
     "output_type": "display_data"
    }
   ],
   "source": [
    "# Age 118 appears very often. It seems to be a technical age, not a real age. I will look into these customers in the next cells\n",
    "fig, ax = plt.subplots(figsize = (8,5))\n",
    "plt.hist(profile.age, 100)\n",
    "plt.title('histogram_ages')\n",
    "plt.savefig('images/histogram_ages.png');"
   ]
  },
  {
   "cell_type": "code",
   "execution_count": 23,
   "metadata": {},
   "outputs": [
    {
     "name": "stdout",
     "output_type": "stream",
     "text": [
      "age = 118\n",
      "<class 'pandas.core.frame.DataFrame'>\n",
      "Int64Index: 2175 entries, 0 to 16994\n",
      "Data columns (total 5 columns):\n",
      " #   Column            Non-Null Count  Dtype  \n",
      "---  ------            --------------  -----  \n",
      " 0   gender            0 non-null      object \n",
      " 1   age               2175 non-null   int64  \n",
      " 2   id                2175 non-null   object \n",
      " 3   became_member_on  2175 non-null   int64  \n",
      " 4   income            0 non-null      float64\n",
      "dtypes: float64(1), int64(2), object(2)\n",
      "memory usage: 102.0+ KB\n",
      "None\n",
      "\n",
      "age != 118\n",
      "<class 'pandas.core.frame.DataFrame'>\n",
      "Int64Index: 14825 entries, 1 to 16999\n",
      "Data columns (total 5 columns):\n",
      " #   Column            Non-Null Count  Dtype  \n",
      "---  ------            --------------  -----  \n",
      " 0   gender            14825 non-null  object \n",
      " 1   age               14825 non-null  int64  \n",
      " 2   id                14825 non-null  object \n",
      " 3   became_member_on  14825 non-null  int64  \n",
      " 4   income            14825 non-null  float64\n",
      "dtypes: float64(1), int64(2), object(2)\n",
      "memory usage: 694.9+ KB\n",
      "None\n"
     ]
    }
   ],
   "source": [
    "#Age bucket 118 is missing income and gender. All other ages do not have missing values. \n",
    "#I assume that this is due to some privacy reasons (GDPR)\n",
    "print('age = 118')\n",
    "print(profile[profile.age==118].info())\n",
    "print()\n",
    "print('age != 118')\n",
    "print(profile[profile.age!=118].info())"
   ]
  },
  {
   "cell_type": "code",
   "execution_count": 24,
   "metadata": {},
   "outputs": [
    {
     "name": "stdout",
     "output_type": "stream",
     "text": [
      "118\n"
     ]
    }
   ],
   "source": [
    "profile = k_bin_discretizer('age', profile, exclude = 118, buckets = [0, 0.1, 0.2, 0.3, 0.4, 0.5, 0.6, 0.7, 0.8, 0.9, 1])"
   ]
  },
  {
   "cell_type": "code",
   "execution_count": 25,
   "metadata": {},
   "outputs": [
    {
     "data": {
      "text/plain": [
       "array([datetime.datetime(2013, 7, 29, 0, 0),\n",
       "       datetime.datetime(2013, 7, 30, 0, 0),\n",
       "       datetime.datetime(2013, 7, 31, 0, 0), ...,\n",
       "       datetime.datetime(2018, 7, 24, 0, 0),\n",
       "       datetime.datetime(2018, 7, 25, 0, 0),\n",
       "       datetime.datetime(2018, 7, 26, 0, 0)], dtype=object)"
      ]
     },
     "execution_count": 25,
     "metadata": {},
     "output_type": "execute_result"
    }
   ],
   "source": [
    "np.unique([datetime.datetime(year=int(str(x)[0:4]), month=int(str(x)[4:6]), day=int(str(x)[6:8])) for x in profile.became_member_on])"
   ]
  },
  {
   "cell_type": "code",
   "execution_count": 26,
   "metadata": {},
   "outputs": [
    {
     "data": {
      "text/plain": [
       "array([20130729, 20130730, 20130731, ..., 20180724, 20180725, 20180726],\n",
       "      dtype=int64)"
      ]
     },
     "execution_count": 26,
     "metadata": {},
     "output_type": "execute_result"
    }
   ],
   "source": [
    "np.unique(profile.became_member_on)"
   ]
  },
  {
   "cell_type": "code",
   "execution_count": 27,
   "metadata": {},
   "outputs": [
    {
     "data": {
      "text/plain": [
       "{0, 1, 2, 3, 4, 5, 6, 7, 8, 9, 118}"
      ]
     },
     "execution_count": 27,
     "metadata": {},
     "output_type": "execute_result"
    }
   ],
   "source": [
    "set(profile.age_bucket)"
   ]
  },
  {
   "cell_type": "code",
   "execution_count": 28,
   "metadata": {},
   "outputs": [
    {
     "data": {
      "text/html": [
       "<div>\n",
       "<style scoped>\n",
       "    .dataframe tbody tr th:only-of-type {\n",
       "        vertical-align: middle;\n",
       "    }\n",
       "\n",
       "    .dataframe tbody tr th {\n",
       "        vertical-align: top;\n",
       "    }\n",
       "\n",
       "    .dataframe thead th {\n",
       "        text-align: right;\n",
       "    }\n",
       "</style>\n",
       "<table border=\"1\" class=\"dataframe\">\n",
       "  <thead>\n",
       "    <tr style=\"text-align: right;\">\n",
       "      <th></th>\n",
       "      <th>gender</th>\n",
       "      <th>age</th>\n",
       "      <th>id</th>\n",
       "      <th>became_member_on</th>\n",
       "      <th>income</th>\n",
       "      <th>age_bucket</th>\n",
       "    </tr>\n",
       "  </thead>\n",
       "  <tbody>\n",
       "    <tr>\n",
       "      <th>0</th>\n",
       "      <td>None</td>\n",
       "      <td>118</td>\n",
       "      <td>68be06ca386d4c31939f3a4f0e3dd783</td>\n",
       "      <td>20170212</td>\n",
       "      <td>NaN</td>\n",
       "      <td>118</td>\n",
       "    </tr>\n",
       "    <tr>\n",
       "      <th>1</th>\n",
       "      <td>F</td>\n",
       "      <td>55</td>\n",
       "      <td>0610b486422d4921ae7d2bf64640c50b</td>\n",
       "      <td>20170715</td>\n",
       "      <td>112000.0</td>\n",
       "      <td>4</td>\n",
       "    </tr>\n",
       "    <tr>\n",
       "      <th>2</th>\n",
       "      <td>None</td>\n",
       "      <td>118</td>\n",
       "      <td>38fe809add3b4fcf9315a9694bb96ff5</td>\n",
       "      <td>20180712</td>\n",
       "      <td>NaN</td>\n",
       "      <td>118</td>\n",
       "    </tr>\n",
       "    <tr>\n",
       "      <th>3</th>\n",
       "      <td>F</td>\n",
       "      <td>75</td>\n",
       "      <td>78afa995795e4d85b5d9ceeca43f5fef</td>\n",
       "      <td>20170509</td>\n",
       "      <td>100000.0</td>\n",
       "      <td>8</td>\n",
       "    </tr>\n",
       "    <tr>\n",
       "      <th>4</th>\n",
       "      <td>None</td>\n",
       "      <td>118</td>\n",
       "      <td>a03223e636434f42ac4c3df47e8bac43</td>\n",
       "      <td>20170804</td>\n",
       "      <td>NaN</td>\n",
       "      <td>118</td>\n",
       "    </tr>\n",
       "  </tbody>\n",
       "</table>\n",
       "</div>"
      ],
      "text/plain": [
       "  gender  age                                id  became_member_on    income  \\\n",
       "0   None  118  68be06ca386d4c31939f3a4f0e3dd783          20170212       NaN   \n",
       "1      F   55  0610b486422d4921ae7d2bf64640c50b          20170715  112000.0   \n",
       "2   None  118  38fe809add3b4fcf9315a9694bb96ff5          20180712       NaN   \n",
       "3      F   75  78afa995795e4d85b5d9ceeca43f5fef          20170509  100000.0   \n",
       "4   None  118  a03223e636434f42ac4c3df47e8bac43          20170804       NaN   \n",
       "\n",
       "  age_bucket  \n",
       "0        118  \n",
       "1          4  \n",
       "2        118  \n",
       "3          8  \n",
       "4        118  "
      ]
     },
     "execution_count": 28,
     "metadata": {},
     "output_type": "execute_result"
    }
   ],
   "source": [
    "profile.head()"
   ]
  },
  {
   "cell_type": "code",
   "execution_count": 29,
   "metadata": {},
   "outputs": [
    {
     "data": {
      "image/png": "[encoded data removed]",
      "text/plain": [
       "<Figure size 576x360 with 1 Axes>"
      ]
     },
     "metadata": {
      "needs_background": "light"
     },
     "output_type": "display_data"
    }
   ],
   "source": [
    "fig, ax = plt.subplots(figsize = (8,5))\n",
    "plt.title('customer_by_gender')\n",
    "sns.countplot(data = profile, x = 'gender')\n",
    "plt.savefig('images/customer_by_gender.png')"
   ]
  },
  {
   "cell_type": "code",
   "execution_count": 30,
   "metadata": {},
   "outputs": [
    {
     "data": {
      "image/png": "[encoded data removed]",
      "text/plain": [
       "<Figure size 576x360 with 1 Axes>"
      ]
     },
     "metadata": {
      "needs_background": "light"
     },
     "output_type": "display_data"
    }
   ],
   "source": [
    "#There are more young male customrs, than young female customers. That trend turns around the older the customer gets\n",
    "fig, ax = plt.subplots(figsize = (8,5))\n",
    "plt.title('customer_by_gender_and_gender')\n",
    "sns.countplot(data = profile, x = 'age_bucket', hue = 'gender')\n",
    "plt.savefig('images/customer_by_gender_and_gender.png')\n"
   ]
  },
  {
   "cell_type": "code",
   "execution_count": 31,
   "metadata": {},
   "outputs": [
    {
     "data": {
      "text/plain": [
       "{'F', 'M', None, 'O'}"
      ]
     },
     "execution_count": 31,
     "metadata": {},
     "output_type": "execute_result"
    }
   ],
   "source": [
    "#What gender variables are in the data frame?\n",
    "set(profile.gender)"
   ]
  },
  {
   "cell_type": "code",
   "execution_count": 32,
   "metadata": {},
   "outputs": [
    {
     "data": {
      "image/png": "[encoded data removed]",
      "text/plain": [
       "<Figure size 576x360 with 1 Axes>"
      ]
     },
     "metadata": {
      "needs_background": "light"
     },
     "output_type": "display_data"
    }
   ],
   "source": [
    "fig, ax = plt.subplots(figsize = (8,5))\n",
    "plt.title('Histogram of income by gender')\n",
    "sns.histplot(data=profile, x=\"income\", hue=\"gender\")\n",
    "plt.savefig('images/hist_by_gender.png')\n"
   ]
  },
  {
   "cell_type": "code",
   "execution_count": 33,
   "metadata": {},
   "outputs": [
    {
     "data": {
      "image/png": "[encoded data removed]",
      "text/plain": [
       "<Figure size 576x360 with 1 Axes>"
      ]
     },
     "metadata": {
      "needs_background": "light"
     },
     "output_type": "display_data"
    }
   ],
   "source": [
    "fig, ax = plt.subplots(figsize = (8,5))\n",
    "plt.title('Income boxplot by age bucket')\n",
    "sns.boxplot(data=profile, y=\"income\", x=\"age_bucket\")\n",
    "plt.savefig('images/income_by_age_bucket.png')\n"
   ]
  },
  {
   "cell_type": "markdown",
   "metadata": {},
   "source": [
    "## Transcript"
   ]
  },
  {
   "cell_type": "code",
   "execution_count": 34,
   "metadata": {},
   "outputs": [
    {
     "data": {
      "text/html": [
       "<div>\n",
       "<style scoped>\n",
       "    .dataframe tbody tr th:only-of-type {\n",
       "        vertical-align: middle;\n",
       "    }\n",
       "\n",
       "    .dataframe tbody tr th {\n",
       "        vertical-align: top;\n",
       "    }\n",
       "\n",
       "    .dataframe thead th {\n",
       "        text-align: right;\n",
       "    }\n",
       "</style>\n",
       "<table border=\"1\" class=\"dataframe\">\n",
       "  <thead>\n",
       "    <tr style=\"text-align: right;\">\n",
       "      <th></th>\n",
       "      <th>person</th>\n",
       "      <th>event</th>\n",
       "      <th>value</th>\n",
       "      <th>time</th>\n",
       "    </tr>\n",
       "  </thead>\n",
       "  <tbody>\n",
       "    <tr>\n",
       "      <th>3066</th>\n",
       "      <td>0011e0d4e6b944f998e987f904e8c1e5</td>\n",
       "      <td>offer received</td>\n",
       "      <td>{'offer id': '3f207df678b143eea3cee63160fa8bed'}</td>\n",
       "      <td>0</td>\n",
       "    </tr>\n",
       "    <tr>\n",
       "      <th>16179</th>\n",
       "      <td>0011e0d4e6b944f998e987f904e8c1e5</td>\n",
       "      <td>offer viewed</td>\n",
       "      <td>{'offer id': '3f207df678b143eea3cee63160fa8bed'}</td>\n",
       "      <td>6</td>\n",
       "    </tr>\n",
       "    <tr>\n",
       "      <th>47805</th>\n",
       "      <td>0011e0d4e6b944f998e987f904e8c1e5</td>\n",
       "      <td>transaction</td>\n",
       "      <td>{'amount': 13.49}</td>\n",
       "      <td>132</td>\n",
       "    </tr>\n",
       "    <tr>\n",
       "      <th>56298</th>\n",
       "      <td>0011e0d4e6b944f998e987f904e8c1e5</td>\n",
       "      <td>offer received</td>\n",
       "      <td>{'offer id': '2298d6c36e964ae4a3e7e9706d1fb8c2'}</td>\n",
       "      <td>168</td>\n",
       "    </tr>\n",
       "    <tr>\n",
       "      <th>75427</th>\n",
       "      <td>0011e0d4e6b944f998e987f904e8c1e5</td>\n",
       "      <td>offer viewed</td>\n",
       "      <td>{'offer id': '2298d6c36e964ae4a3e7e9706d1fb8c2'}</td>\n",
       "      <td>186</td>\n",
       "    </tr>\n",
       "    <tr>\n",
       "      <th>95421</th>\n",
       "      <td>0011e0d4e6b944f998e987f904e8c1e5</td>\n",
       "      <td>transaction</td>\n",
       "      <td>{'amount': 11.93}</td>\n",
       "      <td>252</td>\n",
       "    </tr>\n",
       "    <tr>\n",
       "      <th>95422</th>\n",
       "      <td>0011e0d4e6b944f998e987f904e8c1e5</td>\n",
       "      <td>offer completed</td>\n",
       "      <td>{'offer_id': '2298d6c36e964ae4a3e7e9706d1fb8c2...</td>\n",
       "      <td>252</td>\n",
       "    </tr>\n",
       "    <tr>\n",
       "      <th>113919</th>\n",
       "      <td>0011e0d4e6b944f998e987f904e8c1e5</td>\n",
       "      <td>offer received</td>\n",
       "      <td>{'offer id': '5a8bc65990b245e5a138643cd4eb9837'}</td>\n",
       "      <td>336</td>\n",
       "    </tr>\n",
       "    <tr>\n",
       "      <th>133370</th>\n",
       "      <td>0011e0d4e6b944f998e987f904e8c1e5</td>\n",
       "      <td>offer viewed</td>\n",
       "      <td>{'offer id': '5a8bc65990b245e5a138643cd4eb9837'}</td>\n",
       "      <td>354</td>\n",
       "    </tr>\n",
       "    <tr>\n",
       "      <th>153697</th>\n",
       "      <td>0011e0d4e6b944f998e987f904e8c1e5</td>\n",
       "      <td>offer received</td>\n",
       "      <td>{'offer id': '0b1e1539f2cc45b7b9fa7c272da2e1d7'}</td>\n",
       "      <td>408</td>\n",
       "    </tr>\n",
       "    <tr>\n",
       "      <th>177937</th>\n",
       "      <td>0011e0d4e6b944f998e987f904e8c1e5</td>\n",
       "      <td>offer viewed</td>\n",
       "      <td>{'offer id': '0b1e1539f2cc45b7b9fa7c272da2e1d7'}</td>\n",
       "      <td>432</td>\n",
       "    </tr>\n",
       "    <tr>\n",
       "      <th>204643</th>\n",
       "      <td>0011e0d4e6b944f998e987f904e8c1e5</td>\n",
       "      <td>offer received</td>\n",
       "      <td>{'offer id': '9b98b8c7a33c4b65b9aebfe6a799e6d9'}</td>\n",
       "      <td>504</td>\n",
       "    </tr>\n",
       "    <tr>\n",
       "      <th>222679</th>\n",
       "      <td>0011e0d4e6b944f998e987f904e8c1e5</td>\n",
       "      <td>offer viewed</td>\n",
       "      <td>{'offer id': '9b98b8c7a33c4b65b9aebfe6a799e6d9'}</td>\n",
       "      <td>516</td>\n",
       "    </tr>\n",
       "    <tr>\n",
       "      <th>258979</th>\n",
       "      <td>0011e0d4e6b944f998e987f904e8c1e5</td>\n",
       "      <td>transaction</td>\n",
       "      <td>{'amount': 22.05}</td>\n",
       "      <td>576</td>\n",
       "    </tr>\n",
       "    <tr>\n",
       "      <th>258980</th>\n",
       "      <td>0011e0d4e6b944f998e987f904e8c1e5</td>\n",
       "      <td>offer completed</td>\n",
       "      <td>{'offer_id': '0b1e1539f2cc45b7b9fa7c272da2e1d7...</td>\n",
       "      <td>576</td>\n",
       "    </tr>\n",
       "    <tr>\n",
       "      <th>258981</th>\n",
       "      <td>0011e0d4e6b944f998e987f904e8c1e5</td>\n",
       "      <td>offer completed</td>\n",
       "      <td>{'offer_id': '9b98b8c7a33c4b65b9aebfe6a799e6d9...</td>\n",
       "      <td>576</td>\n",
       "    </tr>\n",
       "    <tr>\n",
       "      <th>288294</th>\n",
       "      <td>0011e0d4e6b944f998e987f904e8c1e5</td>\n",
       "      <td>transaction</td>\n",
       "      <td>{'amount': 23.03}</td>\n",
       "      <td>642</td>\n",
       "    </tr>\n",
       "    <tr>\n",
       "      <th>291925</th>\n",
       "      <td>0011e0d4e6b944f998e987f904e8c1e5</td>\n",
       "      <td>transaction</td>\n",
       "      <td>{'amount': 8.96}</td>\n",
       "      <td>654</td>\n",
       "    </tr>\n",
       "  </tbody>\n",
       "</table>\n",
       "</div>"
      ],
      "text/plain": [
       "                                  person            event  \\\n",
       "3066    0011e0d4e6b944f998e987f904e8c1e5   offer received   \n",
       "16179   0011e0d4e6b944f998e987f904e8c1e5     offer viewed   \n",
       "47805   0011e0d4e6b944f998e987f904e8c1e5      transaction   \n",
       "56298   0011e0d4e6b944f998e987f904e8c1e5   offer received   \n",
       "75427   0011e0d4e6b944f998e987f904e8c1e5     offer viewed   \n",
       "95421   0011e0d4e6b944f998e987f904e8c1e5      transaction   \n",
       "95422   0011e0d4e6b944f998e987f904e8c1e5  offer completed   \n",
       "113919  0011e0d4e6b944f998e987f904e8c1e5   offer received   \n",
       "133370  0011e0d4e6b944f998e987f904e8c1e5     offer viewed   \n",
       "153697  0011e0d4e6b944f998e987f904e8c1e5   offer received   \n",
       "177937  0011e0d4e6b944f998e987f904e8c1e5     offer viewed   \n",
       "204643  0011e0d4e6b944f998e987f904e8c1e5   offer received   \n",
       "222679  0011e0d4e6b944f998e987f904e8c1e5     offer viewed   \n",
       "258979  0011e0d4e6b944f998e987f904e8c1e5      transaction   \n",
       "258980  0011e0d4e6b944f998e987f904e8c1e5  offer completed   \n",
       "258981  0011e0d4e6b944f998e987f904e8c1e5  offer completed   \n",
       "288294  0011e0d4e6b944f998e987f904e8c1e5      transaction   \n",
       "291925  0011e0d4e6b944f998e987f904e8c1e5      transaction   \n",
       "\n",
       "                                                    value  time  \n",
       "3066     {'offer id': '3f207df678b143eea3cee63160fa8bed'}     0  \n",
       "16179    {'offer id': '3f207df678b143eea3cee63160fa8bed'}     6  \n",
       "47805                                   {'amount': 13.49}   132  \n",
       "56298    {'offer id': '2298d6c36e964ae4a3e7e9706d1fb8c2'}   168  \n",
       "75427    {'offer id': '2298d6c36e964ae4a3e7e9706d1fb8c2'}   186  \n",
       "95421                                   {'amount': 11.93}   252  \n",
       "95422   {'offer_id': '2298d6c36e964ae4a3e7e9706d1fb8c2...   252  \n",
       "113919   {'offer id': '5a8bc65990b245e5a138643cd4eb9837'}   336  \n",
       "133370   {'offer id': '5a8bc65990b245e5a138643cd4eb9837'}   354  \n",
       "153697   {'offer id': '0b1e1539f2cc45b7b9fa7c272da2e1d7'}   408  \n",
       "177937   {'offer id': '0b1e1539f2cc45b7b9fa7c272da2e1d7'}   432  \n",
       "204643   {'offer id': '9b98b8c7a33c4b65b9aebfe6a799e6d9'}   504  \n",
       "222679   {'offer id': '9b98b8c7a33c4b65b9aebfe6a799e6d9'}   516  \n",
       "258979                                  {'amount': 22.05}   576  \n",
       "258980  {'offer_id': '0b1e1539f2cc45b7b9fa7c272da2e1d7...   576  \n",
       "258981  {'offer_id': '9b98b8c7a33c4b65b9aebfe6a799e6d9...   576  \n",
       "288294                                  {'amount': 23.03}   642  \n",
       "291925                                   {'amount': 8.96}   654  "
      ]
     },
     "execution_count": 34,
     "metadata": {},
     "output_type": "execute_result"
    }
   ],
   "source": [
    "transcript[transcript.person == '0011e0d4e6b944f998e987f904e8c1e5']"
   ]
  },
  {
   "cell_type": "code",
   "execution_count": 35,
   "metadata": {},
   "outputs": [
    {
     "name": "stdout",
     "output_type": "stream",
     "text": [
      "<class 'pandas.core.frame.DataFrame'>\n",
      "RangeIndex: 306534 entries, 0 to 306533\n",
      "Data columns (total 4 columns):\n",
      " #   Column  Non-Null Count   Dtype \n",
      "---  ------  --------------   ----- \n",
      " 0   person  306534 non-null  object\n",
      " 1   event   306534 non-null  object\n",
      " 2   value   306534 non-null  object\n",
      " 3   time    306534 non-null  int64 \n",
      "dtypes: int64(1), object(3)\n",
      "memory usage: 9.4+ MB\n"
     ]
    }
   ],
   "source": [
    "transcript.info()"
   ]
  },
  {
   "cell_type": "code",
   "execution_count": 36,
   "metadata": {},
   "outputs": [
    {
     "data": {
      "text/plain": [
       "{'offer completed', 'offer received', 'offer viewed', 'transaction'}"
      ]
     },
     "execution_count": 36,
     "metadata": {},
     "output_type": "execute_result"
    }
   ],
   "source": [
    "set(transcript.event)"
   ]
  },
  {
   "cell_type": "markdown",
   "metadata": {},
   "source": [
    "# Data understanding after basic"
   ]
  },
  {
   "cell_type": "code",
   "execution_count": 37,
   "metadata": {},
   "outputs": [],
   "source": [
    "df = merge_trans_portfolio(transcript, portfolio)"
   ]
  },
  {
   "cell_type": "code",
   "execution_count": 38,
   "metadata": {},
   "outputs": [
    {
     "data": {
      "text/html": [
       "<div>\n",
       "<style scoped>\n",
       "    .dataframe tbody tr th:only-of-type {\n",
       "        vertical-align: middle;\n",
       "    }\n",
       "\n",
       "    .dataframe tbody tr th {\n",
       "        vertical-align: top;\n",
       "    }\n",
       "\n",
       "    .dataframe thead th {\n",
       "        text-align: right;\n",
       "    }\n",
       "</style>\n",
       "<table border=\"1\" class=\"dataframe\">\n",
       "  <thead>\n",
       "    <tr style=\"text-align: right;\">\n",
       "      <th></th>\n",
       "      <th>person</th>\n",
       "      <th>value</th>\n",
       "      <th>time</th>\n",
       "      <th>offer_id</th>\n",
       "      <th>amount</th>\n",
       "      <th>reward_from_value</th>\n",
       "      <th>reward</th>\n",
       "      <th>channels</th>\n",
       "      <th>difficulty</th>\n",
       "      <th>duration</th>\n",
       "      <th>...</th>\n",
       "      <th>reward_0</th>\n",
       "      <th>reward_2</th>\n",
       "      <th>reward_3</th>\n",
       "      <th>reward_5</th>\n",
       "      <th>reward_10</th>\n",
       "      <th>difficulty_0</th>\n",
       "      <th>difficulty_5</th>\n",
       "      <th>difficulty_7</th>\n",
       "      <th>difficulty_10</th>\n",
       "      <th>difficulty_20</th>\n",
       "    </tr>\n",
       "  </thead>\n",
       "  <tbody>\n",
       "    <tr>\n",
       "      <th>0</th>\n",
       "      <td>78afa995795e4d85b5d9ceeca43f5fef</td>\n",
       "      <td>{'offer id': '9b98b8c7a33c4b65b9aebfe6a799e6d9'}</td>\n",
       "      <td>0.00</td>\n",
       "      <td>9b98b8c7a33c4b65b9aebfe6a799e6d9</td>\n",
       "      <td>NaN</td>\n",
       "      <td>NaN</td>\n",
       "      <td>5.0</td>\n",
       "      <td>[web, email, mobile]</td>\n",
       "      <td>5.0</td>\n",
       "      <td>7.0</td>\n",
       "      <td>...</td>\n",
       "      <td>0.0</td>\n",
       "      <td>0.0</td>\n",
       "      <td>0.0</td>\n",
       "      <td>1.0</td>\n",
       "      <td>0.0</td>\n",
       "      <td>0.0</td>\n",
       "      <td>1.0</td>\n",
       "      <td>0.0</td>\n",
       "      <td>0.0</td>\n",
       "      <td>0.0</td>\n",
       "    </tr>\n",
       "    <tr>\n",
       "      <th>15561</th>\n",
       "      <td>78afa995795e4d85b5d9ceeca43f5fef</td>\n",
       "      <td>{'offer id': '9b98b8c7a33c4b65b9aebfe6a799e6d9'}</td>\n",
       "      <td>0.25</td>\n",
       "      <td>9b98b8c7a33c4b65b9aebfe6a799e6d9</td>\n",
       "      <td>NaN</td>\n",
       "      <td>NaN</td>\n",
       "      <td>5.0</td>\n",
       "      <td>[web, email, mobile]</td>\n",
       "      <td>5.0</td>\n",
       "      <td>7.0</td>\n",
       "      <td>...</td>\n",
       "      <td>0.0</td>\n",
       "      <td>0.0</td>\n",
       "      <td>0.0</td>\n",
       "      <td>1.0</td>\n",
       "      <td>0.0</td>\n",
       "      <td>0.0</td>\n",
       "      <td>1.0</td>\n",
       "      <td>0.0</td>\n",
       "      <td>0.0</td>\n",
       "      <td>0.0</td>\n",
       "    </tr>\n",
       "    <tr>\n",
       "      <th>47582</th>\n",
       "      <td>78afa995795e4d85b5d9ceeca43f5fef</td>\n",
       "      <td>{'amount': 19.89}</td>\n",
       "      <td>5.50</td>\n",
       "      <td>None</td>\n",
       "      <td>19.89</td>\n",
       "      <td>NaN</td>\n",
       "      <td>NaN</td>\n",
       "      <td>NaN</td>\n",
       "      <td>NaN</td>\n",
       "      <td>NaN</td>\n",
       "      <td>...</td>\n",
       "      <td>NaN</td>\n",
       "      <td>NaN</td>\n",
       "      <td>NaN</td>\n",
       "      <td>NaN</td>\n",
       "      <td>NaN</td>\n",
       "      <td>NaN</td>\n",
       "      <td>NaN</td>\n",
       "      <td>NaN</td>\n",
       "      <td>NaN</td>\n",
       "      <td>NaN</td>\n",
       "    </tr>\n",
       "    <tr>\n",
       "      <th>47583</th>\n",
       "      <td>78afa995795e4d85b5d9ceeca43f5fef</td>\n",
       "      <td>{'offer_id': '9b98b8c7a33c4b65b9aebfe6a799e6d9...</td>\n",
       "      <td>5.50</td>\n",
       "      <td>9b98b8c7a33c4b65b9aebfe6a799e6d9</td>\n",
       "      <td>NaN</td>\n",
       "      <td>5.0</td>\n",
       "      <td>5.0</td>\n",
       "      <td>[web, email, mobile]</td>\n",
       "      <td>5.0</td>\n",
       "      <td>7.0</td>\n",
       "      <td>...</td>\n",
       "      <td>0.0</td>\n",
       "      <td>0.0</td>\n",
       "      <td>0.0</td>\n",
       "      <td>1.0</td>\n",
       "      <td>0.0</td>\n",
       "      <td>0.0</td>\n",
       "      <td>1.0</td>\n",
       "      <td>0.0</td>\n",
       "      <td>0.0</td>\n",
       "      <td>0.0</td>\n",
       "    </tr>\n",
       "    <tr>\n",
       "      <th>49502</th>\n",
       "      <td>78afa995795e4d85b5d9ceeca43f5fef</td>\n",
       "      <td>{'amount': 17.78}</td>\n",
       "      <td>6.00</td>\n",
       "      <td>None</td>\n",
       "      <td>17.78</td>\n",
       "      <td>NaN</td>\n",
       "      <td>NaN</td>\n",
       "      <td>NaN</td>\n",
       "      <td>NaN</td>\n",
       "      <td>NaN</td>\n",
       "      <td>...</td>\n",
       "      <td>NaN</td>\n",
       "      <td>NaN</td>\n",
       "      <td>NaN</td>\n",
       "      <td>NaN</td>\n",
       "      <td>NaN</td>\n",
       "      <td>NaN</td>\n",
       "      <td>NaN</td>\n",
       "      <td>NaN</td>\n",
       "      <td>NaN</td>\n",
       "      <td>NaN</td>\n",
       "    </tr>\n",
       "  </tbody>\n",
       "</table>\n",
       "<p>5 rows × 28 columns</p>\n",
       "</div>"
      ],
      "text/plain": [
       "                                 person  \\\n",
       "0      78afa995795e4d85b5d9ceeca43f5fef   \n",
       "15561  78afa995795e4d85b5d9ceeca43f5fef   \n",
       "47582  78afa995795e4d85b5d9ceeca43f5fef   \n",
       "47583  78afa995795e4d85b5d9ceeca43f5fef   \n",
       "49502  78afa995795e4d85b5d9ceeca43f5fef   \n",
       "\n",
       "                                                   value  time  \\\n",
       "0       {'offer id': '9b98b8c7a33c4b65b9aebfe6a799e6d9'}  0.00   \n",
       "15561   {'offer id': '9b98b8c7a33c4b65b9aebfe6a799e6d9'}  0.25   \n",
       "47582                                  {'amount': 19.89}  5.50   \n",
       "47583  {'offer_id': '9b98b8c7a33c4b65b9aebfe6a799e6d9...  5.50   \n",
       "49502                                  {'amount': 17.78}  6.00   \n",
       "\n",
       "                               offer_id  amount  reward_from_value  reward  \\\n",
       "0      9b98b8c7a33c4b65b9aebfe6a799e6d9     NaN                NaN     5.0   \n",
       "15561  9b98b8c7a33c4b65b9aebfe6a799e6d9     NaN                NaN     5.0   \n",
       "47582                              None   19.89                NaN     NaN   \n",
       "47583  9b98b8c7a33c4b65b9aebfe6a799e6d9     NaN                5.0     5.0   \n",
       "49502                              None   17.78                NaN     NaN   \n",
       "\n",
       "                   channels  difficulty  duration  ... reward_0  reward_2  \\\n",
       "0      [web, email, mobile]         5.0       7.0  ...      0.0       0.0   \n",
       "15561  [web, email, mobile]         5.0       7.0  ...      0.0       0.0   \n",
       "47582                   NaN         NaN       NaN  ...      NaN       NaN   \n",
       "47583  [web, email, mobile]         5.0       7.0  ...      0.0       0.0   \n",
       "49502                   NaN         NaN       NaN  ...      NaN       NaN   \n",
       "\n",
       "       reward_3  reward_5  reward_10  difficulty_0  difficulty_5  \\\n",
       "0           0.0       1.0        0.0           0.0           1.0   \n",
       "15561       0.0       1.0        0.0           0.0           1.0   \n",
       "47582       NaN       NaN        NaN           NaN           NaN   \n",
       "47583       0.0       1.0        0.0           0.0           1.0   \n",
       "49502       NaN       NaN        NaN           NaN           NaN   \n",
       "\n",
       "       difficulty_7  difficulty_10  difficulty_20  \n",
       "0               0.0            0.0            0.0  \n",
       "15561           0.0            0.0            0.0  \n",
       "47582           NaN            NaN            NaN  \n",
       "47583           0.0            0.0            0.0  \n",
       "49502           NaN            NaN            NaN  \n",
       "\n",
       "[5 rows x 28 columns]"
      ]
     },
     "execution_count": 38,
     "metadata": {},
     "output_type": "execute_result"
    }
   ],
   "source": [
    "df[df.person =='78afa995795e4d85b5d9ceeca43f5fef'].drop(columns = 'event').head()"
   ]
  },
  {
   "cell_type": "code",
   "execution_count": 39,
   "metadata": {},
   "outputs": [
    {
     "name": "stdout",
     "output_type": "stream",
     "text": [
      "17000\n",
      "17000\n",
      "17000\n"
     ]
    }
   ],
   "source": [
    "print(profile.id.nunique())\n",
    "print(transcript.person.nunique())\n",
    "print(df.person.nunique())"
   ]
  },
  {
   "cell_type": "markdown",
   "metadata": {},
   "source": [
    "**Not everyone received the same amount of offers. Some people received the same offer several times, while others didn't get an offer at all**"
   ]
  },
  {
   "cell_type": "code",
   "execution_count": 40,
   "metadata": {},
   "outputs": [
    {
     "data": {
      "text/plain": [
       "offer_id\n",
       "0b1e1539f2cc45b7b9fa7c272da2e1d7    6374\n",
       "2298d6c36e964ae4a3e7e9706d1fb8c2    6325\n",
       "2906b810c7d4411798c6938adc9daaa5    6285\n",
       "3f207df678b143eea3cee63160fa8bed    6331\n",
       "4d5c57ea9a6940dd891ad53e9dbe8da0    6330\n",
       "5a8bc65990b245e5a138643cd4eb9837    6320\n",
       "9b98b8c7a33c4b65b9aebfe6a799e6d9    6355\n",
       "ae264e3637204a6fb9bb56bc8210ddfd    6374\n",
       "f19421c1d4aa40978ebb69ca19b0e20d    6262\n",
       "fafdcd668e3743c1bb461111dcafc2a4    6332\n",
       "Name: person, dtype: int64"
      ]
     },
     "execution_count": 40,
     "metadata": {},
     "output_type": "execute_result"
    }
   ],
   "source": [
    "#Each offer was sent to how many unique people?\n",
    "df[(df.event == 'offer received')].groupby('offer_id')['person'].nunique()"
   ]
  },
  {
   "cell_type": "code",
   "execution_count": 41,
   "metadata": {},
   "outputs": [
    {
     "data": {
      "text/plain": [
       "offer_id\n",
       "0b1e1539f2cc45b7b9fa7c272da2e1d7    7668\n",
       "2298d6c36e964ae4a3e7e9706d1fb8c2    7646\n",
       "2906b810c7d4411798c6938adc9daaa5    7632\n",
       "3f207df678b143eea3cee63160fa8bed    7617\n",
       "4d5c57ea9a6940dd891ad53e9dbe8da0    7593\n",
       "5a8bc65990b245e5a138643cd4eb9837    7618\n",
       "9b98b8c7a33c4b65b9aebfe6a799e6d9    7677\n",
       "ae264e3637204a6fb9bb56bc8210ddfd    7658\n",
       "f19421c1d4aa40978ebb69ca19b0e20d    7571\n",
       "fafdcd668e3743c1bb461111dcafc2a4    7597\n",
       "Name: person, dtype: int64"
      ]
     },
     "execution_count": 41,
     "metadata": {},
     "output_type": "execute_result"
    }
   ],
   "source": [
    "#Each offer was sent how often?\n",
    "df[(df.event == 'offer received')].groupby('offer_id')['person'].count()"
   ]
  },
  {
   "cell_type": "code",
   "execution_count": 42,
   "metadata": {},
   "outputs": [
    {
     "data": {
      "text/plain": [
       "Index(['person', 'event', 'value', 'time', 'offer_id', 'amount',\n",
       "       'reward_from_value', 'reward', 'channels', 'difficulty', 'duration',\n",
       "       'id', 'web', 'mobile', 'social', 'email', 'offer_type_bogo',\n",
       "       'offer_type_discount', 'offer_type_informational', 'reward_0',\n",
       "       'reward_2', 'reward_3', 'reward_5', 'reward_10', 'difficulty_0',\n",
       "       'difficulty_5', 'difficulty_7', 'difficulty_10', 'difficulty_20'],\n",
       "      dtype='object')"
      ]
     },
     "execution_count": 42,
     "metadata": {},
     "output_type": "execute_result"
    }
   ],
   "source": [
    "df.columns"
   ]
  },
  {
   "cell_type": "markdown",
   "metadata": {},
   "source": [
    "**Only 6 people did not receive any offer. This means that I do not have a holdout group to compare against.**"
   ]
  },
  {
   "cell_type": "code",
   "execution_count": 43,
   "metadata": {},
   "outputs": [
    {
     "data": {
      "image/png": "[encoded data removed]",
      "text/plain": [
       "<Figure size 576x360 with 1 Axes>"
      ]
     },
     "metadata": {
      "needs_background": "light"
     },
     "output_type": "display_data"
    }
   ],
   "source": [
    "#How many unique offers did a person receive? from 0 to 6\n",
    "offers_per_person = df.groupby('person', as_index = False)['offer_id'].nunique().sort_values(by = 'offer_id',ascending= False)\n",
    "offers_per_person = offers_per_person.rename(columns ={'offer_id': 'offers_per_person'}) \n",
    "fig, ax = plt.subplots(figsize = (8,5))\n",
    "plt.title('unique offers per person')\n",
    "sns.countplot(data = offers_per_person, x='offers_per_person')\n",
    "ax.set_title('unique offers per person')\n",
    "plt.savefig('images/unique_offers_per_person.png')\n",
    "\n"
   ]
  },
  {
   "cell_type": "code",
   "execution_count": 44,
   "metadata": {},
   "outputs": [
    {
     "data": {
      "image/png": "[encoded data removed]",
      "text/plain": [
       "<Figure size 576x360 with 1 Axes>"
      ]
     },
     "metadata": {
      "needs_background": "light"
     },
     "output_type": "display_data"
    }
   ],
   "source": [
    "#How many offers did a person receive? from 0 to 6\n",
    "#df.groupby('key1')['key2'].apply(lambda x: x[x == 'one'].count())\n",
    "offers_per_person = df.groupby(['person'], as_index = False)['event'].apply(lambda x: x[x == 'offer received'].count()).sort_values(by = 'event',ascending= False)\n",
    "offers_per_person = offers_per_person.rename(columns ={'event': 'offers_per_person'}) \n",
    "\n",
    "fig, ax = plt.subplots(figsize = (8,5))\n",
    "sns.countplot(data = offers_per_person, x='offers_per_person')\n",
    "ax.set_title('offers per person')\n",
    "plt.savefig('images/offers_per_person.png')"
   ]
  },
  {
   "cell_type": "markdown",
   "metadata": {},
   "source": [
    "**Also the offers were sent randomly, such that each offer was sent at approx. the same frequency per time. This means that it does not makes sense to look at \"offer paths\". Initially I thought that it might be interesting to look at the order at which a customer received offers. But there are 13727 unique offer paths for 17000 people**"
   ]
  },
  {
   "cell_type": "code",
   "execution_count": 45,
   "metadata": {},
   "outputs": [
    {
     "data": {
      "image/png": "[encoded data removed]",
      "text/plain": [
       "<Figure size 720x288 with 1 Axes>"
      ]
     },
     "metadata": {
      "needs_background": "light"
     },
     "output_type": "display_data"
    }
   ],
   "source": [
    "offer_times = df[(df.event == 'offer received')].groupby(['offer_id','time'], as_index = False)['person'].count()\n",
    "#There are only 6 time slots where an offer was sent. Exactly every week 1\n",
    "fig, (ax) = plt.subplots(1,1, figsize = (10,4))\n",
    "plt.title('distribution of offers sent per time')\n",
    "sns.barplot(data = offer_times, x = 'time', y='person', hue = 'offer_id')\n",
    "plt.legend(bbox_to_anchor=(1.4, 1), loc='upper right', borderaxespad=0)\n",
    "plt.savefig('images/offers_per_time.png')"
   ]
  },
  {
   "cell_type": "code",
   "execution_count": 38,
   "metadata": {},
   "outputs": [
    {
     "data": {
      "text/plain": [
       "13727"
      ]
     },
     "execution_count": 38,
     "metadata": {},
     "output_type": "execute_result"
    }
   ],
   "source": [
    "#Create received_order\n",
    "paths = df[df.event == 'offer received'].groupby(['person'], as_index = False)['offer_id'].apply(lambda x: ' > '.join(x))\n",
    "paths = paths.rename(columns = {'offer_id':'path'})\n",
    "paths.path.nunique()"
   ]
  },
  {
   "cell_type": "markdown",
   "metadata": {},
   "source": [
    "**Two offers are 'problematic' as they are valid 10 days and not 7 days. This can lead to an overlapping effect. I will map each transaction to an offer. If there are overlapping running offers I will mark that and assign only a shared amount of the transaction value to the offer**"
   ]
  },
  {
   "cell_type": "code",
   "execution_count": 39,
   "metadata": {},
   "outputs": [
    {
     "data": {
      "text/plain": [
       "offer_id                          duration\n",
       "0b1e1539f2cc45b7b9fa7c272da2e1d7  10.0        7668\n",
       "2298d6c36e964ae4a3e7e9706d1fb8c2  7.0         7646\n",
       "2906b810c7d4411798c6938adc9daaa5  7.0         7632\n",
       "3f207df678b143eea3cee63160fa8bed  4.0         7617\n",
       "4d5c57ea9a6940dd891ad53e9dbe8da0  5.0         7593\n",
       "5a8bc65990b245e5a138643cd4eb9837  3.0         7618\n",
       "9b98b8c7a33c4b65b9aebfe6a799e6d9  7.0         7677\n",
       "ae264e3637204a6fb9bb56bc8210ddfd  7.0         7658\n",
       "f19421c1d4aa40978ebb69ca19b0e20d  5.0         7571\n",
       "fafdcd668e3743c1bb461111dcafc2a4  10.0        7597\n",
       "Name: person, dtype: int64"
      ]
     },
     "execution_count": 39,
     "metadata": {},
     "output_type": "execute_result"
    }
   ],
   "source": [
    "#Two offers are 'problematic' as they are valid 10 days and not 7 days. This can lead to an overlapping effect\n",
    "df[(df.event == 'offer received')].groupby(['offer_id','duration'])['person'].count()"
   ]
  },
  {
   "cell_type": "markdown",
   "metadata": {},
   "source": [
    "## Get temporary dataframe before grouping\n",
    "\n",
    "**This dataframe will help me to generate one final data frame which contains one row per customer and information about what offer, how many offers and how many active and passive transactions that customer had. It contains the same amount of rows as the original transcript df with additional columns**\n",
    "\n",
    "\n",
    "**Some definition**\n",
    "1. I define a transaction or a reward as **active**, if the customer has viewed the offer and if the offer is still valid\n",
    "2. I define a transaction or a reward as **passive**, if the customer has not viewed the offer and if the offer is still valid\n",
    "\n",
    "**Basic idea**\n",
    "I want to know what person gets activated on what offer. I also want to understand how much we loose based on rewards payed to passive transactions. What kind of person gets rewards, but has actually never seen the offers? This is lost money.\n",
    "\n",
    "**Additional columns of temporary dataframe. For each offer id create the following set of columns**\n",
    "* **id_start_time** - shows time of offer received from the moment it was received. Consecutive rows have the same number. Once an offer is completed I set this to 500. If the same offer is sent a second time this shows the new start_time\n",
    "* **id_duration** - As above logic but for the duration\n",
    "* **id_age** - Age of the offer = time - id_start_time --> Important in order to know if an offer is still valid\n",
    "* **id_is_valid** - 1 where age <= duration, 0 else\n",
    "* **id_viewed_time** - shows time of offer viewed from the moment it was viewed. coonsecutive logic is as in id_start_time. This is important to define, if a transaction and a reward was active or passive\n",
    "* **id_is_active** - id_viewed_time - id_start_time <= id_duration\n",
    "* **id_active_transaction** - Amount of transaction, if transaction was active = viewed\n",
    "* **id_passive_transaction** - Amount of transaction, if transaction was passive = not viewed, but valid!\n",
    "* **social** - 1 if offer was active = viewed and came through Social Media\n",
    "* **email**  - see above\n",
    "* **mobile** - see above\n",
    "* **web** - see above\n",
    "* **reward_help_column** - reward of completed offer but backfilled to the previous rows\n",
    "* **id_active_reward** - reward_help_column * id_is_active\n",
    "* **id_passive_reward** - reward_help_column * (~id_is_active)\n",
    "\n",
    "**Additional columns (not offer specific)**\n",
    "* **active_offers_simul** - Sum of active offers at the same time\n",
    "* **valid_offers_simul** -  Sum of valid offers at the same time\n",
    "* **independent_transaction** - value of transaction, which was done during a time, where no offer was running"
   ]
  },
  {
   "cell_type": "code",
   "execution_count": 48,
   "metadata": {},
   "outputs": [
    {
     "name": "stdout",
     "output_type": "stream",
     "text": [
      "9b98b8c7a33c4b65b9aebfe6a799e6d9\n",
      "0b1e1539f2cc45b7b9fa7c272da2e1d7\n",
      "2906b810c7d4411798c6938adc9daaa5\n",
      "fafdcd668e3743c1bb461111dcafc2a4\n",
      "4d5c57ea9a6940dd891ad53e9dbe8da0\n",
      "f19421c1d4aa40978ebb69ca19b0e20d\n",
      "2298d6c36e964ae4a3e7e9706d1fb8c2\n",
      "3f207df678b143eea3cee63160fa8bed\n",
      "ae264e3637204a6fb9bb56bc8210ddfd\n",
      "5a8bc65990b245e5a138643cd4eb9837\n"
     ]
    }
   ],
   "source": [
    "transcript_df = merge_trans_portfolio(transcript, portfolio)\n",
    "transcript_df_new = get_clean_data(transcript_df)\n",
    "transcript_df_final = merge_trans_profile(transcript_df_new, profile)"
   ]
  },
  {
   "cell_type": "code",
   "execution_count": 49,
   "metadata": {},
   "outputs": [
    {
     "data": {
      "text/html": [
       "<div>\n",
       "<style scoped>\n",
       "    .dataframe tbody tr th:only-of-type {\n",
       "        vertical-align: middle;\n",
       "    }\n",
       "\n",
       "    .dataframe tbody tr th {\n",
       "        vertical-align: top;\n",
       "    }\n",
       "\n",
       "    .dataframe thead th {\n",
       "        text-align: right;\n",
       "    }\n",
       "</style>\n",
       "<table border=\"1\" class=\"dataframe\">\n",
       "  <thead>\n",
       "    <tr style=\"text-align: right;\">\n",
       "      <th></th>\n",
       "      <th>person</th>\n",
       "      <th>event</th>\n",
       "      <th>value</th>\n",
       "      <th>time</th>\n",
       "      <th>offer_id</th>\n",
       "      <th>amount</th>\n",
       "      <th>reward_from_value</th>\n",
       "      <th>reward</th>\n",
       "      <th>channels</th>\n",
       "      <th>difficulty</th>\n",
       "      <th>...</th>\n",
       "      <th>no_valid_offer_running</th>\n",
       "      <th>independent_transaction</th>\n",
       "      <th>passive_sum</th>\n",
       "      <th>active_sum</th>\n",
       "      <th>gender</th>\n",
       "      <th>age</th>\n",
       "      <th>id_y</th>\n",
       "      <th>became_member_on</th>\n",
       "      <th>income</th>\n",
       "      <th>age_bucket</th>\n",
       "    </tr>\n",
       "  </thead>\n",
       "  <tbody>\n",
       "    <tr>\n",
       "      <th>0</th>\n",
       "      <td>78afa995795e4d85b5d9ceeca43f5fef</td>\n",
       "      <td>offer received</td>\n",
       "      <td>{'offer id': '9b98b8c7a33c4b65b9aebfe6a799e6d9'}</td>\n",
       "      <td>0.0</td>\n",
       "      <td>9b98b8c7a33c4b65b9aebfe6a799e6d9</td>\n",
       "      <td>NaN</td>\n",
       "      <td>NaN</td>\n",
       "      <td>5.0</td>\n",
       "      <td>[web, email, mobile]</td>\n",
       "      <td>5.0</td>\n",
       "      <td>...</td>\n",
       "      <td>0</td>\n",
       "      <td>NaN</td>\n",
       "      <td>0.0</td>\n",
       "      <td>0.0</td>\n",
       "      <td>F</td>\n",
       "      <td>75</td>\n",
       "      <td>78afa995795e4d85b5d9ceeca43f5fef</td>\n",
       "      <td>20170509</td>\n",
       "      <td>100000.0</td>\n",
       "      <td>8</td>\n",
       "    </tr>\n",
       "    <tr>\n",
       "      <th>1</th>\n",
       "      <td>a03223e636434f42ac4c3df47e8bac43</td>\n",
       "      <td>offer received</td>\n",
       "      <td>{'offer id': '0b1e1539f2cc45b7b9fa7c272da2e1d7'}</td>\n",
       "      <td>0.0</td>\n",
       "      <td>0b1e1539f2cc45b7b9fa7c272da2e1d7</td>\n",
       "      <td>NaN</td>\n",
       "      <td>NaN</td>\n",
       "      <td>5.0</td>\n",
       "      <td>[web, email]</td>\n",
       "      <td>20.0</td>\n",
       "      <td>...</td>\n",
       "      <td>0</td>\n",
       "      <td>NaN</td>\n",
       "      <td>0.0</td>\n",
       "      <td>0.0</td>\n",
       "      <td>None</td>\n",
       "      <td>118</td>\n",
       "      <td>a03223e636434f42ac4c3df47e8bac43</td>\n",
       "      <td>20170804</td>\n",
       "      <td>NaN</td>\n",
       "      <td>118</td>\n",
       "    </tr>\n",
       "    <tr>\n",
       "      <th>2</th>\n",
       "      <td>e2127556f4f64592b11af22de27a7932</td>\n",
       "      <td>offer received</td>\n",
       "      <td>{'offer id': '2906b810c7d4411798c6938adc9daaa5'}</td>\n",
       "      <td>0.0</td>\n",
       "      <td>2906b810c7d4411798c6938adc9daaa5</td>\n",
       "      <td>NaN</td>\n",
       "      <td>NaN</td>\n",
       "      <td>2.0</td>\n",
       "      <td>[web, email, mobile]</td>\n",
       "      <td>10.0</td>\n",
       "      <td>...</td>\n",
       "      <td>0</td>\n",
       "      <td>NaN</td>\n",
       "      <td>0.0</td>\n",
       "      <td>0.0</td>\n",
       "      <td>M</td>\n",
       "      <td>68</td>\n",
       "      <td>e2127556f4f64592b11af22de27a7932</td>\n",
       "      <td>20180426</td>\n",
       "      <td>70000.0</td>\n",
       "      <td>7</td>\n",
       "    </tr>\n",
       "    <tr>\n",
       "      <th>3</th>\n",
       "      <td>8ec6ce2a7e7949b1bf142def7d0e0586</td>\n",
       "      <td>offer received</td>\n",
       "      <td>{'offer id': 'fafdcd668e3743c1bb461111dcafc2a4'}</td>\n",
       "      <td>0.0</td>\n",
       "      <td>fafdcd668e3743c1bb461111dcafc2a4</td>\n",
       "      <td>NaN</td>\n",
       "      <td>NaN</td>\n",
       "      <td>2.0</td>\n",
       "      <td>[web, email, mobile, social]</td>\n",
       "      <td>10.0</td>\n",
       "      <td>...</td>\n",
       "      <td>0</td>\n",
       "      <td>NaN</td>\n",
       "      <td>0.0</td>\n",
       "      <td>0.0</td>\n",
       "      <td>None</td>\n",
       "      <td>118</td>\n",
       "      <td>8ec6ce2a7e7949b1bf142def7d0e0586</td>\n",
       "      <td>20170925</td>\n",
       "      <td>NaN</td>\n",
       "      <td>118</td>\n",
       "    </tr>\n",
       "    <tr>\n",
       "      <th>4</th>\n",
       "      <td>68617ca6246f4fbc85e91a2a49552598</td>\n",
       "      <td>offer received</td>\n",
       "      <td>{'offer id': '4d5c57ea9a6940dd891ad53e9dbe8da0'}</td>\n",
       "      <td>0.0</td>\n",
       "      <td>4d5c57ea9a6940dd891ad53e9dbe8da0</td>\n",
       "      <td>NaN</td>\n",
       "      <td>NaN</td>\n",
       "      <td>10.0</td>\n",
       "      <td>[web, email, mobile, social]</td>\n",
       "      <td>10.0</td>\n",
       "      <td>...</td>\n",
       "      <td>0</td>\n",
       "      <td>NaN</td>\n",
       "      <td>0.0</td>\n",
       "      <td>0.0</td>\n",
       "      <td>None</td>\n",
       "      <td>118</td>\n",
       "      <td>68617ca6246f4fbc85e91a2a49552598</td>\n",
       "      <td>20171002</td>\n",
       "      <td>NaN</td>\n",
       "      <td>118</td>\n",
       "    </tr>\n",
       "  </tbody>\n",
       "</table>\n",
       "<p>5 rows × 322 columns</p>\n",
       "</div>"
      ],
      "text/plain": [
       "                             person           event  \\\n",
       "0  78afa995795e4d85b5d9ceeca43f5fef  offer received   \n",
       "1  a03223e636434f42ac4c3df47e8bac43  offer received   \n",
       "2  e2127556f4f64592b11af22de27a7932  offer received   \n",
       "3  8ec6ce2a7e7949b1bf142def7d0e0586  offer received   \n",
       "4  68617ca6246f4fbc85e91a2a49552598  offer received   \n",
       "\n",
       "                                              value  time  \\\n",
       "0  {'offer id': '9b98b8c7a33c4b65b9aebfe6a799e6d9'}   0.0   \n",
       "1  {'offer id': '0b1e1539f2cc45b7b9fa7c272da2e1d7'}   0.0   \n",
       "2  {'offer id': '2906b810c7d4411798c6938adc9daaa5'}   0.0   \n",
       "3  {'offer id': 'fafdcd668e3743c1bb461111dcafc2a4'}   0.0   \n",
       "4  {'offer id': '4d5c57ea9a6940dd891ad53e9dbe8da0'}   0.0   \n",
       "\n",
       "                           offer_id  amount  reward_from_value  reward  \\\n",
       "0  9b98b8c7a33c4b65b9aebfe6a799e6d9     NaN                NaN     5.0   \n",
       "1  0b1e1539f2cc45b7b9fa7c272da2e1d7     NaN                NaN     5.0   \n",
       "2  2906b810c7d4411798c6938adc9daaa5     NaN                NaN     2.0   \n",
       "3  fafdcd668e3743c1bb461111dcafc2a4     NaN                NaN     2.0   \n",
       "4  4d5c57ea9a6940dd891ad53e9dbe8da0     NaN                NaN    10.0   \n",
       "\n",
       "                       channels  difficulty  ...  no_valid_offer_running  \\\n",
       "0          [web, email, mobile]         5.0  ...                       0   \n",
       "1                  [web, email]        20.0  ...                       0   \n",
       "2          [web, email, mobile]        10.0  ...                       0   \n",
       "3  [web, email, mobile, social]        10.0  ...                       0   \n",
       "4  [web, email, mobile, social]        10.0  ...                       0   \n",
       "\n",
       "  independent_transaction  passive_sum  active_sum  gender  age  \\\n",
       "0                     NaN          0.0         0.0       F   75   \n",
       "1                     NaN          0.0         0.0    None  118   \n",
       "2                     NaN          0.0         0.0       M   68   \n",
       "3                     NaN          0.0         0.0    None  118   \n",
       "4                     NaN          0.0         0.0    None  118   \n",
       "\n",
       "                               id_y  became_member_on    income  age_bucket  \n",
       "0  78afa995795e4d85b5d9ceeca43f5fef          20170509  100000.0           8  \n",
       "1  a03223e636434f42ac4c3df47e8bac43          20170804       NaN         118  \n",
       "2  e2127556f4f64592b11af22de27a7932          20180426   70000.0           7  \n",
       "3  8ec6ce2a7e7949b1bf142def7d0e0586          20170925       NaN         118  \n",
       "4  68617ca6246f4fbc85e91a2a49552598          20171002       NaN         118  \n",
       "\n",
       "[5 rows x 322 columns]"
      ]
     },
     "execution_count": 49,
     "metadata": {},
     "output_type": "execute_result"
    }
   ],
   "source": [
    "transcript_df_final.head()"
   ]
  },
  {
   "cell_type": "code",
   "execution_count": 50,
   "metadata": {},
   "outputs": [
    {
     "data": {
      "text/plain": [
       "['person',\n",
       " 'event',\n",
       " 'value',\n",
       " 'time',\n",
       " 'offer_id',\n",
       " 'amount',\n",
       " 'reward_from_value',\n",
       " 'reward',\n",
       " 'channels',\n",
       " 'difficulty',\n",
       " 'duration',\n",
       " 'id_x',\n",
       " 'social',\n",
       " 'web',\n",
       " 'mobile',\n",
       " 'email',\n",
       " 'offer_type_bogo',\n",
       " 'offer_type_discount',\n",
       " 'offer_type_informational',\n",
       " 'reward_0',\n",
       " 'reward_2',\n",
       " 'reward_3',\n",
       " 'reward_5',\n",
       " 'reward_10',\n",
       " 'difficulty_0',\n",
       " 'difficulty_5',\n",
       " 'difficulty_7',\n",
       " 'difficulty_10',\n",
       " 'difficulty_20',\n",
       " 'id_start_time_9b98b8c7a33c4b65b9aebfe6a799e6d9',\n",
       " 'id_duration_9b98b8c7a33c4b65b9aebfe6a799e6d9',\n",
       " 'id_age_9b98b8c7a33c4b65b9aebfe6a799e6d9',\n",
       " 'id_is_valid_9b98b8c7a33c4b65b9aebfe6a799e6d9',\n",
       " 'id_received_9b98b8c7a33c4b65b9aebfe6a799e6d9',\n",
       " 'id_viewed_time_9b98b8c7a33c4b65b9aebfe6a799e6d9',\n",
       " 'id_is_active_9b98b8c7a33c4b65b9aebfe6a799e6d9',\n",
       " 'id_active_transaction_9b98b8c7a33c4b65b9aebfe6a799e6d9',\n",
       " 'id_passive_transaction_9b98b8c7a33c4b65b9aebfe6a799e6d9',\n",
       " 'social_9b98b8c7a33c4b65b9aebfe6a799e6d9',\n",
       " 'email_9b98b8c7a33c4b65b9aebfe6a799e6d9',\n",
       " 'mobile_9b98b8c7a33c4b65b9aebfe6a799e6d9',\n",
       " 'web_9b98b8c7a33c4b65b9aebfe6a799e6d9',\n",
       " 'offer_type_bogo_9b98b8c7a33c4b65b9aebfe6a799e6d9',\n",
       " 'offer_type_discount_9b98b8c7a33c4b65b9aebfe6a799e6d9',\n",
       " 'offer_type_informational_9b98b8c7a33c4b65b9aebfe6a799e6d9',\n",
       " 'reward_0_9b98b8c7a33c4b65b9aebfe6a799e6d9',\n",
       " 'reward_2_9b98b8c7a33c4b65b9aebfe6a799e6d9',\n",
       " 'reward_3_9b98b8c7a33c4b65b9aebfe6a799e6d9',\n",
       " 'reward_5_9b98b8c7a33c4b65b9aebfe6a799e6d9',\n",
       " 'reward_10_9b98b8c7a33c4b65b9aebfe6a799e6d9',\n",
       " 'difficulty_0_9b98b8c7a33c4b65b9aebfe6a799e6d9',\n",
       " 'difficulty_5_9b98b8c7a33c4b65b9aebfe6a799e6d9',\n",
       " 'difficulty_7_9b98b8c7a33c4b65b9aebfe6a799e6d9',\n",
       " 'difficulty_10_9b98b8c7a33c4b65b9aebfe6a799e6d9',\n",
       " 'difficulty_20_9b98b8c7a33c4b65b9aebfe6a799e6d9',\n",
       " 'reward_help_column',\n",
       " 'id_active_reward_9b98b8c7a33c4b65b9aebfe6a799e6d9',\n",
       " 'id_passive_reward_9b98b8c7a33c4b65b9aebfe6a799e6d9',\n",
       " 'id_start_time_0b1e1539f2cc45b7b9fa7c272da2e1d7',\n",
       " 'id_duration_0b1e1539f2cc45b7b9fa7c272da2e1d7',\n",
       " 'id_age_0b1e1539f2cc45b7b9fa7c272da2e1d7',\n",
       " 'id_is_valid_0b1e1539f2cc45b7b9fa7c272da2e1d7',\n",
       " 'id_received_0b1e1539f2cc45b7b9fa7c272da2e1d7',\n",
       " 'id_viewed_time_0b1e1539f2cc45b7b9fa7c272da2e1d7',\n",
       " 'id_is_active_0b1e1539f2cc45b7b9fa7c272da2e1d7',\n",
       " 'id_active_transaction_0b1e1539f2cc45b7b9fa7c272da2e1d7',\n",
       " 'id_passive_transaction_0b1e1539f2cc45b7b9fa7c272da2e1d7',\n",
       " 'social_0b1e1539f2cc45b7b9fa7c272da2e1d7',\n",
       " 'email_0b1e1539f2cc45b7b9fa7c272da2e1d7',\n",
       " 'mobile_0b1e1539f2cc45b7b9fa7c272da2e1d7',\n",
       " 'web_0b1e1539f2cc45b7b9fa7c272da2e1d7',\n",
       " 'offer_type_bogo_0b1e1539f2cc45b7b9fa7c272da2e1d7',\n",
       " 'offer_type_discount_0b1e1539f2cc45b7b9fa7c272da2e1d7',\n",
       " 'offer_type_informational_0b1e1539f2cc45b7b9fa7c272da2e1d7',\n",
       " 'reward_0_0b1e1539f2cc45b7b9fa7c272da2e1d7',\n",
       " 'reward_2_0b1e1539f2cc45b7b9fa7c272da2e1d7',\n",
       " 'reward_3_0b1e1539f2cc45b7b9fa7c272da2e1d7',\n",
       " 'reward_5_0b1e1539f2cc45b7b9fa7c272da2e1d7',\n",
       " 'reward_10_0b1e1539f2cc45b7b9fa7c272da2e1d7',\n",
       " 'difficulty_0_0b1e1539f2cc45b7b9fa7c272da2e1d7',\n",
       " 'difficulty_5_0b1e1539f2cc45b7b9fa7c272da2e1d7',\n",
       " 'difficulty_7_0b1e1539f2cc45b7b9fa7c272da2e1d7',\n",
       " 'difficulty_10_0b1e1539f2cc45b7b9fa7c272da2e1d7',\n",
       " 'difficulty_20_0b1e1539f2cc45b7b9fa7c272da2e1d7',\n",
       " 'id_active_reward_0b1e1539f2cc45b7b9fa7c272da2e1d7',\n",
       " 'id_passive_reward_0b1e1539f2cc45b7b9fa7c272da2e1d7',\n",
       " 'id_start_time_2906b810c7d4411798c6938adc9daaa5',\n",
       " 'id_duration_2906b810c7d4411798c6938adc9daaa5',\n",
       " 'id_age_2906b810c7d4411798c6938adc9daaa5',\n",
       " 'id_is_valid_2906b810c7d4411798c6938adc9daaa5',\n",
       " 'id_received_2906b810c7d4411798c6938adc9daaa5',\n",
       " 'id_viewed_time_2906b810c7d4411798c6938adc9daaa5',\n",
       " 'id_is_active_2906b810c7d4411798c6938adc9daaa5',\n",
       " 'id_active_transaction_2906b810c7d4411798c6938adc9daaa5',\n",
       " 'id_passive_transaction_2906b810c7d4411798c6938adc9daaa5',\n",
       " 'social_2906b810c7d4411798c6938adc9daaa5',\n",
       " 'email_2906b810c7d4411798c6938adc9daaa5',\n",
       " 'mobile_2906b810c7d4411798c6938adc9daaa5',\n",
       " 'web_2906b810c7d4411798c6938adc9daaa5',\n",
       " 'offer_type_bogo_2906b810c7d4411798c6938adc9daaa5',\n",
       " 'offer_type_discount_2906b810c7d4411798c6938adc9daaa5',\n",
       " 'offer_type_informational_2906b810c7d4411798c6938adc9daaa5',\n",
       " 'reward_0_2906b810c7d4411798c6938adc9daaa5',\n",
       " 'reward_2_2906b810c7d4411798c6938adc9daaa5',\n",
       " 'reward_3_2906b810c7d4411798c6938adc9daaa5',\n",
       " 'reward_5_2906b810c7d4411798c6938adc9daaa5',\n",
       " 'reward_10_2906b810c7d4411798c6938adc9daaa5',\n",
       " 'difficulty_0_2906b810c7d4411798c6938adc9daaa5',\n",
       " 'difficulty_5_2906b810c7d4411798c6938adc9daaa5',\n",
       " 'difficulty_7_2906b810c7d4411798c6938adc9daaa5',\n",
       " 'difficulty_10_2906b810c7d4411798c6938adc9daaa5',\n",
       " 'difficulty_20_2906b810c7d4411798c6938adc9daaa5',\n",
       " 'id_active_reward_2906b810c7d4411798c6938adc9daaa5',\n",
       " 'id_passive_reward_2906b810c7d4411798c6938adc9daaa5',\n",
       " 'id_start_time_fafdcd668e3743c1bb461111dcafc2a4',\n",
       " 'id_duration_fafdcd668e3743c1bb461111dcafc2a4',\n",
       " 'id_age_fafdcd668e3743c1bb461111dcafc2a4',\n",
       " 'id_is_valid_fafdcd668e3743c1bb461111dcafc2a4',\n",
       " 'id_received_fafdcd668e3743c1bb461111dcafc2a4',\n",
       " 'id_viewed_time_fafdcd668e3743c1bb461111dcafc2a4',\n",
       " 'id_is_active_fafdcd668e3743c1bb461111dcafc2a4',\n",
       " 'id_active_transaction_fafdcd668e3743c1bb461111dcafc2a4',\n",
       " 'id_passive_transaction_fafdcd668e3743c1bb461111dcafc2a4',\n",
       " 'social_fafdcd668e3743c1bb461111dcafc2a4',\n",
       " 'email_fafdcd668e3743c1bb461111dcafc2a4',\n",
       " 'mobile_fafdcd668e3743c1bb461111dcafc2a4',\n",
       " 'web_fafdcd668e3743c1bb461111dcafc2a4',\n",
       " 'offer_type_bogo_fafdcd668e3743c1bb461111dcafc2a4',\n",
       " 'offer_type_discount_fafdcd668e3743c1bb461111dcafc2a4',\n",
       " 'offer_type_informational_fafdcd668e3743c1bb461111dcafc2a4',\n",
       " 'reward_0_fafdcd668e3743c1bb461111dcafc2a4',\n",
       " 'reward_2_fafdcd668e3743c1bb461111dcafc2a4',\n",
       " 'reward_3_fafdcd668e3743c1bb461111dcafc2a4',\n",
       " 'reward_5_fafdcd668e3743c1bb461111dcafc2a4',\n",
       " 'reward_10_fafdcd668e3743c1bb461111dcafc2a4',\n",
       " 'difficulty_0_fafdcd668e3743c1bb461111dcafc2a4',\n",
       " 'difficulty_5_fafdcd668e3743c1bb461111dcafc2a4',\n",
       " 'difficulty_7_fafdcd668e3743c1bb461111dcafc2a4',\n",
       " 'difficulty_10_fafdcd668e3743c1bb461111dcafc2a4',\n",
       " 'difficulty_20_fafdcd668e3743c1bb461111dcafc2a4',\n",
       " 'id_active_reward_fafdcd668e3743c1bb461111dcafc2a4',\n",
       " 'id_passive_reward_fafdcd668e3743c1bb461111dcafc2a4',\n",
       " 'id_start_time_4d5c57ea9a6940dd891ad53e9dbe8da0',\n",
       " 'id_duration_4d5c57ea9a6940dd891ad53e9dbe8da0',\n",
       " 'id_age_4d5c57ea9a6940dd891ad53e9dbe8da0',\n",
       " 'id_is_valid_4d5c57ea9a6940dd891ad53e9dbe8da0',\n",
       " 'id_received_4d5c57ea9a6940dd891ad53e9dbe8da0',\n",
       " 'id_viewed_time_4d5c57ea9a6940dd891ad53e9dbe8da0',\n",
       " 'id_is_active_4d5c57ea9a6940dd891ad53e9dbe8da0',\n",
       " 'id_active_transaction_4d5c57ea9a6940dd891ad53e9dbe8da0',\n",
       " 'id_passive_transaction_4d5c57ea9a6940dd891ad53e9dbe8da0',\n",
       " 'social_4d5c57ea9a6940dd891ad53e9dbe8da0',\n",
       " 'email_4d5c57ea9a6940dd891ad53e9dbe8da0',\n",
       " 'mobile_4d5c57ea9a6940dd891ad53e9dbe8da0',\n",
       " 'web_4d5c57ea9a6940dd891ad53e9dbe8da0',\n",
       " 'offer_type_bogo_4d5c57ea9a6940dd891ad53e9dbe8da0',\n",
       " 'offer_type_discount_4d5c57ea9a6940dd891ad53e9dbe8da0',\n",
       " 'offer_type_informational_4d5c57ea9a6940dd891ad53e9dbe8da0',\n",
       " 'reward_0_4d5c57ea9a6940dd891ad53e9dbe8da0',\n",
       " 'reward_2_4d5c57ea9a6940dd891ad53e9dbe8da0',\n",
       " 'reward_3_4d5c57ea9a6940dd891ad53e9dbe8da0',\n",
       " 'reward_5_4d5c57ea9a6940dd891ad53e9dbe8da0',\n",
       " 'reward_10_4d5c57ea9a6940dd891ad53e9dbe8da0',\n",
       " 'difficulty_0_4d5c57ea9a6940dd891ad53e9dbe8da0',\n",
       " 'difficulty_5_4d5c57ea9a6940dd891ad53e9dbe8da0',\n",
       " 'difficulty_7_4d5c57ea9a6940dd891ad53e9dbe8da0',\n",
       " 'difficulty_10_4d5c57ea9a6940dd891ad53e9dbe8da0',\n",
       " 'difficulty_20_4d5c57ea9a6940dd891ad53e9dbe8da0',\n",
       " 'id_active_reward_4d5c57ea9a6940dd891ad53e9dbe8da0',\n",
       " 'id_passive_reward_4d5c57ea9a6940dd891ad53e9dbe8da0',\n",
       " 'id_start_time_f19421c1d4aa40978ebb69ca19b0e20d',\n",
       " 'id_duration_f19421c1d4aa40978ebb69ca19b0e20d',\n",
       " 'id_age_f19421c1d4aa40978ebb69ca19b0e20d',\n",
       " 'id_is_valid_f19421c1d4aa40978ebb69ca19b0e20d',\n",
       " 'id_received_f19421c1d4aa40978ebb69ca19b0e20d',\n",
       " 'id_viewed_time_f19421c1d4aa40978ebb69ca19b0e20d',\n",
       " 'id_is_active_f19421c1d4aa40978ebb69ca19b0e20d',\n",
       " 'id_active_transaction_f19421c1d4aa40978ebb69ca19b0e20d',\n",
       " 'id_passive_transaction_f19421c1d4aa40978ebb69ca19b0e20d',\n",
       " 'social_f19421c1d4aa40978ebb69ca19b0e20d',\n",
       " 'email_f19421c1d4aa40978ebb69ca19b0e20d',\n",
       " 'mobile_f19421c1d4aa40978ebb69ca19b0e20d',\n",
       " 'web_f19421c1d4aa40978ebb69ca19b0e20d',\n",
       " 'offer_type_bogo_f19421c1d4aa40978ebb69ca19b0e20d',\n",
       " 'offer_type_discount_f19421c1d4aa40978ebb69ca19b0e20d',\n",
       " 'offer_type_informational_f19421c1d4aa40978ebb69ca19b0e20d',\n",
       " 'reward_0_f19421c1d4aa40978ebb69ca19b0e20d',\n",
       " 'reward_2_f19421c1d4aa40978ebb69ca19b0e20d',\n",
       " 'reward_3_f19421c1d4aa40978ebb69ca19b0e20d',\n",
       " 'reward_5_f19421c1d4aa40978ebb69ca19b0e20d',\n",
       " 'reward_10_f19421c1d4aa40978ebb69ca19b0e20d',\n",
       " 'difficulty_0_f19421c1d4aa40978ebb69ca19b0e20d',\n",
       " 'difficulty_5_f19421c1d4aa40978ebb69ca19b0e20d',\n",
       " 'difficulty_7_f19421c1d4aa40978ebb69ca19b0e20d',\n",
       " 'difficulty_10_f19421c1d4aa40978ebb69ca19b0e20d',\n",
       " 'difficulty_20_f19421c1d4aa40978ebb69ca19b0e20d',\n",
       " 'id_active_reward_f19421c1d4aa40978ebb69ca19b0e20d',\n",
       " 'id_passive_reward_f19421c1d4aa40978ebb69ca19b0e20d',\n",
       " 'id_start_time_2298d6c36e964ae4a3e7e9706d1fb8c2',\n",
       " 'id_duration_2298d6c36e964ae4a3e7e9706d1fb8c2',\n",
       " 'id_age_2298d6c36e964ae4a3e7e9706d1fb8c2',\n",
       " 'id_is_valid_2298d6c36e964ae4a3e7e9706d1fb8c2',\n",
       " 'id_received_2298d6c36e964ae4a3e7e9706d1fb8c2',\n",
       " 'id_viewed_time_2298d6c36e964ae4a3e7e9706d1fb8c2',\n",
       " 'id_is_active_2298d6c36e964ae4a3e7e9706d1fb8c2',\n",
       " 'id_active_transaction_2298d6c36e964ae4a3e7e9706d1fb8c2',\n",
       " 'id_passive_transaction_2298d6c36e964ae4a3e7e9706d1fb8c2',\n",
       " 'social_2298d6c36e964ae4a3e7e9706d1fb8c2',\n",
       " 'email_2298d6c36e964ae4a3e7e9706d1fb8c2',\n",
       " 'mobile_2298d6c36e964ae4a3e7e9706d1fb8c2',\n",
       " 'web_2298d6c36e964ae4a3e7e9706d1fb8c2',\n",
       " 'offer_type_bogo_2298d6c36e964ae4a3e7e9706d1fb8c2',\n",
       " 'offer_type_discount_2298d6c36e964ae4a3e7e9706d1fb8c2',\n",
       " 'offer_type_informational_2298d6c36e964ae4a3e7e9706d1fb8c2',\n",
       " 'reward_0_2298d6c36e964ae4a3e7e9706d1fb8c2',\n",
       " 'reward_2_2298d6c36e964ae4a3e7e9706d1fb8c2',\n",
       " 'reward_3_2298d6c36e964ae4a3e7e9706d1fb8c2',\n",
       " 'reward_5_2298d6c36e964ae4a3e7e9706d1fb8c2',\n",
       " 'reward_10_2298d6c36e964ae4a3e7e9706d1fb8c2',\n",
       " 'difficulty_0_2298d6c36e964ae4a3e7e9706d1fb8c2',\n",
       " 'difficulty_5_2298d6c36e964ae4a3e7e9706d1fb8c2',\n",
       " 'difficulty_7_2298d6c36e964ae4a3e7e9706d1fb8c2',\n",
       " 'difficulty_10_2298d6c36e964ae4a3e7e9706d1fb8c2',\n",
       " 'difficulty_20_2298d6c36e964ae4a3e7e9706d1fb8c2',\n",
       " 'id_active_reward_2298d6c36e964ae4a3e7e9706d1fb8c2',\n",
       " 'id_passive_reward_2298d6c36e964ae4a3e7e9706d1fb8c2',\n",
       " 'id_start_time_3f207df678b143eea3cee63160fa8bed',\n",
       " 'id_duration_3f207df678b143eea3cee63160fa8bed',\n",
       " 'id_age_3f207df678b143eea3cee63160fa8bed',\n",
       " 'id_is_valid_3f207df678b143eea3cee63160fa8bed',\n",
       " 'id_received_3f207df678b143eea3cee63160fa8bed',\n",
       " 'id_viewed_time_3f207df678b143eea3cee63160fa8bed',\n",
       " 'id_is_active_3f207df678b143eea3cee63160fa8bed',\n",
       " 'id_active_transaction_3f207df678b143eea3cee63160fa8bed',\n",
       " 'id_passive_transaction_3f207df678b143eea3cee63160fa8bed',\n",
       " 'social_3f207df678b143eea3cee63160fa8bed',\n",
       " 'email_3f207df678b143eea3cee63160fa8bed',\n",
       " 'mobile_3f207df678b143eea3cee63160fa8bed',\n",
       " 'web_3f207df678b143eea3cee63160fa8bed',\n",
       " 'offer_type_bogo_3f207df678b143eea3cee63160fa8bed',\n",
       " 'offer_type_discount_3f207df678b143eea3cee63160fa8bed',\n",
       " 'offer_type_informational_3f207df678b143eea3cee63160fa8bed',\n",
       " 'reward_0_3f207df678b143eea3cee63160fa8bed',\n",
       " 'reward_2_3f207df678b143eea3cee63160fa8bed',\n",
       " 'reward_3_3f207df678b143eea3cee63160fa8bed',\n",
       " 'reward_5_3f207df678b143eea3cee63160fa8bed',\n",
       " 'reward_10_3f207df678b143eea3cee63160fa8bed',\n",
       " 'difficulty_0_3f207df678b143eea3cee63160fa8bed',\n",
       " 'difficulty_5_3f207df678b143eea3cee63160fa8bed',\n",
       " 'difficulty_7_3f207df678b143eea3cee63160fa8bed',\n",
       " 'difficulty_10_3f207df678b143eea3cee63160fa8bed',\n",
       " 'difficulty_20_3f207df678b143eea3cee63160fa8bed',\n",
       " 'id_active_reward_3f207df678b143eea3cee63160fa8bed',\n",
       " 'id_passive_reward_3f207df678b143eea3cee63160fa8bed',\n",
       " 'id_start_time_ae264e3637204a6fb9bb56bc8210ddfd',\n",
       " 'id_duration_ae264e3637204a6fb9bb56bc8210ddfd',\n",
       " 'id_age_ae264e3637204a6fb9bb56bc8210ddfd',\n",
       " 'id_is_valid_ae264e3637204a6fb9bb56bc8210ddfd',\n",
       " 'id_received_ae264e3637204a6fb9bb56bc8210ddfd',\n",
       " 'id_viewed_time_ae264e3637204a6fb9bb56bc8210ddfd',\n",
       " 'id_is_active_ae264e3637204a6fb9bb56bc8210ddfd',\n",
       " 'id_active_transaction_ae264e3637204a6fb9bb56bc8210ddfd',\n",
       " 'id_passive_transaction_ae264e3637204a6fb9bb56bc8210ddfd',\n",
       " 'social_ae264e3637204a6fb9bb56bc8210ddfd',\n",
       " 'email_ae264e3637204a6fb9bb56bc8210ddfd',\n",
       " 'mobile_ae264e3637204a6fb9bb56bc8210ddfd',\n",
       " 'web_ae264e3637204a6fb9bb56bc8210ddfd',\n",
       " 'offer_type_bogo_ae264e3637204a6fb9bb56bc8210ddfd',\n",
       " 'offer_type_discount_ae264e3637204a6fb9bb56bc8210ddfd',\n",
       " 'offer_type_informational_ae264e3637204a6fb9bb56bc8210ddfd',\n",
       " 'reward_0_ae264e3637204a6fb9bb56bc8210ddfd',\n",
       " 'reward_2_ae264e3637204a6fb9bb56bc8210ddfd',\n",
       " 'reward_3_ae264e3637204a6fb9bb56bc8210ddfd',\n",
       " 'reward_5_ae264e3637204a6fb9bb56bc8210ddfd',\n",
       " 'reward_10_ae264e3637204a6fb9bb56bc8210ddfd',\n",
       " 'difficulty_0_ae264e3637204a6fb9bb56bc8210ddfd',\n",
       " 'difficulty_5_ae264e3637204a6fb9bb56bc8210ddfd',\n",
       " 'difficulty_7_ae264e3637204a6fb9bb56bc8210ddfd',\n",
       " 'difficulty_10_ae264e3637204a6fb9bb56bc8210ddfd',\n",
       " 'difficulty_20_ae264e3637204a6fb9bb56bc8210ddfd',\n",
       " 'id_active_reward_ae264e3637204a6fb9bb56bc8210ddfd',\n",
       " 'id_passive_reward_ae264e3637204a6fb9bb56bc8210ddfd',\n",
       " 'id_start_time_5a8bc65990b245e5a138643cd4eb9837',\n",
       " 'id_duration_5a8bc65990b245e5a138643cd4eb9837',\n",
       " 'id_age_5a8bc65990b245e5a138643cd4eb9837',\n",
       " 'id_is_valid_5a8bc65990b245e5a138643cd4eb9837',\n",
       " 'id_received_5a8bc65990b245e5a138643cd4eb9837',\n",
       " 'id_viewed_time_5a8bc65990b245e5a138643cd4eb9837',\n",
       " 'id_is_active_5a8bc65990b245e5a138643cd4eb9837',\n",
       " 'id_active_transaction_5a8bc65990b245e5a138643cd4eb9837',\n",
       " 'id_passive_transaction_5a8bc65990b245e5a138643cd4eb9837',\n",
       " 'social_5a8bc65990b245e5a138643cd4eb9837',\n",
       " 'email_5a8bc65990b245e5a138643cd4eb9837',\n",
       " 'mobile_5a8bc65990b245e5a138643cd4eb9837',\n",
       " 'web_5a8bc65990b245e5a138643cd4eb9837',\n",
       " 'offer_type_bogo_5a8bc65990b245e5a138643cd4eb9837',\n",
       " 'offer_type_discount_5a8bc65990b245e5a138643cd4eb9837',\n",
       " 'offer_type_informational_5a8bc65990b245e5a138643cd4eb9837',\n",
       " 'reward_0_5a8bc65990b245e5a138643cd4eb9837',\n",
       " 'reward_2_5a8bc65990b245e5a138643cd4eb9837',\n",
       " 'reward_3_5a8bc65990b245e5a138643cd4eb9837',\n",
       " 'reward_5_5a8bc65990b245e5a138643cd4eb9837',\n",
       " 'reward_10_5a8bc65990b245e5a138643cd4eb9837',\n",
       " 'difficulty_0_5a8bc65990b245e5a138643cd4eb9837',\n",
       " 'difficulty_5_5a8bc65990b245e5a138643cd4eb9837',\n",
       " 'difficulty_7_5a8bc65990b245e5a138643cd4eb9837',\n",
       " 'difficulty_10_5a8bc65990b245e5a138643cd4eb9837',\n",
       " 'difficulty_20_5a8bc65990b245e5a138643cd4eb9837',\n",
       " 'id_active_reward_5a8bc65990b245e5a138643cd4eb9837',\n",
       " 'id_passive_reward_5a8bc65990b245e5a138643cd4eb9837',\n",
       " 'active_offers_simul',\n",
       " 'valid_offers_simul',\n",
       " 'no_valid_offer_running',\n",
       " 'independent_transaction',\n",
       " 'passive_sum',\n",
       " 'active_sum',\n",
       " 'gender',\n",
       " 'age',\n",
       " 'id_y',\n",
       " 'became_member_on',\n",
       " 'income',\n",
       " 'age_bucket']"
      ]
     },
     "execution_count": 50,
     "metadata": {},
     "output_type": "execute_result"
    }
   ],
   "source": [
    "list(transcript_df_final.columns)"
   ]
  },
  {
   "cell_type": "code",
   "execution_count": 51,
   "metadata": {},
   "outputs": [],
   "source": [
    "transcript_df_final.to_csv('output/Temp_file.csv', index = False)"
   ]
  },
  {
   "cell_type": "markdown",
   "metadata": {},
   "source": [
    "### These are some sense checks to make sure that \n",
    "1. active transactions + passive transations + independent transactions = total amount of transactions\n",
    "2. active rewards + passive rewards = total rewards"
   ]
  },
  {
   "cell_type": "code",
   "execution_count": 52,
   "metadata": {},
   "outputs": [
    {
     "name": "stdout",
     "output_type": "stream",
     "text": [
      "Difference between sum of active + passive + independetn vs total transactions 2.3283064365386963e-10\n",
      "total sum of revenue: 1775451.9700000004\n",
      "active revenue in % of total revenue: 35.445529728035005\n"
     ]
    }
   ],
   "source": [
    "total_sum = transcript_df_final.amount.sum()\n",
    "independent_sum = transcript_df_final.independent_transaction.sum()\n",
    "passive_sum = np.sum(transcript_df_final.loc[:,transcript_df_final.columns.str.contains('id_passive_transaction_')].sum(axis = 1)/transcript_df_final.loc[:,transcript_df_final.columns.str.contains('id_is_valid_')].sum(axis = 1))\n",
    "active_sum = np.sum(transcript_df_final.loc[:,transcript_df_final.columns.str.contains('id_active_transaction_')].sum(axis = 1)/transcript_df_final.loc[:,transcript_df_final.columns.str.contains('id_is_valid_')].sum(axis = 1))\n",
    "\n",
    "print('Difference between sum of active + passive + independetn vs total transactions',total_sum - (active_sum + passive_sum + independent_sum))\n",
    "print('total sum of revenue:', total_sum)\n",
    "print('active revenue in % of total revenue:', active_sum/total_sum*100)"
   ]
  },
  {
   "cell_type": "code",
   "execution_count": 53,
   "metadata": {},
   "outputs": [
    {
     "name": "stdout",
     "output_type": "stream",
     "text": [
      "Difference between sum of active + passive rewards 0.0\n",
      "total sum of rewards: 164676.0\n",
      "rewards in % of revenue: 9.275159383782146\n"
     ]
    }
   ],
   "source": [
    "total_reward = transcript_df_final[transcript_df_final.event == 'offer completed'].reward.sum()\n",
    "passive_reward = np.sum(transcript_df_final.loc[:,transcript_df_final.columns.str.contains('id_passive_reward_')].sum(axis = 1))\n",
    "active_reward = np.sum(transcript_df_final.loc[:,transcript_df_final.columns.str.contains('id_active_reward_')].sum(axis = 1))\n",
    "\n",
    "print('Difference between sum of active + passive rewards',total_reward - (active_reward + passive_reward))\n",
    "print('total sum of rewards:', total_reward)\n",
    "print('rewards in % of revenue:', total_reward/total_sum*100)"
   ]
  },
  {
   "cell_type": "code",
   "execution_count": 54,
   "metadata": {},
   "outputs": [
    {
     "name": "stdout",
     "output_type": "stream",
     "text": [
      "(306534, 29)\n",
      "(306534, 322)\n"
     ]
    }
   ],
   "source": [
    "#Make sure that the number of rows stayed the same after transformation\n",
    "print(transcript_df.shape)\n",
    "print(transcript_df_final.shape)"
   ]
  },
  {
   "cell_type": "markdown",
   "metadata": {},
   "source": [
    "# ETL Pipeline"
   ]
  },
  {
   "cell_type": "markdown",
   "metadata": {},
   "source": [
    "**I decided to try two different data structures for the final prediction**\n",
    "TheY contain almost the same information, but have different dimensions. The first option has far more columns as I create a dummy variable for each offer id. In the second approach I have only one column for each feature but I have more rows, because each offer per person gets a row\n",
    "\n",
    "**grouping by person and by offer id**\n",
    "* Grouped output contains rewards, offer_type, passive_transactions, active_transactions, reward_types,channel_types \n",
    "on an aggregated level per customer\n",
    "* **Advantage**: Algorithm can predict each offer per person separetaly\n",
    "* **Disadvantage**: I am loosing information about what combination of offers was sent to the customer overall\n",
    "\n",
    "**grouping by person**\n",
    "* Grouped output contains rewards, offer_type, passive_transactions, active_transactions, reward_types,channle_types \n",
    "    on an aggregated level per customer. Many columns appear 10 times as they are specific to the offer\n",
    "* **Advantage:** This way the algorithm can learn about the impact of the combinationa and amount of orders sent during the 30 day period\n",
    "* **Disadvantage**: I am loosing information about when and in which order an offer was sent to a person\n",
    "\n",
    "\n"
   ]
  },
  {
   "cell_type": "markdown",
   "metadata": {},
   "source": [
    "## Define target variables for machine learning"
   ]
  },
  {
   "cell_type": "markdown",
   "metadata": {},
   "source": [
    "**Target: There are different ways to phrase the problem. I will try to minimize the passive_rewards and find the customers with the highest and lowest amount of passive rewards**\n",
    "\n",
    "\n",
    "This way I am taking into account if one particular offer was sent, but other than that I am looking at the effect of the combination of the offers rather than one particular offer.\n",
    "The reason I do that is because I cannot run a proper A/B test on single offers."
   ]
  },
  {
   "cell_type": "markdown",
   "metadata": {},
   "source": [
    "#### Grouping by person"
   ]
  },
  {
   "cell_type": "code",
   "execution_count": 52,
   "metadata": {},
   "outputs": [
    {
     "name": "stdout",
     "output_type": "stream",
     "text": [
      "(17000, 82)\n"
     ]
    }
   ],
   "source": [
    "grouping_person = transform_by_person(transcript_df_final)\n",
    "grouping_person_final = get_final_training_df(grouping_person)\n",
    "\n",
    "store_data('StarbucksCleanedDataPerson', grouping_person_final)\n",
    "print(grouping_person_final.shape)"
   ]
  },
  {
   "cell_type": "markdown",
   "metadata": {},
   "source": [
    "#### Grouping by person by offer_id"
   ]
  },
  {
   "cell_type": "code",
   "execution_count": 53,
   "metadata": {},
   "outputs": [
    {
     "name": "stdout",
     "output_type": "stream",
     "text": [
      "(103221, 56)\n"
     ]
    }
   ],
   "source": [
    "grouping_person_offer = transform_by_person_offer(transcript_df_final)\n",
    "grouping_person_offer_final = get_final_training_df(grouping_person_offer,group_by =['person', 'offer_id'])\n",
    "\n",
    "store_data('StarbucksCleanedDataPersonOffer', grouping_person_offer_final)\n",
    "print(grouping_person_offer_final.shape)"
   ]
  },
  {
   "cell_type": "code",
   "execution_count": 4,
   "metadata": {},
   "outputs": [],
   "source": [
    "filename = 'StarbucksCleanedDataPerson'\n",
    "engine = create_engine('sqlite:///output/' + filename+'.db')\n",
    "df = pd.read_sql_table(filename, engine)"
   ]
  },
  {
   "cell_type": "code",
   "execution_count": 5,
   "metadata": {},
   "outputs": [
    {
     "data": {
      "text/plain": [
       "Index(['id_received_9b98b8c7a33c4b65b9aebfe6a799e6d9',\n",
       "       'id_start_time_9b98b8c7a33c4b65b9aebfe6a799e6d9',\n",
       "       'id_received_0b1e1539f2cc45b7b9fa7c272da2e1d7',\n",
       "       'id_start_time_0b1e1539f2cc45b7b9fa7c272da2e1d7',\n",
       "       'id_received_2906b810c7d4411798c6938adc9daaa5',\n",
       "       'id_start_time_2906b810c7d4411798c6938adc9daaa5',\n",
       "       'id_received_fafdcd668e3743c1bb461111dcafc2a4',\n",
       "       'id_start_time_fafdcd668e3743c1bb461111dcafc2a4',\n",
       "       'id_received_4d5c57ea9a6940dd891ad53e9dbe8da0',\n",
       "       'id_start_time_4d5c57ea9a6940dd891ad53e9dbe8da0',\n",
       "       'id_received_f19421c1d4aa40978ebb69ca19b0e20d',\n",
       "       'id_start_time_f19421c1d4aa40978ebb69ca19b0e20d',\n",
       "       'id_received_2298d6c36e964ae4a3e7e9706d1fb8c2',\n",
       "       'id_start_time_2298d6c36e964ae4a3e7e9706d1fb8c2',\n",
       "       'id_received_3f207df678b143eea3cee63160fa8bed',\n",
       "       'id_start_time_3f207df678b143eea3cee63160fa8bed',\n",
       "       'id_received_ae264e3637204a6fb9bb56bc8210ddfd',\n",
       "       'id_start_time_ae264e3637204a6fb9bb56bc8210ddfd',\n",
       "       'id_received_5a8bc65990b245e5a138643cd4eb9837',\n",
       "       'id_start_time_5a8bc65990b245e5a138643cd4eb9837', 'email_count',\n",
       "       'web_count', 'mobile_count', 'social_count', 'bogo_count',\n",
       "       'discount_count', 'informational_count', 'reward_0_count',\n",
       "       'reward_2_count', 'reward_3_count', 'reward_5_count', 'reward_10_count',\n",
       "       'difficulty_0_count', 'difficulty_5_count', 'difficulty_7_count',\n",
       "       'difficulty_10_count', 'difficulty_20_count', 'gender', 'income',\n",
       "       'age_bucket', 'became_member_on', 'independent_transaction',\n",
       "       'passive_sum', 'active_sum', 'active_reward_amount',\n",
       "       'passive_reward_amount', 'person', 'gender_F', 'gender_M', 'gender_O',\n",
       "       'gender_nan', 'age_bucket_0', 'age_bucket_1', 'age_bucket_2',\n",
       "       'age_bucket_3', 'age_bucket_4', 'age_bucket_5', 'age_bucket_6',\n",
       "       'age_bucket_7', 'age_bucket_8', 'age_bucket_9', 'age_bucket_118',\n",
       "       'income_bucket_(29999.999, 37000.0]',\n",
       "       'income_bucket_(37000.0, 45000.0]', 'income_bucket_(45000.0, 52000.0]',\n",
       "       'income_bucket_(52000.0, 57000.0]', 'income_bucket_(57000.0, 64000.0]',\n",
       "       'income_bucket_(64000.0, 70000.0]', 'income_bucket_(70000.0, 75000.0]',\n",
       "       'income_bucket_(75000.0, 85000.0]', 'income_bucket_(85000.0, 96000.0]',\n",
       "       'income_bucket_(96000.0, 120000.0]', 'income_bucket_nan',\n",
       "       'membership_start_year_2013', 'membership_start_year_2014',\n",
       "       'membership_start_year_2015', 'membership_start_year_2016',\n",
       "       'membership_start_year_2017', 'membership_start_year_2018',\n",
       "       'has_passive_reward', 'has_active_reward', 'has_reward',\n",
       "       'possible_total_reward', 'aberage_difficulty', 'average_difficulty'],\n",
       "      dtype='object')"
      ]
     },
     "execution_count": 5,
     "metadata": {},
     "output_type": "execute_result"
    }
   ],
   "source": [
    "df.columns"
   ]
  },
  {
   "cell_type": "code",
   "execution_count": 13,
   "metadata": {},
   "outputs": [
    {
     "data": {
      "text/plain": [
       "Text(0.5, 1.0, 'Active rewards by person')"
      ]
     },
     "execution_count": 13,
     "metadata": {},
     "output_type": "execute_result"
    },
    {
     "data": {
      "image/png": "[encoded data removed]",
      "text/plain": [
       "<Figure size 576x360 with 1 Axes>"
      ]
     },
     "metadata": {
      "needs_background": "light"
     },
     "output_type": "display_data"
    }
   ],
   "source": [
    "sum_by_age = df.groupby(['age_bucket'], as_index = False)[['active_sum', 'has_active_reward']].sum()\n",
    "\n",
    "fig, ax = plt.subplots(figsize = (8,5))\n",
    "ax = sns.barplot(x=\"age_bucket\", y=\"has_active_reward\", data=sum_by_age)\n",
    "ax.set_title('Active rewards by person')\n",
    "plt.savefig('images/active_rewards_per_person.png')"
   ]
  },
  {
   "cell_type": "code",
   "execution_count": 14,
   "metadata": {},
   "outputs": [
    {
     "data": {
      "image/png": "[encoded data removed]",
      "text/plain": [
       "<Figure size 576x360 with 1 Axes>"
      ]
     },
     "metadata": {
      "needs_background": "light"
     },
     "output_type": "display_data"
    }
   ],
   "source": [
    "sum_by_age = df.groupby(['age_bucket'], as_index = False)[['active_sum', 'has_active_reward']].sum()\n",
    "\n",
    "fig, ax = plt.subplots(figsize = (8,5))\n",
    "ax = sns.barplot(x=\"age_bucket\", y=\"active_sum\", data=sum_by_age)\n",
    "ax.set_title('Active sum by person')\n",
    "plt.savefig('images/active_aums_per_person.png')"
   ]
  },
  {
   "cell_type": "markdown",
   "metadata": {},
   "source": [
    "# ML Pipeline"
   ]
  },
  {
   "cell_type": "code",
   "execution_count": 2,
   "metadata": {},
   "outputs": [],
   "source": [
    "train_features_offers =['id_received_9b98b8c7a33c4b65b9aebfe6a799e6d9',\n",
    "       'id_start_time_9b98b8c7a33c4b65b9aebfe6a799e6d9',\n",
    "       'id_received_0b1e1539f2cc45b7b9fa7c272da2e1d7',\n",
    "       'id_start_time_0b1e1539f2cc45b7b9fa7c272da2e1d7',\n",
    "       'id_received_2906b810c7d4411798c6938adc9daaa5',\n",
    "       'id_start_time_2906b810c7d4411798c6938adc9daaa5',\n",
    "       'id_received_fafdcd668e3743c1bb461111dcafc2a4',\n",
    "       'id_start_time_fafdcd668e3743c1bb461111dcafc2a4',\n",
    "       'id_received_4d5c57ea9a6940dd891ad53e9dbe8da0',\n",
    "       'id_start_time_4d5c57ea9a6940dd891ad53e9dbe8da0',\n",
    "       'id_received_f19421c1d4aa40978ebb69ca19b0e20d',\n",
    "       'id_start_time_f19421c1d4aa40978ebb69ca19b0e20d',\n",
    "       'id_received_2298d6c36e964ae4a3e7e9706d1fb8c2',\n",
    "       'id_start_time_2298d6c36e964ae4a3e7e9706d1fb8c2',\n",
    "       'id_received_3f207df678b143eea3cee63160fa8bed',\n",
    "       'id_start_time_3f207df678b143eea3cee63160fa8bed',\n",
    "       'id_received_ae264e3637204a6fb9bb56bc8210ddfd',\n",
    "       'id_start_time_ae264e3637204a6fb9bb56bc8210ddfd',\n",
    "       'id_received_5a8bc65990b245e5a138643cd4eb9837',\n",
    "       'id_start_time_5a8bc65990b245e5a138643cd4eb9837', 'email_count',\n",
    "       'web_count', 'mobile_count', 'social_count', 'bogo_count',\n",
    "       'discount_count', 'informational_count', 'reward_0_count',\n",
    "       'reward_2_count', 'reward_3_count', 'reward_5_count', 'reward_10_count',\n",
    "       'gender_F', 'gender_M',\n",
    "       'gender_O', 'gender_nan', 'age_bucket_0', 'age_bucket_1',\n",
    "       'age_bucket_2', 'age_bucket_3', 'age_bucket_4', 'age_bucket_5',\n",
    "       'age_bucket_6', 'age_bucket_7', 'age_bucket_8', 'age_bucket_9',\n",
    "       'age_bucket_118', \n",
    "        'difficulty_0_count','difficulty_5_count','difficulty_7_count','difficulty_10_count','difficulty_20_count',\n",
    "       'income_bucket_(29999.999, 37000.0]',\n",
    "       'income_bucket_(37000.0, 45000.0]', 'income_bucket_(45000.0, 52000.0]',\n",
    "       'income_bucket_(52000.0, 57000.0]', 'income_bucket_(57000.0, 64000.0]',\n",
    "       'income_bucket_(64000.0, 70000.0]', 'income_bucket_(70000.0, 75000.0]',\n",
    "       'income_bucket_(75000.0, 85000.0]', 'income_bucket_(85000.0, 96000.0]',\n",
    "       'income_bucket_(96000.0, 120000.0]', 'income_bucket_nan',\n",
    "       'membership_start_year_2013', 'membership_start_year_2014',\n",
    "       'membership_start_year_2015', 'membership_start_year_2016',\n",
    "       'membership_start_year_2017', 'membership_start_year_2018',\n",
    "        'possible_total_reward', 'possible_total_reward']\n",
    "\n",
    "target_features_offers = ['has_passive_reward', 'has_active_reward', 'has_reward','independent_transaction', 'passive_sum', 'active_sum',\n",
    "       'active_reward_amount', 'passive_reward_amount']"
   ]
  },
  {
   "cell_type": "code",
   "execution_count": 3,
   "metadata": {
    "scrolled": true
   },
   "outputs": [],
   "source": [
    "def train_evaluate_intermediate_step(  train_features, target_features,help_steps, final, DataBaseName, model = 'RandomForestRegressor'):\n",
    "    \"\"\"\n",
    "    This function predicts help columns inbetween in order to predict the final passive_reward_amount\n",
    "    \"\"\"\n",
    "    X, Y= load_data(DataBaseName,  train_features, target_features)\n",
    "    features = help_steps + [final]\n",
    "    X_train, X_test, Y_train, Y_test = train_test_split(X, Y[features], test_size=0.3)\n",
    "    \n",
    "    for feat in help_steps:\n",
    "        print('Predict classify help columns',feat)\n",
    "        clf = build_model_Classification(X_train)\n",
    "        clf.fit(X_train, Y_train[feat])       \n",
    "        print(clf.best_params_)\n",
    "        \n",
    "        y_pred_train = clf.predict(X_train)\n",
    "        y_pred_test = clf.predict(X_test)\n",
    "        print(classification_report(Y_test[feat], y_pred_test))\n",
    "\n",
    "        X_train = pd.concat([X_train.reset_index(), pd.DataFrame(y_pred_train,columns=['clf_' + feat])], axis = 1)\n",
    "        X_train.drop(columns = 'index', inplace = True)\n",
    "        X_test = pd.concat([X_test.reset_index(), pd.DataFrame(y_pred_test,columns=['clf_' + feat])], axis = 1)\n",
    "        X_test.drop(columns = 'index', inplace = True)\n",
    "\n",
    "    regr = build_model_Regression(X_train, model = model)\n",
    "    regr.fit(X_train, Y_train[final])\n",
    "    print(regr.best_params_)\n",
    "    evaluate_model(regr, X_test, Y_test[final])\n",
    "    return regr"
   ]
  },
  {
   "cell_type": "code",
   "execution_count": 5,
   "metadata": {},
   "outputs": [],
   "source": [
    "def train_evaluate(train_features, target_features, DataBaseName, model = 'RandomForestRegressor', verbose = 1, cv = 5, param_grid = {'clf__ccp_alpha': [0],'clf__criterion': ['mse', 'friedman_mse'],'clf__max_depth': [3, 5, 10],'clf__max_features': [None, 20, 10],'clf__min_samples_leaf': [680, 1000, 100]}):\n",
    "    \"\"\"Function predicts and evaluates target feature immediatley\"\"\"\n",
    "    \n",
    "    target_features_final = [target_features] if type(target_features) is str else target_features\n",
    "    \n",
    "    print('Regression prediction ', target_features_final)\n",
    "    X, Y= load_data(DataBaseName, train_features, target_features_final)\n",
    "    X_train, X_test, Y_train, Y_test = train_test_split(X, Y[target_features], test_size=0.2)\n",
    "    regr = build_model_Regression(X_train, model = model, verbose = verbose, cv = cv, param_grid= param_grid)\n",
    "    regr.fit(X_train, Y_train)\n",
    "    print(regr.best_params_)\n",
    "    \n",
    "    Y_pred, mae, r2 = evaluate_model(regr, X_test, Y_test)\n",
    "    return regr, Y_pred, mae, r2"
   ]
  },
  {
   "cell_type": "markdown",
   "metadata": {},
   "source": [
    "### Performance metrics"
   ]
  },
  {
   "cell_type": "markdown",
   "metadata": {},
   "source": [
    "**Evaluate R2 Score on test data set for each model**"
   ]
  },
  {
   "cell_type": "markdown",
   "metadata": {},
   "source": [
    "$$ R^2(y,\\hat{y}) = 1-\\sum_1^{n} \\frac{(y_i-\\hat{y_i})^2}{(y-\\bar{y_i})^2} $$\n",
    "where $$\\bar{y} =\\sum_1^{n}\\frac{1}{n}y_i \\text{  and   }  \\sum_1^{n}(y_-\\hat{y_i})^2 = \\sum_1^{n}\\epsilon^2$$\n",
    "and $$\\hat{y}$$ is the prediction array"
   ]
  },
  {
   "cell_type": "markdown",
   "metadata": {},
   "source": [
    "### Regression on data grouped by customer"
   ]
  },
  {
   "cell_type": "code",
   "execution_count": null,
   "metadata": {},
   "outputs": [],
   "source": []
  },
  {
   "cell_type": "markdown",
   "metadata": {},
   "source": [
    "#### RandomForestRegressor - R2 is 0.178\n"
   ]
  },
  {
   "cell_type": "code",
   "execution_count": 43,
   "metadata": {},
   "outputs": [
    {
     "name": "stdout",
     "output_type": "stream",
     "text": [
      "Regression prediction  ['passive_reward_amount']\n",
      "{'clf__ccp_alpha': 0, 'clf__criterion': 'mse', 'clf__max_depth': 10, 'clf__max_features': None, 'clf__min_samples_leaf': 100}\n",
      "R^2 Sscore of model:  0.17759727497642208\n"
     ]
    },
    {
     "data": {
      "text/plain": [
       "GridSearchCV(estimator=Pipeline(steps=[('clf',\n",
       "                                        RandomForestRegressor(random_state=42))]),\n",
       "             param_grid={'clf__ccp_alpha': [0],\n",
       "                         'clf__criterion': ['mse', 'friedman_mse'],\n",
       "                         'clf__max_depth': [3, 5, 10],\n",
       "                         'clf__max_features': [None, 20, 10],\n",
       "                         'clf__min_samples_leaf': [680, 1000, 100]})"
      ]
     },
     "execution_count": 43,
     "metadata": {},
     "output_type": "execute_result"
    }
   ],
   "source": [
    "param_grid={'clf__ccp_alpha': [0],\n",
    "                         'clf__criterion': ['mse', 'friedman_mse'],\n",
    "                         'clf__max_depth': [3, 5, 10],\n",
    "                         'clf__max_features': [None, 20, 10],\n",
    "                         'clf__min_samples_leaf': [680, 1000, 100]}\n",
    "model1, y_pred , mape, r2 = train_evaluate(train_features_offers, 'passive_reward_amount', 'StarbucksCleanedDataPerson', model = 'RandomForestRegressor', verbose = 1, cv = 5, param_grid = param_grid)\n",
    "print(model1)"
   ]
  },
  {
   "cell_type": "code",
   "execution_count": 6,
   "metadata": {},
   "outputs": [
    {
     "name": "stdout",
     "output_type": "stream",
     "text": [
      "Regression prediction  ['passive_reward_amount']\n",
      "Fitting 5 folds for each of 54 candidates, totalling 270 fits\n",
      "{'clf__ccp_alpha': 0, 'clf__criterion': 'mse', 'clf__max_depth': 10, 'clf__max_features': None, 'clf__min_samples_leaf': 100}\n",
      "Model Performance\n",
      "Average Error: 3.0806 degrees.\n",
      "R^2 Sscore of model:  0.16253950797609262\n",
      "GridSearchCV(cv=5,\n",
      "             estimator=Pipeline(steps=[('clf',\n",
      "                                        RandomForestRegressor(random_state=42))]),\n",
      "             param_grid={'clf__ccp_alpha': [0],\n",
      "                         'clf__criterion': ['mse', 'friedman_mse'],\n",
      "                         'clf__max_depth': [3, 5, 10],\n",
      "                         'clf__max_features': [None, 20, 10],\n",
      "                         'clf__min_samples_leaf': [680, 1000, 100]},\n",
      "             return_train_score=True, scoring='r2', verbose=1)\n"
     ]
    }
   ],
   "source": [
    "param_grid={'clf__ccp_alpha': [0],\n",
    "                         'clf__criterion': ['mse', 'friedman_mse'],\n",
    "                         'clf__max_depth': [3, 5, 10],\n",
    "                         'clf__max_features': [None, 20, 10],\n",
    "                         'clf__min_samples_leaf': [680, 1000, 100]}\n",
    "model1, y_pred, mae, r2 = train_evaluate(train_features_offers, 'passive_reward_amount', 'StarbucksCleanedDataPerson', model = 'RandomForestRegressor', verbose = 1, cv = 5, param_grid = param_grid)\n",
    "print(model1)"
   ]
  },
  {
   "cell_type": "code",
   "execution_count": 7,
   "metadata": {
    "scrolled": true
   },
   "outputs": [
    {
     "name": "stdout",
     "output_type": "stream",
     "text": [
      "Regression prediction  ['passive_reward_amount']\n",
      "Fitting 3 folds for each of 24 candidates, totalling 72 fits\n",
      "[CV] END clf__bootstrap=True, clf__criterion=mse, clf__max_depth=10, clf__min_samples_leaf=100, clf__n_estimators=100; total time=   3.2s\n",
      "[CV] END clf__bootstrap=True, clf__criterion=mse, clf__max_depth=10, clf__min_samples_leaf=100, clf__n_estimators=100; total time=   3.3s\n",
      "[CV] END clf__bootstrap=True, clf__criterion=mse, clf__max_depth=10, clf__min_samples_leaf=100, clf__n_estimators=100; total time=   3.4s\n",
      "[CV] END clf__bootstrap=True, clf__criterion=mse, clf__max_depth=10, clf__min_samples_leaf=100, clf__n_estimators=1000; total time=  34.6s\n",
      "[CV] END clf__bootstrap=True, clf__criterion=mse, clf__max_depth=10, clf__min_samples_leaf=100, clf__n_estimators=1000; total time=  32.9s\n",
      "[CV] END clf__bootstrap=True, clf__criterion=mse, clf__max_depth=10, clf__min_samples_leaf=100, clf__n_estimators=1000; total time=  32.9s\n",
      "[CV] END clf__bootstrap=True, clf__criterion=mse, clf__max_depth=10, clf__min_samples_leaf=50, clf__n_estimators=100; total time=   4.2s\n",
      "[CV] END clf__bootstrap=True, clf__criterion=mse, clf__max_depth=10, clf__min_samples_leaf=50, clf__n_estimators=100; total time=   3.5s\n",
      "[CV] END clf__bootstrap=True, clf__criterion=mse, clf__max_depth=10, clf__min_samples_leaf=50, clf__n_estimators=100; total time=   3.8s\n",
      "[CV] END clf__bootstrap=True, clf__criterion=mse, clf__max_depth=10, clf__min_samples_leaf=50, clf__n_estimators=1000; total time=  36.3s\n",
      "[CV] END clf__bootstrap=True, clf__criterion=mse, clf__max_depth=10, clf__min_samples_leaf=50, clf__n_estimators=1000; total time=  36.6s\n",
      "[CV] END clf__bootstrap=True, clf__criterion=mse, clf__max_depth=10, clf__min_samples_leaf=50, clf__n_estimators=1000; total time=  36.6s\n",
      "[CV] END clf__bootstrap=True, clf__criterion=mse, clf__max_depth=15, clf__min_samples_leaf=100, clf__n_estimators=100; total time=   3.1s\n",
      "[CV] END clf__bootstrap=True, clf__criterion=mse, clf__max_depth=15, clf__min_samples_leaf=100, clf__n_estimators=100; total time=   3.2s\n",
      "[CV] END clf__bootstrap=True, clf__criterion=mse, clf__max_depth=15, clf__min_samples_leaf=100, clf__n_estimators=100; total time=   3.1s\n",
      "[CV] END clf__bootstrap=True, clf__criterion=mse, clf__max_depth=15, clf__min_samples_leaf=100, clf__n_estimators=1000; total time=  32.6s\n",
      "[CV] END clf__bootstrap=True, clf__criterion=mse, clf__max_depth=15, clf__min_samples_leaf=100, clf__n_estimators=1000; total time=  32.1s\n",
      "[CV] END clf__bootstrap=True, clf__criterion=mse, clf__max_depth=15, clf__min_samples_leaf=100, clf__n_estimators=1000; total time=  34.8s\n",
      "[CV] END clf__bootstrap=True, clf__criterion=mse, clf__max_depth=15, clf__min_samples_leaf=50, clf__n_estimators=100; total time=   3.7s\n",
      "[CV] END clf__bootstrap=True, clf__criterion=mse, clf__max_depth=15, clf__min_samples_leaf=50, clf__n_estimators=100; total time=   3.7s\n",
      "[CV] END clf__bootstrap=True, clf__criterion=mse, clf__max_depth=15, clf__min_samples_leaf=50, clf__n_estimators=100; total time=   3.7s\n",
      "[CV] END clf__bootstrap=True, clf__criterion=mse, clf__max_depth=15, clf__min_samples_leaf=50, clf__n_estimators=1000; total time=  38.1s\n",
      "[CV] END clf__bootstrap=True, clf__criterion=mse, clf__max_depth=15, clf__min_samples_leaf=50, clf__n_estimators=1000; total time=  37.1s\n",
      "[CV] END clf__bootstrap=True, clf__criterion=mse, clf__max_depth=15, clf__min_samples_leaf=50, clf__n_estimators=1000; total time=  37.6s\n",
      "[CV] END clf__bootstrap=True, clf__criterion=mse, clf__max_depth=20, clf__min_samples_leaf=100, clf__n_estimators=100; total time=   3.1s\n",
      "[CV] END clf__bootstrap=True, clf__criterion=mse, clf__max_depth=20, clf__min_samples_leaf=100, clf__n_estimators=100; total time=   3.0s\n",
      "[CV] END clf__bootstrap=True, clf__criterion=mse, clf__max_depth=20, clf__min_samples_leaf=100, clf__n_estimators=100; total time=   3.0s\n",
      "[CV] END clf__bootstrap=True, clf__criterion=mse, clf__max_depth=20, clf__min_samples_leaf=100, clf__n_estimators=1000; total time=  31.2s\n",
      "[CV] END clf__bootstrap=True, clf__criterion=mse, clf__max_depth=20, clf__min_samples_leaf=100, clf__n_estimators=1000; total time=  31.4s\n",
      "[CV] END clf__bootstrap=True, clf__criterion=mse, clf__max_depth=20, clf__min_samples_leaf=100, clf__n_estimators=1000; total time=  30.7s\n",
      "[CV] END clf__bootstrap=True, clf__criterion=mse, clf__max_depth=20, clf__min_samples_leaf=50, clf__n_estimators=100; total time=   3.9s\n",
      "[CV] END clf__bootstrap=True, clf__criterion=mse, clf__max_depth=20, clf__min_samples_leaf=50, clf__n_estimators=100; total time=   4.4s\n",
      "[CV] END clf__bootstrap=True, clf__criterion=mse, clf__max_depth=20, clf__min_samples_leaf=50, clf__n_estimators=100; total time=   3.7s\n",
      "[CV] END clf__bootstrap=True, clf__criterion=mse, clf__max_depth=20, clf__min_samples_leaf=50, clf__n_estimators=1000; total time=  38.4s\n",
      "[CV] END clf__bootstrap=True, clf__criterion=mse, clf__max_depth=20, clf__min_samples_leaf=50, clf__n_estimators=1000; total time=  38.1s\n",
      "[CV] END clf__bootstrap=True, clf__criterion=mse, clf__max_depth=20, clf__min_samples_leaf=50, clf__n_estimators=1000; total time=  37.7s\n",
      "[CV] END clf__bootstrap=False, clf__criterion=mse, clf__max_depth=10, clf__min_samples_leaf=100, clf__n_estimators=100; total time=   4.8s\n",
      "[CV] END clf__bootstrap=False, clf__criterion=mse, clf__max_depth=10, clf__min_samples_leaf=100, clf__n_estimators=100; total time=   4.7s\n",
      "[CV] END clf__bootstrap=False, clf__criterion=mse, clf__max_depth=10, clf__min_samples_leaf=100, clf__n_estimators=100; total time=   4.8s\n",
      "[CV] END clf__bootstrap=False, clf__criterion=mse, clf__max_depth=10, clf__min_samples_leaf=100, clf__n_estimators=1000; total time=  50.0s\n",
      "[CV] END clf__bootstrap=False, clf__criterion=mse, clf__max_depth=10, clf__min_samples_leaf=100, clf__n_estimators=1000; total time=  48.7s\n",
      "[CV] END clf__bootstrap=False, clf__criterion=mse, clf__max_depth=10, clf__min_samples_leaf=100, clf__n_estimators=1000; total time= 1.5min\n",
      "[CV] END clf__bootstrap=False, clf__criterion=mse, clf__max_depth=10, clf__min_samples_leaf=50, clf__n_estimators=100; total time=   8.3s\n",
      "[CV] END clf__bootstrap=False, clf__criterion=mse, clf__max_depth=10, clf__min_samples_leaf=50, clf__n_estimators=100; total time=   8.3s\n",
      "[CV] END clf__bootstrap=False, clf__criterion=mse, clf__max_depth=10, clf__min_samples_leaf=50, clf__n_estimators=100; total time=   8.6s\n",
      "[CV] END clf__bootstrap=False, clf__criterion=mse, clf__max_depth=10, clf__min_samples_leaf=50, clf__n_estimators=1000; total time= 1.7min\n",
      "[CV] END clf__bootstrap=False, clf__criterion=mse, clf__max_depth=10, clf__min_samples_leaf=50, clf__n_estimators=1000; total time= 1.5min\n",
      "[CV] END clf__bootstrap=False, clf__criterion=mse, clf__max_depth=10, clf__min_samples_leaf=50, clf__n_estimators=1000; total time= 1.3min\n",
      "[CV] END clf__bootstrap=False, clf__criterion=mse, clf__max_depth=15, clf__min_samples_leaf=100, clf__n_estimators=100; total time=   7.4s\n",
      "[CV] END clf__bootstrap=False, clf__criterion=mse, clf__max_depth=15, clf__min_samples_leaf=100, clf__n_estimators=100; total time=   7.2s\n",
      "[CV] END clf__bootstrap=False, clf__criterion=mse, clf__max_depth=15, clf__min_samples_leaf=100, clf__n_estimators=100; total time=   7.1s\n",
      "[CV] END clf__bootstrap=False, clf__criterion=mse, clf__max_depth=15, clf__min_samples_leaf=100, clf__n_estimators=1000; total time= 1.3min\n",
      "[CV] END clf__bootstrap=False, clf__criterion=mse, clf__max_depth=15, clf__min_samples_leaf=100, clf__n_estimators=1000; total time= 1.3min\n",
      "[CV] END clf__bootstrap=False, clf__criterion=mse, clf__max_depth=15, clf__min_samples_leaf=100, clf__n_estimators=1000; total time= 1.3min\n",
      "[CV] END clf__bootstrap=False, clf__criterion=mse, clf__max_depth=15, clf__min_samples_leaf=50, clf__n_estimators=100; total time=   9.3s\n",
      "[CV] END clf__bootstrap=False, clf__criterion=mse, clf__max_depth=15, clf__min_samples_leaf=50, clf__n_estimators=100; total time=   7.3s\n",
      "[CV] END clf__bootstrap=False, clf__criterion=mse, clf__max_depth=15, clf__min_samples_leaf=50, clf__n_estimators=100; total time=   6.8s\n",
      "[CV] END clf__bootstrap=False, clf__criterion=mse, clf__max_depth=15, clf__min_samples_leaf=50, clf__n_estimators=1000; total time= 1.1min\n",
      "[CV] END clf__bootstrap=False, clf__criterion=mse, clf__max_depth=15, clf__min_samples_leaf=50, clf__n_estimators=1000; total time= 1.2min\n"
     ]
    },
    {
     "name": "stdout",
     "output_type": "stream",
     "text": [
      "[CV] END clf__bootstrap=False, clf__criterion=mse, clf__max_depth=15, clf__min_samples_leaf=50, clf__n_estimators=1000; total time= 1.1min\n",
      "[CV] END clf__bootstrap=False, clf__criterion=mse, clf__max_depth=20, clf__min_samples_leaf=100, clf__n_estimators=100; total time=   5.2s\n",
      "[CV] END clf__bootstrap=False, clf__criterion=mse, clf__max_depth=20, clf__min_samples_leaf=100, clf__n_estimators=100; total time=   6.3s\n",
      "[CV] END clf__bootstrap=False, clf__criterion=mse, clf__max_depth=20, clf__min_samples_leaf=100, clf__n_estimators=100; total time=   5.0s\n",
      "[CV] END clf__bootstrap=False, clf__criterion=mse, clf__max_depth=20, clf__min_samples_leaf=100, clf__n_estimators=1000; total time=  52.8s\n",
      "[CV] END clf__bootstrap=False, clf__criterion=mse, clf__max_depth=20, clf__min_samples_leaf=100, clf__n_estimators=1000; total time=  52.0s\n",
      "[CV] END clf__bootstrap=False, clf__criterion=mse, clf__max_depth=20, clf__min_samples_leaf=100, clf__n_estimators=1000; total time=  50.7s\n",
      "[CV] END clf__bootstrap=False, clf__criterion=mse, clf__max_depth=20, clf__min_samples_leaf=50, clf__n_estimators=100; total time=   6.4s\n",
      "[CV] END clf__bootstrap=False, clf__criterion=mse, clf__max_depth=20, clf__min_samples_leaf=50, clf__n_estimators=100; total time=   6.3s\n",
      "[CV] END clf__bootstrap=False, clf__criterion=mse, clf__max_depth=20, clf__min_samples_leaf=50, clf__n_estimators=100; total time=   5.8s\n",
      "[CV] END clf__bootstrap=False, clf__criterion=mse, clf__max_depth=20, clf__min_samples_leaf=50, clf__n_estimators=1000; total time= 1.1min\n",
      "[CV] END clf__bootstrap=False, clf__criterion=mse, clf__max_depth=20, clf__min_samples_leaf=50, clf__n_estimators=1000; total time= 1.1min\n",
      "[CV] END clf__bootstrap=False, clf__criterion=mse, clf__max_depth=20, clf__min_samples_leaf=50, clf__n_estimators=1000; total time= 1.0min\n",
      "{'clf__bootstrap': True, 'clf__criterion': 'mse', 'clf__max_depth': 15, 'clf__min_samples_leaf': 50, 'clf__n_estimators': 1000}\n",
      "Model Performance\n",
      "Average Error: 3.0455 degrees.\n",
      "R^2 Sscore of model:  0.18630934071543737\n",
      "GridSearchCV(cv=3,\n",
      "             estimator=Pipeline(steps=[('clf',\n",
      "                                        RandomForestRegressor(random_state=42))]),\n",
      "             param_grid={'clf__bootstrap': [True, False],\n",
      "                         'clf__criterion': ['mse'],\n",
      "                         'clf__max_depth': [10, 15, 20],\n",
      "                         'clf__min_samples_leaf': [100, 50],\n",
      "                         'clf__n_estimators': [100, 1000]},\n",
      "             return_train_score=True, scoring='r2', verbose=2)\n"
     ]
    }
   ],
   "source": [
    "#remove = ['possible_total_reward', 'possible_total_reward']\n",
    "param_grid={'clf__bootstrap': [True, False],\n",
    "            'clf__criterion': ['mse'], \n",
    "            'clf__max_depth': [10, 15, 20],\n",
    "            'clf__min_samples_leaf': [100, 50],\n",
    "            'clf__n_estimators': [100, 1000]}        \n",
    "#train_features_test = [feat for feat in train_features_offers if feat not in remove]   \n",
    "model2, y_pred , mape, r2 = train_evaluate(train_features_offers, 'passive_reward_amount', 'StarbucksCleanedDataPerson', model = 'RandomForestRegressor', verbose = 2, cv = 3, param_grid = param_grid)\n",
    "print(model2)"
   ]
  },
  {
   "cell_type": "code",
   "execution_count": 7,
   "metadata": {},
   "outputs": [
    {
     "name": "stdout",
     "output_type": "stream",
     "text": [
      "GridSearchCV(cv=3,\n",
      "             estimator=Pipeline(steps=[('clf',\n",
      "                                        RandomForestRegressor(random_state=42))]),\n",
      "             param_grid={'clf__bootstrap': [True, False],\n",
      "                         'clf__criterion': ['mse'], 'clf__max_depth': [10, 15],\n",
      "                         'clf__min_samples_leaf': [680, 1000, 100],\n",
      "                         'clf__n_estimators': [100, 1000]},\n",
      "             return_train_score=True, scoring='r2', verbose=2)\n"
     ]
    }
   ],
   "source": [
    "print(model2)"
   ]
  },
  {
   "cell_type": "markdown",
   "metadata": {},
   "source": [
    "#### DecisionTreeRegressor - R2 is 0.149"
   ]
  },
  {
   "cell_type": "code",
   "execution_count": 73,
   "metadata": {},
   "outputs": [
    {
     "name": "stdout",
     "output_type": "stream",
     "text": [
      "Regression prediction  ['passive_reward_amount']\n",
      "{'clf__criterion': 'mse', 'clf__max_depth': 10, 'clf__max_features': None, 'clf__min_samples_leaf': 100}\n",
      "R^2 Sscore of model:  0.14887935529187157\n"
     ]
    },
    {
     "data": {
      "text/plain": [
       "GridSearchCV(estimator=Pipeline(steps=[('clf',\n",
       "                                        DecisionTreeRegressor(random_state=42))]),\n",
       "             param_grid={'clf__criterion': ['mse', 'friedman_mse'],\n",
       "                         'clf__max_depth': [3, 5, 10],\n",
       "                         'clf__max_features': [None, 20, 10],\n",
       "                         'clf__min_samples_leaf': [680, 1000, 100]})"
      ]
     },
     "execution_count": 73,
     "metadata": {},
     "output_type": "execute_result"
    }
   ],
   "source": [
    "param_grid={'clf__ccp_alpha': [0],\n",
    "            'clf__criterion': ['mse', 'friedman_mse'],\n",
    "            'clf__max_depth': [3, 5, 10],\n",
    "            'clf__max_features': [None, 20, 10],\n",
    "            'clf__min_samples_leaf': [680, 1000, 100]}\n",
    "model2, y_pred , mape, r2 = train_evaluate(train_features_offers, 'passive_reward_amount', 'StarbucksCleanedDataPerson', model = 'DecisionTreeRegressor', verbose = 1, cv = 5, param_grid = param_grid)"
   ]
  },
  {
   "cell_type": "markdown",
   "metadata": {},
   "source": [
    "#### DecisionTreeRegressor Plots \n",
    "One interesting finding is that customers whose age is unknown == 118 and whose features are also unknown (like gender and income) have the lowest passive rewards**"
   ]
  },
  {
   "cell_type": "code",
   "execution_count": 6,
   "metadata": {},
   "outputs": [
    {
     "data": {
      "text/plain": [
       "DecisionTreeRegressor(max_depth=5, min_samples_leaf=100)"
      ]
     },
     "execution_count": 6,
     "metadata": {},
     "output_type": "execute_result"
    }
   ],
   "source": [
    "TREE_PARAS = {'criterion': 'mse', \n",
    "             'max_depth': 5, \n",
    "            'max_features': None, \n",
    "            'min_samples_leaf': 100}\n",
    "dtr = DecisionTreeRegressor(**TREE_PARAS)\n",
    "X, Y= load_data('StarbucksCleanedDataPerson', train_features_offers, 'passive_reward_amount')\n",
    "X_train, X_test, Y_train, Y_test = train_test_split(X, Y, test_size=0.2)\n",
    "dtr.fit(X_train, Y_train)"
   ]
  },
  {
   "cell_type": "code",
   "execution_count": 7,
   "metadata": {},
   "outputs": [
    {
     "data": {
      "image/png": "[encoded data removed]",
      "text/plain": [
       "<Figure size 1800x1440 with 1 Axes>"
      ]
     },
     "metadata": {
      "needs_background": "light"
     },
     "output_type": "display_data"
    }
   ],
   "source": [
    "fig = plt.subplots(figsize = (25,20))\n",
    "plt.title('DecisionTreeRegressor on grouped datat by person and by offer')\n",
    "tree.plot_tree(dtr, filled=True, feature_names=train_features_offers, fontsize = 6)\n",
    "plt.savefig('images/RegressionPerson.png', dpi=100)"
   ]
  },
  {
   "cell_type": "code",
   "execution_count": 76,
   "metadata": {},
   "outputs": [
    {
     "name": "stdout",
     "output_type": "stream",
     "text": [
      "|--- gender_nan <= 0.50\n",
      "|   |--- bogo_count <= 1.50\n",
      "|   |   |--- id_start_time_0b1e1539f2cc45b7b9fa7c272da2e1d7 <= -0.50\n",
      "|   |   |   |--- bogo_count <= 0.50\n",
      "|   |   |   |   |--- discount_count <= 1.50\n",
      "|   |   |   |   |   |--- value: [0.30]\n",
      "|   |   |   |   |--- discount_count >  1.50\n",
      "|   |   |   |   |   |--- value: [1.00]\n",
      "|   |   |   |--- bogo_count >  0.50\n",
      "|   |   |   |   |--- id_received_ae264e3637204a6fb9bb56bc8210ddfd <= 1.50\n",
      "|   |   |   |   |   |--- value: [1.90]\n",
      "|   |   |   |   |--- id_received_ae264e3637204a6fb9bb56bc8210ddfd >  1.50\n",
      "|   |   |   |   |   |--- value: [3.99]\n",
      "|   |   |--- id_start_time_0b1e1539f2cc45b7b9fa7c272da2e1d7 >  -0.50\n",
      "|   |   |   |--- income_bucket_(96000.0, 120000.0] <= 0.50\n",
      "|   |   |   |   |--- membership_start_year_2018 <= 0.50\n",
      "|   |   |   |   |   |--- value: [3.59]\n",
      "|   |   |   |   |--- membership_start_year_2018 >  0.50\n",
      "|   |   |   |   |   |--- value: [1.89]\n",
      "|   |   |   |--- income_bucket_(96000.0, 120000.0] >  0.50\n",
      "|   |   |   |   |--- reward_0_count <= 0.50\n",
      "|   |   |   |   |   |--- value: [6.76]\n",
      "|   |   |   |   |--- reward_0_count >  0.50\n",
      "|   |   |   |   |   |--- value: [5.39]\n",
      "|   |--- bogo_count >  1.50\n",
      "|   |   |--- income_bucket_(96000.0, 120000.0] <= 0.50\n",
      "|   |   |   |--- gender_F <= 0.50\n",
      "|   |   |   |   |--- membership_start_year_2016 <= 0.50\n",
      "|   |   |   |   |   |--- value: [2.94]\n",
      "|   |   |   |   |--- membership_start_year_2016 >  0.50\n",
      "|   |   |   |   |   |--- value: [4.70]\n",
      "|   |   |   |--- gender_F >  0.50\n",
      "|   |   |   |   |--- membership_start_year_2018 <= 0.50\n",
      "|   |   |   |   |   |--- value: [5.22]\n",
      "|   |   |   |   |--- membership_start_year_2018 >  0.50\n",
      "|   |   |   |   |   |--- value: [3.27]\n",
      "|   |   |--- income_bucket_(96000.0, 120000.0] >  0.50\n",
      "|   |   |   |--- id_start_time_0b1e1539f2cc45b7b9fa7c272da2e1d7 <= -0.50\n",
      "|   |   |   |   |--- id_start_time_ae264e3637204a6fb9bb56bc8210ddfd <= -0.50\n",
      "|   |   |   |   |   |--- value: [4.52]\n",
      "|   |   |   |   |--- id_start_time_ae264e3637204a6fb9bb56bc8210ddfd >  -0.50\n",
      "|   |   |   |   |   |--- value: [6.62]\n",
      "|   |   |   |--- id_start_time_0b1e1539f2cc45b7b9fa7c272da2e1d7 >  -0.50\n",
      "|   |   |   |   |--- value: [9.18]\n",
      "|--- gender_nan >  0.50\n",
      "|   |--- difficulty_5_count <= 1.50\n",
      "|   |   |--- id_start_time_9b98b8c7a33c4b65b9aebfe6a799e6d9 <= 3.50\n",
      "|   |   |   |--- id_start_time_f19421c1d4aa40978ebb69ca19b0e20d <= 15.50\n",
      "|   |   |   |   |--- id_start_time_3f207df678b143eea3cee63160fa8bed <= 3.50\n",
      "|   |   |   |   |   |--- value: [0.19]\n",
      "|   |   |   |   |--- id_start_time_3f207df678b143eea3cee63160fa8bed >  3.50\n",
      "|   |   |   |   |   |--- value: [0.06]\n",
      "|   |   |   |--- id_start_time_f19421c1d4aa40978ebb69ca19b0e20d >  15.50\n",
      "|   |   |   |   |--- value: [0.45]\n",
      "|   |   |--- id_start_time_9b98b8c7a33c4b65b9aebfe6a799e6d9 >  3.50\n",
      "|   |   |   |--- id_start_time_4d5c57ea9a6940dd891ad53e9dbe8da0 <= 3.50\n",
      "|   |   |   |   |--- discount_count <= 1.50\n",
      "|   |   |   |   |   |--- value: [0.80]\n",
      "|   |   |   |   |--- discount_count >  1.50\n",
      "|   |   |   |   |   |--- value: [0.48]\n",
      "|   |   |   |--- id_start_time_4d5c57ea9a6940dd891ad53e9dbe8da0 >  3.50\n",
      "|   |   |   |   |--- value: [0.27]\n",
      "|   |--- difficulty_5_count >  1.50\n",
      "|   |   |--- id_start_time_f19421c1d4aa40978ebb69ca19b0e20d <= 15.50\n",
      "|   |   |   |--- value: [0.88]\n",
      "|   |   |--- id_start_time_f19421c1d4aa40978ebb69ca19b0e20d >  15.50\n",
      "|   |   |   |--- value: [1.03]\n",
      "\n"
     ]
    }
   ],
   "source": [
    "print(tree.export_text(dtr,feature_names=train_features_offers ))"
   ]
  },
  {
   "cell_type": "markdown",
   "metadata": {},
   "source": [
    "#### Model improvements with RandomForestClassifier -  R2 is 0.149\n",
    "predicting intermediate features 'has_reward', 'has_passive_reward' and using them as new input variables"
   ]
  },
  {
   "cell_type": "code",
   "execution_count": 77,
   "metadata": {},
   "outputs": [
    {
     "name": "stdout",
     "output_type": "stream",
     "text": [
      "Predict classify help columns has_reward\n",
      "generating pipeline\n",
      "{'clf__max_depth': 10, 'clf__min_samples_leaf': 1, 'clf__n_estimators': 50}\n",
      "              precision    recall  f1-score   support\n",
      "\n",
      "           0       0.68      0.33      0.45      1213\n",
      "           1       0.82      0.95      0.88      3887\n",
      "\n",
      "    accuracy                           0.80      5100\n",
      "   macro avg       0.75      0.64      0.66      5100\n",
      "weighted avg       0.79      0.80      0.78      5100\n",
      "\n",
      "Predict classify help columns has_passive_reward\n",
      "generating pipeline\n",
      "{'clf__max_depth': 10, 'clf__min_samples_leaf': 1, 'clf__n_estimators': 100}\n",
      "              precision    recall  f1-score   support\n",
      "\n",
      "           0       0.70      0.83      0.76      3030\n",
      "           1       0.66      0.48      0.55      2070\n",
      "\n",
      "    accuracy                           0.69      5100\n",
      "   macro avg       0.68      0.65      0.66      5100\n",
      "weighted avg       0.68      0.69      0.68      5100\n",
      "\n",
      "{'clf__ccp_alpha': 0, 'clf__criterion': 'mse', 'clf__max_depth': 10, 'clf__max_features': None, 'clf__min_samples_leaf': 100}\n",
      "R^2 Sscore of model:  0.14918996506109705\n"
     ]
    },
    {
     "data": {
      "text/plain": [
       "GridSearchCV(estimator=Pipeline(steps=[('clf',\n",
       "                                        RandomForestRegressor(random_state=42))]),\n",
       "             param_grid={'clf__ccp_alpha': [0],\n",
       "                         'clf__criterion': ['mse', 'friedman_mse'],\n",
       "                         'clf__max_depth': [3, 5, 10],\n",
       "                         'clf__max_features': [None, 20, 10],\n",
       "                         'clf__min_samples_leaf': [595, 1000, 100]})"
      ]
     },
     "execution_count": 77,
     "metadata": {},
     "output_type": "execute_result"
    }
   ],
   "source": [
    "param_grid={'clf__ccp_alpha': [0],\n",
    "            'clf__criterion': ['mse', 'friedman_mse'],\n",
    "            'clf__max_depth': [3, 5, 10],\n",
    "            'clf__max_features': [None, 20, 10],\n",
    "            'clf__min_samples_leaf': [680, 1000, 100]}\n",
    "help_steps = ['has_reward', 'has_passive_reward']\n",
    "final = 'passive_reward_amount'\n",
    "model2, y_pred , mape, r2 = train_evaluate_intermediate_step(train_features_offers, target_features_offers,help_steps, final,'StarbucksCleanedDataPerson', model = 'RandomForestRegressor', verbose = 1, cv = 5, param_grid = param_grid)"
   ]
  },
  {
   "cell_type": "markdown",
   "metadata": {},
   "source": [
    "#### Model improvements with RandomForestClassifier - R2 is 0.172\n",
    "predicting intermediate features 'has_reward', 'has_active_reward' and using them as new input variables"
   ]
  },
  {
   "cell_type": "code",
   "execution_count": 78,
   "metadata": {},
   "outputs": [
    {
     "name": "stdout",
     "output_type": "stream",
     "text": [
      "Predict classify help columns has_reward\n",
      "generating pipeline\n",
      "{'clf__max_depth': 10, 'clf__min_samples_leaf': 1, 'clf__n_estimators': 10}\n",
      "              precision    recall  f1-score   support\n",
      "\n",
      "           0       0.71      0.31      0.43      1297\n",
      "           1       0.80      0.96      0.87      3803\n",
      "\n",
      "    accuracy                           0.79      5100\n",
      "   macro avg       0.76      0.63      0.65      5100\n",
      "weighted avg       0.78      0.79      0.76      5100\n",
      "\n",
      "Predict classify help columns has_active_reward\n",
      "generating pipeline\n",
      "{'clf__max_depth': 10, 'clf__min_samples_leaf': 1, 'clf__n_estimators': 100}\n",
      "              precision    recall  f1-score   support\n",
      "\n",
      "           0       0.74      0.32      0.45      1654\n",
      "           1       0.74      0.95      0.83      3446\n",
      "\n",
      "    accuracy                           0.74      5100\n",
      "   macro avg       0.74      0.63      0.64      5100\n",
      "weighted avg       0.74      0.74      0.71      5100\n",
      "\n",
      "{'clf__ccp_alpha': 0, 'clf__criterion': 'mse', 'clf__max_depth': 10, 'clf__max_features': None, 'clf__min_samples_leaf': 100}\n",
      "R^2 Sscore of model:  0.17170583991386623\n"
     ]
    },
    {
     "data": {
      "text/plain": [
       "GridSearchCV(estimator=Pipeline(steps=[('clf',\n",
       "                                        RandomForestRegressor(random_state=42))]),\n",
       "             param_grid={'clf__ccp_alpha': [0],\n",
       "                         'clf__criterion': ['mse', 'friedman_mse'],\n",
       "                         'clf__max_depth': [3, 5, 10],\n",
       "                         'clf__max_features': [None, 20, 10],\n",
       "                         'clf__min_samples_leaf': [595, 1000, 100]})"
      ]
     },
     "execution_count": 78,
     "metadata": {},
     "output_type": "execute_result"
    }
   ],
   "source": [
    "param_grid={'clf__ccp_alpha': [0],\n",
    "            'clf__criterion': ['mse', 'friedman_mse'],\n",
    "            'clf__max_depth': [3, 5, 10],\n",
    "            'clf__max_features': [None, 20, 10],\n",
    "            'clf__min_samples_leaf': [680, 1000, 100]}\n",
    "help_steps = ['has_reward', 'has_active_reward']\n",
    "final = 'passive_reward_amount'\n",
    "model2, y_pred , mape, r2 = train_evaluate_intermediate_step(train_features_offers, target_features_offers,help_steps, final,'StarbucksCleanedDataPerson', model = 'RandomForestRegressor', verbose = 1, cv = 5, param_grid = param_grid)"
   ]
  },
  {
   "cell_type": "markdown",
   "metadata": {},
   "source": [
    "#### Model improvements with RandomForestClassifier - R2 is 0.131\n",
    "predicting intermediate features'has_passive_reward' and using them as new input variables"
   ]
  },
  {
   "cell_type": "code",
   "execution_count": 10,
   "metadata": {},
   "outputs": [
    {
     "name": "stdout",
     "output_type": "stream",
     "text": [
      "Predict classify help columns has_passive_reward\n",
      "generating pipeline\n",
      "{'clf__max_depth': 10, 'clf__min_samples_leaf': 1, 'clf__n_estimators': 100}\n",
      "              precision    recall  f1-score   support\n",
      "\n",
      "           0       0.71      0.83      0.76      3018\n",
      "           1       0.66      0.50      0.57      2082\n",
      "\n",
      "    accuracy                           0.69      5100\n",
      "   macro avg       0.68      0.66      0.67      5100\n",
      "weighted avg       0.69      0.69      0.68      5100\n",
      "\n",
      "{'clf__ccp_alpha': 0, 'clf__criterion': 'mse', 'clf__max_depth': 10, 'clf__max_features': None, 'clf__min_samples_leaf': 100}\n",
      "R^2 Sscore of model:  0.13089423671995448\n"
     ]
    },
    {
     "data": {
      "text/plain": [
       "GridSearchCV(estimator=Pipeline(steps=[('clf',\n",
       "                                        RandomForestRegressor(random_state=42))]),\n",
       "             param_grid={'clf__ccp_alpha': [0],\n",
       "                         'clf__criterion': ['mse', 'friedman_mse'],\n",
       "                         'clf__max_depth': [3, 5, 10],\n",
       "                         'clf__max_features': [None, 20, 10],\n",
       "                         'clf__min_samples_leaf': [595, 1000, 100]})"
      ]
     },
     "execution_count": 10,
     "metadata": {},
     "output_type": "execute_result"
    }
   ],
   "source": [
    "param_grid={'clf__ccp_alpha': [0],\n",
    "            'clf__criterion': ['mse', 'friedman_mse'],\n",
    "            'clf__max_depth': [3, 5, 10],\n",
    "            'clf__max_features': [None, 20, 10],\n",
    "            'clf__min_samples_leaf': [680, 1000, 100]}\n",
    "help_steps = ['has_passive_reward']\n",
    "final = 'passive_reward_amount'\n",
    "model2, y_pred , mape, r2 =  train_evaluate_intermediate_step(train_features_offers, target_features_offers,help_steps, final,'StarbucksCleanedDataPerson', model = 'RandomForestRegressor', verbose = 1, cv = 5, param_grid = param_grid)"
   ]
  },
  {
   "cell_type": "markdown",
   "metadata": {},
   "source": [
    "#### RandomForestRegressor with possible_reward_feature - R2 is 0.174"
   ]
  },
  {
   "cell_type": "code",
   "execution_count": 84,
   "metadata": {},
   "outputs": [
    {
     "name": "stdout",
     "output_type": "stream",
     "text": [
      "Regression prediction  ['passive_reward_amount']\n",
      "{'clf__ccp_alpha': 0, 'clf__criterion': 'mse', 'clf__max_depth': 10, 'clf__max_features': None, 'clf__min_samples_leaf': 100}\n",
      "R^2 Sscore of model:  0.17438012807394054\n"
     ]
    },
    {
     "data": {
      "text/plain": [
       "GridSearchCV(estimator=Pipeline(steps=[('clf',\n",
       "                                        RandomForestRegressor(random_state=42))]),\n",
       "             param_grid={'clf__ccp_alpha': [0],\n",
       "                         'clf__criterion': ['mse', 'friedman_mse'],\n",
       "                         'clf__max_depth': [3, 5, 10],\n",
       "                         'clf__max_features': [None, 20, 10],\n",
       "                         'clf__min_samples_leaf': [680, 1000, 100]})"
      ]
     },
     "execution_count": 84,
     "metadata": {},
     "output_type": "execute_result"
    }
   ],
   "source": [
    "param_grid={'clf__ccp_alpha': [0],\n",
    "            'clf__criterion': ['mse', 'friedman_mse'],\n",
    "            'clf__max_depth': [3, 5, 10],\n",
    "            'clf__max_features': [None, 20, 10],\n",
    "            'clf__min_samples_leaf': [680, 1000, 100]}\n",
    "model2, y_pred , mape, r2 = train_evaluate(train_features_offers, 'passive_reward_amount', 'StarbucksCleanedDataPerson', model = 'RandomForestRegressor', verbose = 1, cv = 5, param_grid = param_grid)"
   ]
  },
  {
   "cell_type": "markdown",
   "metadata": {},
   "source": [
    "#### Model improvements with RandomForestClassifier - R2 is 0.175\n",
    "predicting intermediate features'has_passive_reward' and using them as new input variables"
   ]
  },
  {
   "cell_type": "code",
   "execution_count": 91,
   "metadata": {},
   "outputs": [
    {
     "name": "stdout",
     "output_type": "stream",
     "text": [
      "Predict classify help columns has_reward\n",
      "generating pipeline\n",
      "{'clf__max_depth': 10, 'clf__min_samples_leaf': 1, 'clf__n_estimators': 100}\n",
      "              precision    recall  f1-score   support\n",
      "\n",
      "           0       0.73      0.31      0.44      1292\n",
      "           1       0.80      0.96      0.88      3808\n",
      "\n",
      "    accuracy                           0.80      5100\n",
      "   macro avg       0.77      0.64      0.66      5100\n",
      "weighted avg       0.79      0.80      0.76      5100\n",
      "\n",
      "Predict classify help columns has_active_reward\n",
      "generating pipeline\n",
      "{'clf__max_depth': 10, 'clf__min_samples_leaf': 1, 'clf__n_estimators': 50}\n",
      "              precision    recall  f1-score   support\n",
      "\n",
      "           0       0.74      0.37      0.49      1637\n",
      "           1       0.76      0.94      0.84      3463\n",
      "\n",
      "    accuracy                           0.75      5100\n",
      "   macro avg       0.75      0.65      0.66      5100\n",
      "weighted avg       0.75      0.75      0.73      5100\n",
      "\n",
      "{'clf__ccp_alpha': 0, 'clf__criterion': 'mse', 'clf__max_depth': 10, 'clf__max_features': None, 'clf__min_samples_leaf': 100}\n",
      "R^2 Sscore of model:  0.17451545165176374\n"
     ]
    },
    {
     "data": {
      "text/plain": [
       "GridSearchCV(estimator=Pipeline(steps=[('clf',\n",
       "                                        RandomForestRegressor(random_state=42))]),\n",
       "             param_grid={'clf__ccp_alpha': [0],\n",
       "                         'clf__criterion': ['mse', 'friedman_mse'],\n",
       "                         'clf__max_depth': [3, 5, 10],\n",
       "                         'clf__max_features': [None, 20, 10],\n",
       "                         'clf__min_samples_leaf': [595, 1000, 100]})"
      ]
     },
     "execution_count": 91,
     "metadata": {},
     "output_type": "execute_result"
    }
   ],
   "source": [
    "param_grid={'clf__ccp_alpha': [0],\n",
    "            'clf__criterion': ['mse', 'friedman_mse'],\n",
    "            'clf__max_depth': [3, 5, 10],\n",
    "            'clf__max_features': [None, 20, 10],\n",
    "            'clf__min_samples_leaf': [680, 1000, 100]}\n",
    "help_steps = ['has_reward', 'has_active_reward']\n",
    "final = 'passive_reward_amount'\n",
    "model2, y_pred , mape, r2 = train_evaluate_intermediate_step(train_features_offers, target_features_offers,help_steps, final,'StarbucksCleanedDataPerson', model = 'RandomForestRegressor', verbose = 1, cv = 5, param_grid = param_grid)"
   ]
  },
  {
   "cell_type": "markdown",
   "metadata": {},
   "source": [
    "#### RandomForestRegressor with possible_reward_feature - R2 is 0.174"
   ]
  },
  {
   "cell_type": "code",
   "execution_count": 105,
   "metadata": {},
   "outputs": [
    {
     "name": "stdout",
     "output_type": "stream",
     "text": [
      "Regression prediction  ['passive_reward_amount']\n",
      "{'clf__ccp_alpha': 0, 'clf__criterion': 'mse', 'clf__max_depth': 10, 'clf__max_features': None, 'clf__min_samples_leaf': 100}\n",
      "R^2 Sscore of model:  0.1738837766951361\n"
     ]
    },
    {
     "data": {
      "text/plain": [
       "GridSearchCV(estimator=Pipeline(steps=[('clf',\n",
       "                                        RandomForestRegressor(random_state=42))]),\n",
       "             param_grid={'clf__ccp_alpha': [0],\n",
       "                         'clf__criterion': ['mse', 'friedman_mse'],\n",
       "                         'clf__max_depth': [3, 5, 10],\n",
       "                         'clf__max_features': [None, 20, 10],\n",
       "                         'clf__min_samples_leaf': [680, 1000, 100]})"
      ]
     },
     "execution_count": 105,
     "metadata": {},
     "output_type": "execute_result"
    }
   ],
   "source": [
    "param_grid={'clf__ccp_alpha': [0],\n",
    "            'clf__criterion': ['mse', 'friedman_mse'],\n",
    "            'clf__max_depth': [3, 5, 10],\n",
    "            'clf__max_features': [None, 20, 10],\n",
    "            'clf__min_samples_leaf': [680, 1000, 100]}\n",
    "model2, y_pred , mape, r2 =  train_evaluate(train_features_offers, 'passive_reward_amount', 'StarbucksCleanedDataPerson', model = 'RandomForestRegressor', verbose = 1, cv = 5, param_grid = param_grid)"
   ]
  },
  {
   "cell_type": "markdown",
   "metadata": {},
   "source": [
    "#### Kick out all reward_ features and difficulty features except of the newly created - R2 0.172"
   ]
  },
  {
   "cell_type": "code",
   "execution_count": 108,
   "metadata": {},
   "outputs": [
    {
     "name": "stdout",
     "output_type": "stream",
     "text": [
      "Regression prediction  ['passive_reward_amount']\n",
      "{'clf__ccp_alpha': 0, 'clf__criterion': 'mse', 'clf__max_depth': 10, 'clf__max_features': None, 'clf__min_samples_leaf': 100}\n",
      "R^2 Sscore of model:  0.17226336439503998\n"
     ]
    },
    {
     "data": {
      "text/plain": [
       "GridSearchCV(estimator=Pipeline(steps=[('clf',\n",
       "                                        RandomForestRegressor(random_state=42))]),\n",
       "             param_grid={'clf__ccp_alpha': [0],\n",
       "                         'clf__criterion': ['mse', 'friedman_mse'],\n",
       "                         'clf__max_depth': [3, 5, 10],\n",
       "                         'clf__max_features': [None, 20, 10],\n",
       "                         'clf__min_samples_leaf': [680, 1000, 100]})"
      ]
     },
     "execution_count": 108,
     "metadata": {},
     "output_type": "execute_result"
    }
   ],
   "source": [
    "remove = ['reward_0_count','reward_2_count', 'reward_3_count', 'reward_5_count', 'reward_10_count',\n",
    "       'difficulty_0_count','difficulty_5_count','difficulty_7_count','difficulty_10_count','difficulty_20_count']\n",
    "        \n",
    "train_features_test = [feat for feat in train_features_offers if feat not in remove]     \n",
    "model2, y_pred , mape, r2 = train_evaluate(train_features_test, 'passive_reward_amount', 'StarbucksCleanedDataPerson', model = 'RandomForestRegressor', verbose = 1, cv = 5, param_grid = param_grid)"
   ]
  },
  {
   "cell_type": "markdown",
   "metadata": {},
   "source": [
    "#### Mixed model predict has_passive_reward and multiply with the average possible reward by customer"
   ]
  },
  {
   "cell_type": "code",
   "execution_count": 123,
   "metadata": {},
   "outputs": [
    {
     "name": "stdout",
     "output_type": "stream",
     "text": [
      "generating pipeline\n",
      "{'clf__max_depth': 10, 'clf__min_samples_leaf': 1, 'clf__n_estimators': 100}\n",
      "              precision    recall  f1-score   support\n",
      "\n",
      "           0       0.70      0.81      0.75      3056\n",
      "           1       0.64      0.49      0.55      2044\n",
      "\n",
      "    accuracy                           0.68      5100\n",
      "   macro avg       0.67      0.65      0.65      5100\n",
      "weighted avg       0.68      0.68      0.67      5100\n",
      "\n"
     ]
    }
   ],
   "source": [
    "feat = 'has_passive_reward'\n",
    "X, Y= load_data('StarbucksCleanedDataPerson',  train_features_offers, ['has_passive_reward','passive_reward_amount'])\n",
    "X_train, X_test, Y_train, Y_test = train_test_split(X, Y, test_size=0.3)\n",
    "    \n",
    "\n",
    "\n",
    "clf = build_model_Classification(X_train)\n",
    "clf.fit(X_train, Y_train[feat])       \n",
    "print(clf.best_params_)\n",
    "        \n",
    "y_pred_train = clf.predict(X_train)\n",
    "y_pred_test = clf.predict(X_test)\n",
    "print(classification_report(Y_test[feat], y_pred_test))\n",
    "\n",
    "X_train = pd.concat([X_train.reset_index(), pd.DataFrame(y_pred_train,columns=['clf_' + feat])], axis = 1)\n",
    "X_train.drop(columns = 'index', inplace = True)\n"
   ]
  },
  {
   "cell_type": "code",
   "execution_count": 127,
   "metadata": {},
   "outputs": [],
   "source": [
    "X_test = pd.concat([X_test.reset_index(), pd.DataFrame(y_pred_test,columns=['clf_' + feat])], axis = 1)\n",
    "X_test.drop(columns = 'index', inplace = True)"
   ]
  },
  {
   "cell_type": "code",
   "execution_count": 146,
   "metadata": {},
   "outputs": [],
   "source": [
    "X_train['average_reward_possible'] =  (X_train.reward_2_count * 2 + X_train.reward_3_count * 3+ X_train.reward_5_count * 5 + X_train.reward_10_count * 10 )/ (X_train.reward_0_count +X_train.reward_2_count+ X_train.reward_3_count + X_train.reward_5_count  + X_train.reward_10_count )\n",
    "X_train['average_reward_possible'].fillna(0, inplace = True)"
   ]
  },
  {
   "cell_type": "code",
   "execution_count": 147,
   "metadata": {},
   "outputs": [],
   "source": [
    "Y_pred_heur = X_train.clf_has_passive_reward*X_train.average_reward_possible"
   ]
  },
  {
   "cell_type": "code",
   "execution_count": 149,
   "metadata": {},
   "outputs": [],
   "source": [
    "X_test['average_reward_possible'] =  (X_test.reward_0_count * 0 + X_test.reward_2_count * 2 + X_test.reward_3_count * 3+ X_test.reward_5_count * 5 + X_test.reward_10_count * 10 )/ (X_test.reward_0_count + X_test.reward_2_count+ X_test.reward_3_count + X_test.reward_5_count  + X_test.reward_10_count )\n",
    "X_test['average_reward_possible'].fillna(0, inplace = True)\n",
    "Y_pred_heur_test = X_test.clf_has_passive_reward*X_test.average_reward_possible"
   ]
  },
  {
   "cell_type": "code",
   "execution_count": 150,
   "metadata": {},
   "outputs": [
    {
     "data": {
      "text/plain": [
       "0.14536138485552275"
      ]
     },
     "execution_count": 150,
     "metadata": {},
     "output_type": "execute_result"
    }
   ],
   "source": [
    "r2_score(Y_train['passive_reward_amount'], Y_pred_heur)"
   ]
  },
  {
   "cell_type": "code",
   "execution_count": 151,
   "metadata": {},
   "outputs": [
    {
     "data": {
      "text/plain": [
       "-0.003002694274375939"
      ]
     },
     "execution_count": 151,
     "metadata": {},
     "output_type": "execute_result"
    }
   ],
   "source": [
    "r2_score(Y_test['passive_reward_amount'], Y_pred_heur_test)"
   ]
  },
  {
   "cell_type": "markdown",
   "metadata": {},
   "source": [
    "#### Running the prediction without age group 118"
   ]
  },
  {
   "cell_type": "code",
   "execution_count": 17,
   "metadata": {},
   "outputs": [],
   "source": [
    "feat = 'has_passive_reward'\n",
    "filename = 'StarbucksCleanedDataPerson'\n",
    "engine = create_engine('sqlite:///output/' + filename+'.db')\n",
    "df = pd.read_sql_table(filename, engine)\n",
    "X = df[df.age_bucket!=118][train_features_offers]\n",
    "Y = df[df.age_bucket!=118]['passive_reward_amount']\n",
    "X_train, X_test, Y_train, Y_test = train_test_split(X, Y, test_size=0.3)"
   ]
  },
  {
   "cell_type": "code",
   "execution_count": 19,
   "metadata": {},
   "outputs": [
    {
     "name": "stdout",
     "output_type": "stream",
     "text": [
      "{'clf__ccp_alpha': 0, 'clf__criterion': 'mse', 'clf__max_depth': 10, 'clf__max_features': None, 'clf__min_samples_leaf': 100}\n"
     ]
    }
   ],
   "source": [
    "clf = build_model_Regression(X_train)\n",
    "clf.fit(X_train, Y_train)       \n",
    "print(clf.best_params_)\n",
    "        \n",
    "y_pred_train = clf.predict(X_train)\n",
    "y_pred_test = clf.predict(X_test)"
   ]
  },
  {
   "cell_type": "code",
   "execution_count": 23,
   "metadata": {},
   "outputs": [
    {
     "data": {
      "text/plain": [
       "0.13618549269792246"
      ]
     },
     "execution_count": 23,
     "metadata": {},
     "output_type": "execute_result"
    }
   ],
   "source": [
    "r2_score(Y_test, y_pred_test)"
   ]
  },
  {
   "cell_type": "code",
   "execution_count": 24,
   "metadata": {},
   "outputs": [
    {
     "name": "stdout",
     "output_type": "stream",
     "text": [
      "{'clf__ccp_alpha': 0, 'clf__criterion': 'mse', 'clf__max_depth': 5, 'clf__max_features': 10, 'clf__min_samples_leaf': 76}\n"
     ]
    },
    {
     "data": {
      "text/plain": [
       "0.027800813623823584"
      ]
     },
     "execution_count": 24,
     "metadata": {},
     "output_type": "execute_result"
    }
   ],
   "source": [
    "feat = 'has_passive_reward'\n",
    "filename = 'StarbucksCleanedDataPerson'\n",
    "engine = create_engine('sqlite:///output/' + filename+'.db')\n",
    "df = pd.read_sql_table(filename, engine)\n",
    "X = df[df.age_bucket==118][train_features_offers]\n",
    "Y = df[df.age_bucket==118]['passive_reward_amount']\n",
    "X_train, X_test, Y_train, Y_test = train_test_split(X, Y, test_size=0.3)\n",
    "clf = build_model_Regression(X_train)\n",
    "clf.fit(X_train, Y_train)       \n",
    "print(clf.best_params_)\n",
    "        \n",
    "y_pred_train = clf.predict(X_train)\n",
    "y_pred_test = clf.predict(X_test)\n",
    "r2_score(Y_test, y_pred_test)"
   ]
  },
  {
   "cell_type": "markdown",
   "metadata": {},
   "source": [
    "### Regression on data grouped by customer and offer id - This data has far more rows, but is more sparse"
   ]
  },
  {
   "cell_type": "code",
   "execution_count": 91,
   "metadata": {},
   "outputs": [],
   "source": [
    "#Should I create a dummy with offer id?\n",
    "train_features_person_offer =['reward_0_count', 'reward_2_count', 'reward_3_count', 'reward_5_count','reward_10_count', 'gender_F',\n",
    "               'gender_M', 'gender_O', 'gender_nan', 'age_bucket_0', 'age_bucket_1',\n",
    "               'age_bucket_2', 'age_bucket_3', 'age_bucket_4', 'age_bucket_5',\n",
    "                 'age_bucket_6', 'age_bucket_7', 'age_bucket_8', 'age_bucket_9',\n",
    "                 'age_bucket_118',\n",
    "                 'income_bucket_(29999.999, 38000.0]',\n",
    "                 'income_bucket_(38000.0, 46000.0]',\n",
    "                 'income_bucket_(46000.0, 53000.0]','income_bucket_(53000.0, 59000.0]',\n",
    "                 'income_bucket_(59000.0, 65000.0]','income_bucket_(65000.0, 71000.0]',\n",
    "                 'income_bucket_(71000.0, 77000.0]',\n",
    "                 'income_bucket_(77000.0, 86000.0]',\n",
    "                 'income_bucket_(86000.0, 97000.0]',\n",
    "                'income_bucket_(97000.0, 120000.0]', 'income_bucket_nan',\n",
    "               'difficulty_0_count','difficulty_5_count','difficulty_7_count','difficulty_10_count','difficulty_20_count',\n",
    "               'membership_start_year_2013', 'membership_start_year_2014',\n",
    "               'membership_start_year_2015', 'membership_start_year_2016',\n",
    "               'membership_start_year_2017', 'membership_start_year_2018']\n",
    "\n",
    "target_features_person_offer = ['passive_sum', 'active_sum',\n",
    "       'active_reward_amount', 'passive_reward_amount',\n",
    "       'has_passive_reward', 'has_active_reward', 'has_reward']"
   ]
  },
  {
   "cell_type": "markdown",
   "metadata": {},
   "source": [
    "#### DecisionTreeRegressor - R2 is 0.129"
   ]
  },
  {
   "cell_type": "code",
   "execution_count": 89,
   "metadata": {},
   "outputs": [
    {
     "name": "stdout",
     "output_type": "stream",
     "text": [
      "Regression prediction  ['passive_reward_amount']\n",
      "{'clf__criterion': 'mse', 'clf__max_depth': 10, 'clf__max_features': None, 'clf__min_samples_leaf': 100}\n",
      "R^2 Sscore of model:  0.12810208889796626\n"
     ]
    },
    {
     "data": {
      "text/plain": [
       "GridSearchCV(estimator=Pipeline(steps=[('clf',\n",
       "                                        DecisionTreeRegressor(random_state=42))]),\n",
       "             param_grid={'clf__criterion': ['mse', 'friedman_mse'],\n",
       "                         'clf__max_depth': [3, 5, 10],\n",
       "                         'clf__max_features': [None, 20, 10],\n",
       "                         'clf__min_samples_leaf': [4128, 1000, 100]})"
      ]
     },
     "execution_count": 89,
     "metadata": {},
     "output_type": "execute_result"
    }
   ],
   "source": [
    "model2, y_pred , mape, r2 =  train_evaluate(train_features_person_offer, 'passive_reward_amount', 'StarbucksCleanedDataPersonOffer', model = 'DecisionTreeRegressor', verbose = 1, cv = 5, param_grid = param_grid)"
   ]
  },
  {
   "cell_type": "markdown",
   "metadata": {},
   "source": [
    "#### RandomForestRegressor - R2 is 0.139"
   ]
  },
  {
   "cell_type": "code",
   "execution_count": 92,
   "metadata": {},
   "outputs": [
    {
     "name": "stdout",
     "output_type": "stream",
     "text": [
      "Regression prediction  ['passive_reward_amount']\n",
      "{'clf__ccp_alpha': 0, 'clf__criterion': 'mse', 'clf__max_depth': 10, 'clf__max_features': 20, 'clf__min_samples_leaf': 100}\n",
      "R^2 Sscore of model:  0.1392037128758019\n"
     ]
    },
    {
     "data": {
      "text/plain": [
       "GridSearchCV(estimator=Pipeline(steps=[('clf',\n",
       "                                        RandomForestRegressor(random_state=42))]),\n",
       "             param_grid={'clf__ccp_alpha': [0],\n",
       "                         'clf__criterion': ['mse', 'friedman_mse'],\n",
       "                         'clf__max_depth': [3, 5, 10],\n",
       "                         'clf__max_features': [None, 20, 10],\n",
       "                         'clf__min_samples_leaf': [4128, 1000, 100]})"
      ]
     },
     "execution_count": 92,
     "metadata": {},
     "output_type": "execute_result"
    }
   ],
   "source": [
    "model2, y_pred , mape, r2 =  train_evaluate(train_features_person_offer, 'passive_reward_amount', 'StarbucksCleanedDataPersonOffer', model = 'RandomForestRegressor', verbose = 1, cv = 5, param_grid = param_grid)"
   ]
  },
  {
   "cell_type": "markdown",
   "metadata": {},
   "source": [
    "#### Model Improvements with RandomForestRegressor - R2 is 0.128\n",
    "predicting intermediate features 'has_reward', 'has_passive_reward' and using them as new input variables"
   ]
  },
  {
   "cell_type": "code",
   "execution_count": 80,
   "metadata": {},
   "outputs": [
    {
     "name": "stdout",
     "output_type": "stream",
     "text": [
      "Predict classify help columns has_reward\n",
      "generating pipeline\n",
      "{'clf__max_depth': 10, 'clf__min_samples_leaf': 1, 'clf__n_estimators': 100}\n",
      "              precision    recall  f1-score   support\n",
      "\n",
      "           0       0.89      0.86      0.87     20981\n",
      "           1       0.72      0.77      0.74      9986\n",
      "\n",
      "    accuracy                           0.83     30967\n",
      "   macro avg       0.80      0.81      0.81     30967\n",
      "weighted avg       0.83      0.83      0.83     30967\n",
      "\n",
      "Predict classify help columns has_passive_reward\n",
      "generating pipeline\n",
      "{'clf__max_depth': 10, 'clf__min_samples_leaf': 1, 'clf__n_estimators': 100}\n",
      "              precision    recall  f1-score   support\n",
      "\n",
      "           0       0.91      1.00      0.95     27991\n",
      "           1       0.62      0.03      0.05      2976\n",
      "\n",
      "    accuracy                           0.90     30967\n",
      "   macro avg       0.76      0.51      0.50     30967\n",
      "weighted avg       0.88      0.90      0.86     30967\n",
      "\n",
      "{'clf__ccp_alpha': 0, 'clf__criterion': 'mse', 'clf__max_depth': 10, 'clf__max_features': 10, 'clf__min_samples_leaf': 100}\n",
      "R^2 Sscore of model:  0.1281403801609845\n"
     ]
    },
    {
     "data": {
      "text/plain": [
       "GridSearchCV(estimator=Pipeline(steps=[('clf',\n",
       "                                        RandomForestRegressor(random_state=42))]),\n",
       "             param_grid={'clf__ccp_alpha': [0],\n",
       "                         'clf__criterion': ['mse', 'friedman_mse'],\n",
       "                         'clf__max_depth': [3, 5, 10],\n",
       "                         'clf__max_features': [None, 20, 10],\n",
       "                         'clf__min_samples_leaf': [3612, 1000, 100]})"
      ]
     },
     "execution_count": 80,
     "metadata": {},
     "output_type": "execute_result"
    }
   ],
   "source": [
    "help_steps = ['has_reward', 'has_passive_reward']\n",
    "final = 'passive_reward_amount'\n",
    "model2, y_pred , mape, r2 =  train_evaluate_intermediate_step(train_features_person_offer, target_features_person_offer,help_steps, final, 'StarbucksCleanedDataPersonOffer', model = 'RandomForestRegressor', verbose = 1, cv = 5, param_grid = param_grid)"
   ]
  },
  {
   "cell_type": "markdown",
   "metadata": {},
   "source": [
    "#### Model Improvements with RandomForestRegressor - R2 is 0.129\n",
    "predicting intermediate features 'has_reward', 'has_active_reward' and using them as new input variables"
   ]
  },
  {
   "cell_type": "code",
   "execution_count": 81,
   "metadata": {},
   "outputs": [
    {
     "name": "stdout",
     "output_type": "stream",
     "text": [
      "Predict classify help columns has_reward\n",
      "generating pipeline\n",
      "{'clf__max_depth': 10, 'clf__min_samples_leaf': 1, 'clf__n_estimators': 100}\n",
      "              precision    recall  f1-score   support\n",
      "\n",
      "           0       0.89      0.86      0.88     21003\n",
      "           1       0.73      0.78      0.75      9964\n",
      "\n",
      "    accuracy                           0.84     30967\n",
      "   macro avg       0.81      0.82      0.81     30967\n",
      "weighted avg       0.84      0.84      0.84     30967\n",
      "\n",
      "Predict classify help columns has_active_reward\n",
      "generating pipeline\n",
      "{'clf__max_depth': 10, 'clf__min_samples_leaf': 1, 'clf__n_estimators': 100}\n",
      "              precision    recall  f1-score   support\n",
      "\n",
      "           0       0.86      0.91      0.88     23939\n",
      "           1       0.62      0.49      0.55      7028\n",
      "\n",
      "    accuracy                           0.82     30967\n",
      "   macro avg       0.74      0.70      0.72     30967\n",
      "weighted avg       0.81      0.82      0.81     30967\n",
      "\n",
      "{'clf__ccp_alpha': 0, 'clf__criterion': 'mse', 'clf__max_depth': 10, 'clf__max_features': 20, 'clf__min_samples_leaf': 100}\n",
      "R^2 Sscore of model:  0.1386202043735386\n"
     ]
    },
    {
     "data": {
      "text/plain": [
       "GridSearchCV(estimator=Pipeline(steps=[('clf',\n",
       "                                        RandomForestRegressor(random_state=42))]),\n",
       "             param_grid={'clf__ccp_alpha': [0],\n",
       "                         'clf__criterion': ['mse', 'friedman_mse'],\n",
       "                         'clf__max_depth': [3, 5, 10],\n",
       "                         'clf__max_features': [None, 20, 10],\n",
       "                         'clf__min_samples_leaf': [3612, 1000, 100]})"
      ]
     },
     "execution_count": 81,
     "metadata": {},
     "output_type": "execute_result"
    }
   ],
   "source": [
    "help_steps = ['has_reward', 'has_active_reward']\n",
    "final = 'passive_reward_amount'\n",
    "model2, y_pred , mape, r2 =  train_evaluate_intermediate_step(train_features, target_features,help_steps, final, 'StarbucksCleanedDataPersonOffer', model = 'RandomForestRegressor', verbose = 1, cv = 5, param_grid = param_grid)"
   ]
  },
  {
   "cell_type": "markdown",
   "metadata": {},
   "source": [
    "#### DecisionTreeRegressor Plots "
   ]
  },
  {
   "cell_type": "code",
   "execution_count": 83,
   "metadata": {},
   "outputs": [
    {
     "data": {
      "text/plain": [
       "DecisionTreeRegressor(max_depth=5, min_samples_leaf=100)"
      ]
     },
     "execution_count": 83,
     "metadata": {},
     "output_type": "execute_result"
    }
   ],
   "source": [
    "TREE_PARAS = {'criterion': 'mse', \n",
    "             'max_depth': 5, \n",
    "            'max_features': None, \n",
    "            'min_samples_leaf': 100}\n",
    "dtree = DecisionTreeRegressor(**TREE_PARAS)\n",
    "X, Y= load_data('StarbucksCleanedDataPersonOffer', train_features, 'passive_reward_amount')\n",
    "X_train, X_test, Y_train, Y_test = train_test_split(X, Y, test_size=0.2)\n",
    "dtree.fit(X_train, Y_train)"
   ]
  },
  {
   "cell_type": "code",
   "execution_count": 84,
   "metadata": {},
   "outputs": [
    {
     "data": {
      "image/png": "[encoded data removed]",
      "text/plain": [
       "<Figure size 2880x1440 with 1 Axes>"
      ]
     },
     "metadata": {
      "needs_background": "light"
     },
     "output_type": "display_data"
    }
   ],
   "source": [
    "fig = plt.subplots(figsize = (40,20))\n",
    "plt.title('DecisionTreeRegressor on grouped datat by person and by offer')\n",
    "tree.plot_tree(dtree, filled=True, feature_names=train_features, fontsize = 7)\n",
    "plt.savefig('images/RegressionPersonOffer.png')#, dpi=100"
   ]
  },
  {
   "cell_type": "code",
   "execution_count": 85,
   "metadata": {},
   "outputs": [
    {
     "name": "stdout",
     "output_type": "stream",
     "text": [
      "|--- reward_5_count <= 0.50\n",
      "|   |--- reward_10_count <= 0.50\n",
      "|   |   |--- difficulty_10_count <= 0.50\n",
      "|   |   |   |--- difficulty_7_count <= 0.50\n",
      "|   |   |   |   |--- reward_0_count <= 0.50\n",
      "|   |   |   |   |   |--- value: [0.00]\n",
      "|   |   |   |   |--- reward_0_count >  0.50\n",
      "|   |   |   |   |   |--- value: [0.00]\n",
      "|   |   |   |--- difficulty_7_count >  0.50\n",
      "|   |   |   |   |--- gender_nan <= 0.50\n",
      "|   |   |   |   |   |--- value: [0.34]\n",
      "|   |   |   |   |--- gender_nan >  0.50\n",
      "|   |   |   |   |   |--- value: [0.03]\n",
      "|   |   |--- difficulty_10_count >  0.50\n",
      "|   |   |   |--- income_bucket_nan <= 0.50\n",
      "|   |   |   |   |--- membership_start_year_2018 <= 0.50\n",
      "|   |   |   |   |   |--- value: [0.42]\n",
      "|   |   |   |   |--- membership_start_year_2018 >  0.50\n",
      "|   |   |   |   |   |--- value: [0.24]\n",
      "|   |   |   |--- income_bucket_nan >  0.50\n",
      "|   |   |   |   |--- membership_start_year_2018 <= 0.50\n",
      "|   |   |   |   |   |--- value: [0.05]\n",
      "|   |   |   |   |--- membership_start_year_2018 >  0.50\n",
      "|   |   |   |   |   |--- value: [0.01]\n",
      "|   |--- reward_10_count >  0.50\n",
      "|   |   |--- income_bucket_nan <= 0.50\n",
      "|   |   |   |--- income_bucket_(97000.0, 120000.0] <= 0.50\n",
      "|   |   |   |   |--- income_bucket_(86000.0, 97000.0] <= 0.50\n",
      "|   |   |   |   |   |--- value: [0.99]\n",
      "|   |   |   |   |--- income_bucket_(86000.0, 97000.0] >  0.50\n",
      "|   |   |   |   |   |--- value: [2.23]\n",
      "|   |   |   |--- income_bucket_(97000.0, 120000.0] >  0.50\n",
      "|   |   |   |   |--- membership_start_year_2016 <= 0.50\n",
      "|   |   |   |   |   |--- value: [2.10]\n",
      "|   |   |   |   |--- membership_start_year_2016 >  0.50\n",
      "|   |   |   |   |   |--- value: [2.71]\n",
      "|   |   |--- income_bucket_nan >  0.50\n",
      "|   |   |   |--- membership_start_year_2018 <= 0.50\n",
      "|   |   |   |   |--- membership_start_year_2017 <= 0.50\n",
      "|   |   |   |   |   |--- value: [0.00]\n",
      "|   |   |   |   |--- membership_start_year_2017 >  0.50\n",
      "|   |   |   |   |   |--- value: [0.02]\n",
      "|   |   |   |--- membership_start_year_2018 >  0.50\n",
      "|   |   |   |   |--- value: [0.03]\n",
      "|--- reward_5_count >  0.50\n",
      "|   |--- age_bucket_118 <= 0.50\n",
      "|   |   |--- membership_start_year_2018 <= 0.50\n",
      "|   |   |   |--- difficulty_5_count <= 0.50\n",
      "|   |   |   |   |--- income_bucket_(97000.0, 120000.0] <= 0.50\n",
      "|   |   |   |   |   |--- value: [1.56]\n",
      "|   |   |   |   |--- income_bucket_(97000.0, 120000.0] >  0.50\n",
      "|   |   |   |   |   |--- value: [3.09]\n",
      "|   |   |   |--- difficulty_5_count >  0.50\n",
      "|   |   |   |   |--- gender_F <= 0.50\n",
      "|   |   |   |   |   |--- value: [1.09]\n",
      "|   |   |   |   |--- gender_F >  0.50\n",
      "|   |   |   |   |   |--- value: [1.36]\n",
      "|   |   |--- membership_start_year_2018 >  0.50\n",
      "|   |   |   |--- income_bucket_(97000.0, 120000.0] <= 0.50\n",
      "|   |   |   |   |--- gender_M <= 0.50\n",
      "|   |   |   |   |   |--- value: [1.01]\n",
      "|   |   |   |   |--- gender_M >  0.50\n",
      "|   |   |   |   |   |--- value: [0.61]\n",
      "|   |   |   |--- income_bucket_(97000.0, 120000.0] >  0.50\n",
      "|   |   |   |   |--- value: [1.89]\n",
      "|   |--- age_bucket_118 >  0.50\n",
      "|   |   |--- difficulty_5_count <= 0.50\n",
      "|   |   |   |--- membership_start_year_2017 <= 0.50\n",
      "|   |   |   |   |--- membership_start_year_2018 <= 0.50\n",
      "|   |   |   |   |   |--- value: [0.06]\n",
      "|   |   |   |   |--- membership_start_year_2018 >  0.50\n",
      "|   |   |   |   |   |--- value: [0.00]\n",
      "|   |   |   |--- membership_start_year_2017 >  0.50\n",
      "|   |   |   |   |--- value: [0.11]\n",
      "|   |   |--- difficulty_5_count >  0.50\n",
      "|   |   |   |--- membership_start_year_2018 <= 0.50\n",
      "|   |   |   |   |--- membership_start_year_2015 <= 0.50\n",
      "|   |   |   |   |   |--- value: [0.36]\n",
      "|   |   |   |   |--- membership_start_year_2015 >  0.50\n",
      "|   |   |   |   |   |--- value: [0.19]\n",
      "|   |   |   |--- membership_start_year_2018 >  0.50\n",
      "|   |   |   |   |--- value: [0.17]\n",
      "\n"
     ]
    }
   ],
   "source": [
    "print(tree.export_text(dtree,feature_names=train_features ))"
   ]
  },
  {
   "cell_type": "code",
   "execution_count": 86,
   "metadata": {},
   "outputs": [
    {
     "data": {
      "text/plain": [
       "Text(0.5, 1.0, 'Feature importances')"
      ]
     },
     "execution_count": 86,
     "metadata": {},
     "output_type": "execute_result"
    },
    {
     "data": {
      "image/png": "[encoded data removed]",
      "text/plain": [
       "<Figure size 2160x1440 with 1 Axes>"
      ]
     },
     "metadata": {
      "needs_background": "light"
     },
     "output_type": "display_data"
    }
   ],
   "source": [
    "\n",
    "fig = plt.subplots(figsize = (30,20))\n",
    "sorted_idx = dtree.feature_importances_.argsort()\n",
    "plt.barh([train_features[i] for i in sorted_idx], dtree.feature_importances_[sorted_idx])\n",
    "ax.set_title(\"Feature importances\")\n"
   ]
  },
  {
   "cell_type": "code",
   "execution_count": 87,
   "metadata": {},
   "outputs": [],
   "source": [
    "\n",
    "#X_train.loc[:,'leaf'] = dtree.apply(X_train[train_features])"
   ]
  },
  {
   "cell_type": "markdown",
   "metadata": {},
   "source": [
    "# Findings"
   ]
  },
  {
   "cell_type": "markdown",
   "metadata": {},
   "source": [
    "Both Dataframes enable us to run a decision tree and to identify the groups with the highest loss.\n",
    "The highest passive losses are generated by the people with the highest income. Apparently they do not view the offer and purchase anyway \n",
    "\n",
    "1. **Decision tree grouped by person**\n",
    "* Example 1: Certain leaves have very high passive rewards per person (6Dollar - 8Dollar)\n",
    "    * e.g. age_bucket not like 118 (which means the age is known)\n",
    "    * bogo_count>=2 (which mens that the person received at least 2 bogo offers during the testing period)\n",
    "    * income_bucket is > = (96000-12000) (which means that it is high income customers)\n",
    "    * Id received = 0b1e1539f2cc45b7b9fa7c272da2e1d7 (Discount offer with 20 difficulty and 10 duration)\n",
    "    \n",
    "* Example 2: \n",
    "    * age_bucket not like 118 (which means the age is known)\n",
    "    * bogo_count>=2 (which mens that the person received at least 2 bogo offers during the testing period)\n",
    "    * income_bucket is < = (96000-12000) (which means that it is high income customers)\n",
    "    * Is female\n",
    "    * Received 9b98b8c7a33c4b65b9aebfe6a799e6d9 (bogo offer with 5 difficulty and 7 duration)\n",
    "\n",
    "2. **Decision tree grouped by person and offer**\n",
    "* Example 1: \n",
    "    * Offer is not reward_5 offer\n",
    "    * Offer is reward_10 offer\n",
    "    * Income bucket is known\n",
    "    * Income is > = (96000-12000)\n"
   ]
  },
  {
   "cell_type": "code",
   "execution_count": null,
   "metadata": {},
   "outputs": [],
   "source": [
    "portfolio[['id', 'offer_type', 'reward', 'duration', 'difficulty']].drop_duplicates()"
   ]
  },
  {
   "cell_type": "code",
   "execution_count": null,
   "metadata": {},
   "outputs": [],
   "source": [
    "grouping_person_offer.columns"
   ]
  },
  {
   "cell_type": "markdown",
   "metadata": {},
   "source": [
    "### Which offer drives most revenue? (Passive and active)\n",
    "* Offer fafdcd668e3743c1bb461111dcafc2a4 had the highest active revenue 87934.252500: discount,amount(2),duration(10), difficulty(10)\n",
    "* Offer 0b1e1539f2cc45b7b9fa7c272da2e1d7 had by far the highest passive revenue 71708.085000: discount,amount(5),duration(10), difficulty(20)"
   ]
  },
  {
   "cell_type": "code",
   "execution_count": null,
   "metadata": {},
   "outputs": [],
   "source": [
    "grouping_person_offer.groupby('offer_id')[['active_sum', 'passive_sum','active_reward_amount', 'passive_reward_amount']].sum().sort_values(by = 'active_sum', ascending = False)"
   ]
  },
  {
   "cell_type": "markdown",
   "metadata": {},
   "source": [
    "### Which offer costs most? (Passive rewards and active rewards)?\n",
    "* Offer 4d5c57ea9a6940dd891ad53e9dbe8da0 had the highest active reward 27590.0: bog,amount(10),duration(5), difficulty(10)\n",
    "* Offer 9b98b8c7a33c4b65b9aebfe6a799e6d9 had  far the highest passive reward 11150.0: bogo, amount(5), duration(7), difficulty(5)"
   ]
  },
  {
   "cell_type": "code",
   "execution_count": null,
   "metadata": {},
   "outputs": [],
   "source": [
    "portfolio = pd.read_json('data/portfolio.json', orient='records', lines=True)\n",
    "portfolio[['id', 'offer_type', 'reward', 'duration', 'difficulty']].drop_duplicates()"
   ]
  },
  {
   "cell_type": "code",
   "execution_count": null,
   "metadata": {},
   "outputs": [],
   "source": [
    "grouping_person_offer.active_transaction.sum()"
   ]
  },
  {
   "cell_type": "code",
   "execution_count": null,
   "metadata": {},
   "outputs": [],
   "source": []
  },
  {
   "cell_type": "code",
   "execution_count": null,
   "metadata": {},
   "outputs": [],
   "source": []
  },
  {
   "cell_type": "code",
   "execution_count": null,
   "metadata": {},
   "outputs": [],
   "source": []
  },
  {
   "cell_type": "code",
   "execution_count": null,
   "metadata": {},
   "outputs": [],
   "source": []
  },
  {
   "cell_type": "code",
   "execution_count": null,
   "metadata": {},
   "outputs": [],
   "source": []
  },
  {
   "cell_type": "code",
   "execution_count": null,
   "metadata": {},
   "outputs": [],
   "source": []
  },
  {
   "cell_type": "code",
   "execution_count": null,
   "metadata": {},
   "outputs": [],
   "source": []
  }
 ],
 "metadata": {
  "kernelspec": {
   "display_name": "Python 3",
   "language": "python",
   "name": "python3"
  },
  "language_info": {
   "codemirror_mode": {
    "name": "ipython",
    "version": 3
   },
   "file_extension": ".py",
   "mimetype": "text/x-python",
   "name": "python",
   "nbconvert_exporter": "python",
   "pygments_lexer": "ipython3",
   "version": "3.7.2"
  },
  "nbTranslate": {
   "displayLangs": [
    "*"
   ],
   "hotkey": "alt-t",
   "langInMainMenu": true,
   "sourceLang": "en",
   "targetLang": "fr",
   "useGoogleTranslate": true
  },
  "toc": {
   "base_numbering": 1,
   "nav_menu": {},
   "number_sections": true,
   "sideBar": true,
   "skip_h1_title": false,
   "title_cell": "Table of Contents",
   "title_sidebar": "Contents",
   "toc_cell": false,
   "toc_position": {},
   "toc_section_display": true,
   "toc_window_display": false
  }
 },
 "nbformat": 4,
 "nbformat_minor": 2
}
